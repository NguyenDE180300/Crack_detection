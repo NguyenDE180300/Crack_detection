{
 "cells": [
  {
   "cell_type": "code",
   "execution_count": 8,
   "id": "353f1da8",
   "metadata": {},
   "outputs": [
    {
     "name": "stdout",
     "output_type": "stream",
     "text": [
      "Using device: cuda\n"
     ]
    }
   ],
   "source": [
    "import os\n",
    "import numpy as np\n",
    "import cv2\n",
    "import random\n",
    "import matplotlib.pyplot as plt\n",
    "\n",
    "import torch\n",
    "import torch.nn as nn\n",
    "import torch.nn.functional as F\n",
    "from torch.utils.data import Dataset, DataLoader\n",
    "from transformers import SwinModel\n",
    "from transformers.models.swin.modeling_swin import SwinLayer\n",
    "\n",
    "import albumentations as A\n",
    "from albumentations.pytorch import ToTensorV2\n",
    "from tqdm import tqdm\n",
    "\n",
    "import torch\n",
    "import torch.nn as nn\n",
    "from transformers.models.swin.modeling_swin import SwinPatchEmbeddings, SwinPatchMerging, SwinLayer\n",
    "from transformers import SwinConfig\n",
    "from typing import Tuple, Optional\n",
    "# --- Cài đặt tham số cố định ---\n",
    "IMG_SIZE = 320 \n",
    "NUM_EPOCHS = 200\n",
    "LEARNING_RATE = 1e-4\n",
    "SEED = 42\n",
    "BATCH_SIZE = 2\n",
    "def set_seed(seed=42):\n",
    "    np.random.seed(seed)\n",
    "    random.seed(seed)\n",
    "    torch.manual_seed(seed)\n",
    "    if torch.cuda.is_available():\n",
    "        torch.cuda.manual_seed(seed)\n",
    "        torch.cuda.manual_seed_all(seed)\n",
    "        torch.backends.cudnn.deterministic = True\n",
    "        torch.backends.cudnn.benchmark = False\n",
    "\n",
    "set_seed(SEED)\n",
    "\n",
    "DEVICE = torch.device(\"cuda\" if torch.cuda.is_available() else \"cpu\")\n",
    "print(f\"Using device: {DEVICE}\")\n",
    "\n",
    "# --- Đường dẫn dữ liệu (Thay đổi nếu cần) ---\n",
    "train_img_dir = r'C:\\Users\\Admin\\Documents\\Python Project\\DPL Crack detection\\UDTIRI-Crack Detection\\train\\image'\n",
    "train_mask_dir = r'C:\\Users\\Admin\\Documents\\Python Project\\DPL Crack detection\\UDTIRI-Crack Detection\\train\\label'\n",
    "val_img_dir = r'C:\\Users\\Admin\\Documents\\Python Project\\DPL Crack detection\\UDTIRI-Crack Detection\\val\\image'\n",
    "val_mask_dir = r'C:\\Users\\Admin\\Documents\\Python Project\\DPL Crack detection\\UDTIRI-Crack Detection\\val\\label'\n",
    "\n",
    "# --- Thu thập đường dẫn tệp ảnh và mask ---\n",
    "train_img_paths = sorted([os.path.join(train_img_dir, f) for f in os.listdir(train_img_dir)])\n",
    "train_mask_paths = sorted([os.path.join(train_mask_dir, f) for f in os.listdir(train_mask_dir)])\n",
    "val_img_paths = sorted([os.path.join(val_img_dir, f) for f in os.listdir(val_img_dir)])\n",
    "val_mask_paths = sorted([os.path.join(val_mask_dir, f) for f in os.listdir(val_mask_dir)])\n"
   ]
  },
  {
   "cell_type": "code",
   "execution_count": 9,
   "id": "5bd234c4",
   "metadata": {},
   "outputs": [],
   "source": [
    "class CrackDetectionDataset(Dataset):\n",
    "    def __init__(self, image_filenames, mask_filenames, transform=None):\n",
    "        self.image_filenames = image_filenames\n",
    "        self.mask_filenames = mask_filenames\n",
    "        self.transform = transform\n",
    "\n",
    "    def __len__(self):\n",
    "        return len(self.image_filenames)\n",
    "\n",
    "    def __getitem__(self, idx):\n",
    "        img = cv2.imread(self.image_filenames[idx])\n",
    "        img = cv2.cvtColor(img, cv2.COLOR_BGR2RGB)\n",
    "        \n",
    "        mask = cv2.imread(self.mask_filenames[idx], cv2.IMREAD_GRAYSCALE)\n",
    "        mask = np.where(mask > 0, 255.0, 0.0).astype(np.float32)\n",
    "\n",
    "        if self.transform:\n",
    "            augmented = self.transform(image=img, mask=mask)\n",
    "            img = augmented['image']\n",
    "            mask = augmented['mask']\n",
    "        \n",
    "        mask = mask / 255.0\n",
    "        mask = mask.unsqueeze(0)\n",
    "\n",
    "        return img, mask\n",
    "\n",
    "train_transform = A.Compose([\n",
    "    A.Resize(IMG_SIZE, IMG_SIZE),\n",
    "    A.HorizontalFlip(p=0.5),\n",
    "    A.VerticalFlip(p=0.5),\n",
    "    A.RandomRotate90(p=0.5),\n",
    "    A.ColorJitter(p=0.2),\n",
    "    A.Normalize(mean=(0.485, 0.456, 0.406), std=(0.229, 0.224, 0.225)),\n",
    "    ToTensorV2(),\n",
    "])\n",
    "\n",
    "val_transform = A.Compose([\n",
    "    A.Resize(IMG_SIZE, IMG_SIZE),\n",
    "    A.Normalize(mean=(0.485, 0.456, 0.406), std=(0.229, 0.224, 0.225)),\n",
    "    ToTensorV2(),\n",
    "])"
   ]
  },
  {
   "cell_type": "code",
   "execution_count": null,
   "id": "ad93ad7f",
   "metadata": {},
   "outputs": [],
   "source": [
    "class PatchExpanding(nn.Module):\n",
    "    def __init__(self, input_resolution: Tuple[int, int], dim: int, return_vector: bool = True):\n",
    "        super().__init__()\n",
    "        self.input_resolution = input_resolution\n",
    "        self.dim = dim\n",
    "        self.expand = nn.Linear(dim, 2 * dim, bias=False)\n",
    "        self.norm = nn.LayerNorm(dim // 2)\n",
    "        self.return_vector = return_vector\n",
    "\n",
    "    def forward(self, x: torch.Tensor) -> torch.Tensor:\n",
    "        H, W = self.input_resolution\n",
    "        x = x.view(-1, H, W, self.dim)\n",
    "        x = self.expand(x)\n",
    "        B, H, W, C = x.shape\n",
    "        x = x.view(B, H, W, 2, 2, C // 4)\n",
    "        x = x.permute(0, 1, 3, 2, 4, 5).contiguous().view(B, H * 2, W * 2, C // 4)\n",
    "        x = self.norm(x)\n",
    "        if self.return_vector:\n",
    "            x = x.view(B, -1, C // 4)\n",
    "        return x\n",
    "\n",
    "\n",
    "class FinalPatchExpanding(nn.Module):\n",
    "    def __init__(self, dim: int, scale_factor: int = 4):\n",
    "        super().__init__()\n",
    "        self.scale_factor = scale_factor\n",
    "        self.output_dim = dim // scale_factor\n",
    "\n",
    "        expand_dim = self.output_dim * (scale_factor**2)\n",
    "        self.expand = nn.Linear(dim, expand_dim, bias=False)\n",
    "\n",
    "        self.norm = nn.LayerNorm(self.output_dim)\n",
    "\n",
    "    def forward(self, x: torch.Tensor) -> torch.Tensor:\n",
    "        B, L, _ = x.shape\n",
    "        H = W = int(np.sqrt(L))\n",
    "        x_expanded = self.expand(x)\n",
    "\n",
    "        x_reshaped = x_expanded.view(B, H, W, self.scale_factor, self.scale_factor, self.output_dim)\n",
    "\n",
    "        x_permuted = x_reshaped.permute(0, 1, 3, 2, 4, 5).contiguous().view(B, H * self.scale_factor, W * self.scale_factor, self.output_dim)\n",
    "\n",
    "        x_normed = self.norm(x_permuted)\n",
    "\n",
    "        output = x_normed.view(B, -1, self.output_dim)\n",
    "        \n",
    "        return output\n",
    "\n",
    "\n",
    "class SkipAttention(nn.Module):\n",
    "    def __init__(self, query_dim: int, context_dim: Optional[int] = None, num_heads: int = 8, dim_head: int = 64):\n",
    "        super().__init__()\n",
    "        if context_dim is None:\n",
    "            context_dim = query_dim\n",
    "        \n",
    "        self.attn = nn.MultiheadAttention(embed_dim=query_dim, num_heads=num_heads, \n",
    "                                          kdim=context_dim, vdim=context_dim, \n",
    "                                          batch_first=True)\n",
    "        self.norm = nn.LayerNorm(query_dim)\n",
    "\n",
    "    def forward(self, query: torch.Tensor, context: torch.Tensor) -> torch.Tensor:\n",
    "        attn_output, _ = self.attn(query=query, key=context, value=context)\n",
    "        return self.norm(query + attn_output)\n",
    "\n",
    "\n",
    "class ResidualSwinBlock(nn.Module):\n",
    "    def __init__(self, config: SwinConfig, dim: int, input_resolution: Tuple[int, int], num_layers: int, num_heads: int):\n",
    "        super().__init__()\n",
    "        self.layers = nn.ModuleList([\n",
    "            SwinLayer(\n",
    "                config=config, \n",
    "                dim=dim, \n",
    "                input_resolution=input_resolution, \n",
    "                num_heads=num_heads, \n",
    "                shift_size=0 if (i % 2 == 0) else config.window_size // 2\n",
    "            ) for i in range(num_layers)\n",
    "        ])\n",
    "        \n",
    "    def forward(self, x: torch.Tensor, input_resolution: Tuple[int, int]) -> torch.Tensor:\n",
    "        residual = x\n",
    "        for layer in self.layers:\n",
    "            x = layer(x, input_resolution)[0]\n",
    "        return x + residual\n",
    "\n",
    "\n",
    "class iSwinUnet(nn.Module):\n",
    "    def __init__(self, num_classes: int = 1, img_size: int = 320, pretrained: bool = True):\n",
    "        super().__init__()\n",
    "        self.num_classes = num_classes\n",
    "        self.img_size = img_size\n",
    "        \n",
    "        # --- Config ---\n",
    "        config = SwinConfig(image_size=img_size, patch_size=4, window_size=7)\n",
    "        self.config = config\n",
    "        self.encoder_channels = [config.embed_dim * (2**i) for i in range(len(config.depths))]\n",
    "\n",
    "        # --- Encoder ---\n",
    "        self.patch_embed = SwinPatchEmbeddings(config)\n",
    "        self.pos_drop = nn.Dropout(p=config.hidden_dropout_prob)\n",
    "\n",
    "        self.encoder_stage1 = ResidualSwinBlock(config, self.encoder_channels[0], (img_size//4, img_size//4), config.depths[0], config.num_heads[0])\n",
    "        self.merge1 = SwinPatchMerging(input_resolution=(img_size//4, img_size//4), dim=self.encoder_channels[0])\n",
    "        \n",
    "        self.encoder_stage2 = ResidualSwinBlock(config, self.encoder_channels[1], (img_size//8, img_size//8), config.depths[1], config.num_heads[1])\n",
    "        self.merge2 = SwinPatchMerging(input_resolution=(img_size//8, img_size//8), dim=self.encoder_channels[1])\n",
    "\n",
    "        self.encoder_stage3 = ResidualSwinBlock(config, self.encoder_channels[2], (img_size//16, img_size//16), config.depths[2], config.num_heads[2])\n",
    "        self.merge3 = SwinPatchMerging(input_resolution=(img_size//16, img_size//16), dim=self.encoder_channels[2])\n",
    "        \n",
    "        self.bottleneck = ResidualSwinBlock(config, self.encoder_channels[3], (img_size//32, img_size//32), config.depths[3], config.num_heads[3])\n",
    "\n",
    "        self.decoder_expand3 = PatchExpanding(input_resolution=(img_size//32, img_size//32), dim=self.encoder_channels[3])\n",
    "        self.skip_attn3 = SkipAttention(query_dim=self.encoder_channels[2], context_dim=self.encoder_channels[2], num_heads=config.num_heads[2])\n",
    "        self.decoder_stage3 = ResidualSwinBlock(config, self.encoder_channels[2], (img_size//16, img_size//16), config.depths[2], config.num_heads[2])\n",
    "\n",
    "        self.decoder_expand2 = PatchExpanding(input_resolution=(img_size//16, img_size//16), dim=self.encoder_channels[2])\n",
    "        self.skip_attn2 = SkipAttention(query_dim=self.encoder_channels[1], context_dim=self.encoder_channels[1], num_heads=config.num_heads[1])\n",
    "        self.decoder_stage2 = ResidualSwinBlock(config, self.encoder_channels[1], (img_size//8, img_size//8), config.depths[1], config.num_heads[1])\n",
    "\n",
    "        self.decoder_expand1 = PatchExpanding(input_resolution=(img_size//8, img_size//8), dim=self.encoder_channels[1])\n",
    "        self.skip_attn1 = SkipAttention(query_dim=self.encoder_channels[0], context_dim=self.encoder_channels[0], num_heads=config.num_heads[0])\n",
    "        self.decoder_stage1 = ResidualSwinBlock(config, self.encoder_channels[0], (img_size//4, img_size//4), config.depths[0], config.num_heads[0])\n",
    "\n",
    "        self.final_expand = FinalPatchExpanding(dim=self.encoder_channels[0], scale_factor=4)\n",
    "        self.final_conv = nn.Conv2d(self.final_expand.output_dim, num_classes, kernel_size=1)\n",
    "\n",
    "        if pretrained:\n",
    "            self.load_pretrained_weights()\n",
    "\n",
    "    def load_pretrained_weights(self):\n",
    "            print(\"Loading pretrained weights for Swin-Tiny encoder...\")\n",
    "            try:\n",
    "                swin_original = SwinModel.from_pretrained(\"microsoft/swin-tiny-patch4-window7-224\")\n",
    "                original_state_dict = swin_original.state_dict()\n",
    "\n",
    "                model_state_dict = self.state_dict()\n",
    "\n",
    "                prefix_mapping = {\n",
    "                    'embeddings.patch_embeddings': 'patch_embed',\n",
    "                    'encoder.layers.0.downsample': 'merge1',\n",
    "                    'encoder.layers.1.downsample': 'merge2',\n",
    "                    'encoder.layers.2.downsample': 'merge3',\n",
    "                }\n",
    "\n",
    "                stage_mapping = {\n",
    "                    'encoder.layers.0': 'encoder_stage1',\n",
    "                    'encoder.layers.1': 'encoder_stage2',\n",
    "                    'encoder.layers.2': 'encoder_stage3',\n",
    "                    'encoder.layers.3': 'bottleneck',\n",
    "                }\n",
    "\n",
    "                loaded_count = 0\n",
    "                \n",
    "                orig_pos_embed_key = 'embeddings.absolute_position_embedding'\n",
    "                if orig_pos_embed_key in original_state_dict:\n",
    "                    orig_pos_embed = original_state_dict[orig_pos_embed_key]\n",
    "                    target_pos_embed = model_state_dict[orig_pos_embed_key]\n",
    "                    if orig_pos_embed.shape != target_pos_embed.shape:\n",
    "                        print(f\"Interpolating absolute position embedding due to size mismatch...\")\n",
    "                        orig_pos_embed_spatial = orig_pos_embed[0, 1:, :].permute(1, 0)\n",
    "\n",
    "                        H_orig = W_orig = int((orig_pos_embed.shape[1] - 1) ** 0.5)\n",
    "                        orig_pos_embed_spatial = orig_pos_embed_spatial.view(1, -1, H_orig, W_orig)\n",
    "                        H_target = W_target = int((target_pos_embed.shape[1] - 1) ** 0.5)\n",
    "                        interp_pos_embed = nn.functional.interpolate(\n",
    "                            orig_pos_embed_spatial, size=(H_target, W_target), mode='bicubic', align_corners=False\n",
    "                        )\n",
    "                        interp_pos_embed = interp_pos_embed.view(1, -1, H_target * W_target).permute(0, 2, 1)\n",
    "                        # Thêm lại token [CLS]\n",
    "                        final_pos_embed = torch.cat((orig_pos_embed[0, 0:1, :], interp_pos_embed[0]), dim=0).unsqueeze(0)\n",
    "                        model_state_dict[orig_pos_embed_key] = final_pos_embed\n",
    "                        loaded_count += 1\n",
    "                    del original_state_dict[orig_pos_embed_key]\n",
    "\n",
    "                for key_orig, value in original_state_dict.items():\n",
    "                    new_key = None\n",
    "\n",
    "                    if 'pooler' in key_orig:\n",
    "                        continue\n",
    "\n",
    "                    for old_prefix, new_prefix in prefix_mapping.items():\n",
    "                        if key_orig.startswith(old_prefix):\n",
    "                            new_key = key_orig.replace(old_prefix, new_prefix)\n",
    "                            break\n",
    "\n",
    "                    if new_key is None:\n",
    "                        for old_stage_prefix, new_stage_prefix in stage_mapping.items():\n",
    "                            if key_orig.startswith(old_stage_prefix):\n",
    "                                remainder = key_orig[len(old_stage_prefix):]\n",
    "                                if remainder.startswith('.blocks'):\n",
    "                                    remainder = remainder.replace('.blocks', '', 1)\n",
    "                                    new_key = f\"{new_stage_prefix}.layers{remainder}\"\n",
    "                                break\n",
    "\n",
    "                    if new_key is None:\n",
    "                        if key_orig.startswith('embeddings.norm'):\n",
    "                            new_key = key_orig.replace('embeddings.norm', 'patch_embed.norm')\n",
    "                        elif key_orig.startswith('encoder.norm'):\n",
    "                            continue\n",
    "\n",
    "                    if new_key and new_key in model_state_dict and model_state_dict[new_key].shape == value.shape:\n",
    "                        model_state_dict[new_key] = value\n",
    "                        loaded_count += 1\n",
    "                    else:\n",
    "                        pass\n",
    "\n",
    "                self.load_state_dict(model_state_dict, strict=False)\n",
    "\n",
    "                expected_keys = len([k for k in swin_original.state_dict().keys() if 'pooler' not in k and 'encoder.norm' not in k])\n",
    "                print(f\"✅ Successfully loaded {loaded_count}/{expected_keys} tensors from pretrained Swin-Tiny.\")\n",
    "                print(\"   (Any unloaded tensors are expected to be from the decoder and final layers).\")\n",
    "\n",
    "            except Exception as e:\n",
    "                print(f\"❌ ERROR: Could not load pretrained weights. Error: {e}. Training from scratch.\")\n",
    "\n",
    "    def forward(self, x: torch.Tensor) -> torch.Tensor:\n",
    "        s1_skip = self.patch_embed(x)[0]\n",
    "        s1_skip = self.pos_drop(s1_skip)\n",
    "        \n",
    "        s1_out = self.encoder_stage1(s1_skip, (self.img_size//4, self.img_size//4))\n",
    "        s2_in = self.merge1(s1_out, (self.img_size//4, self.img_size//4))\n",
    "        \n",
    "        s2_out = self.encoder_stage2(s2_in, (self.img_size//8, self.img_size//8))\n",
    "        s3_in = self.merge2(s2_out, (self.img_size//8, self.img_size//8))\n",
    "\n",
    "        s3_out = self.encoder_stage3(s3_in, (self.img_size//16, self.img_size//16))\n",
    "        b_in = self.merge3(s3_out, (self.img_size//16, self.img_size//16))\n",
    "        \n",
    "        b_out = self.bottleneck(b_in, (self.img_size//32, self.img_size//32))\n",
    " \n",
    "        d3_in = self.decoder_expand3(b_out)\n",
    "        d3_in = self.skip_attn3(query=d3_in, context=s3_out)\n",
    "        d3_out = self.decoder_stage3(d3_in, (self.img_size//16, self.img_size//16))\n",
    " \n",
    "        d2_in = self.decoder_expand2(d3_out)\n",
    "        d2_in = self.skip_attn2(query=d2_in, context=s2_out)\n",
    "        d2_out = self.decoder_stage2(d2_in, (self.img_size//8, self.img_size//8))\n",
    "\n",
    "        d1_in = self.decoder_expand1(d2_out)\n",
    "        d1_in = self.skip_attn1(query=d1_in, context=s1_out)\n",
    "        d1_out = self.decoder_stage1(d1_in, (self.img_size//4, self.img_size//4))\n",
    "        \n",
    "        final_features = self.final_expand(d1_out)\n",
    "        \n",
    "        B, L, C = final_features.shape\n",
    "        H = W = int(np.sqrt(L))\n",
    "        final_features = final_features.permute(0, 2, 1).contiguous().view(B, C, H, W)\n",
    "        \n",
    "        output = self.final_conv(final_features)\n",
    "        \n",
    "        return output"
   ]
  },
  {
   "cell_type": "code",
   "execution_count": 11,
   "id": "e3f04831",
   "metadata": {},
   "outputs": [],
   "source": [
    "\n",
    "class IoULoss(nn.Module):\n",
    "    def __init__(self, smooth=1e-6):\n",
    "        super(IoULoss, self).__init__()\n",
    "        self.smooth = smooth\n",
    "\n",
    "    def forward(self, inputs, targets):\n",
    "        # Mô hình trả về logits, cần đưa qua sigmoid để có xác suất trong khoảng (0, 1)\n",
    "        inputs = torch.sigmoid(inputs)\n",
    "        \n",
    "        # Làm phẳng inputs và targets để tính toán dễ dàng\n",
    "        inputs = inputs.view(-1)\n",
    "        targets = targets.view(-1)\n",
    "        \n",
    "        # Tính toán intersection (phần giao) và union (phần hợp)\n",
    "        intersection = (inputs * targets).sum()\n",
    "        total = (inputs + targets).sum()\n",
    "        union = total - intersection\n",
    "        \n",
    "        # Tính IoU, thêm smooth để tránh chia cho 0\n",
    "        iou = (intersection + self.smooth) / (union + self.smooth)\n",
    "        \n",
    "        # Loss là 1 - IoU, vì mục tiêu của chúng ta là tối đa hóa IoU\n",
    "        return 1 - iou\n",
    "\n",
    "\n",
    "def calculate_metrics(predicted_masks, true_masks, smooth=1e-6):\n",
    "    predicted_masks = predicted_masks.view(-1)\n",
    "    true_masks = true_masks.view(-1)\n",
    "    \n",
    "    intersection = (predicted_masks * true_masks).sum()\n",
    "    union = (predicted_masks + true_masks).sum() - intersection\n",
    "    \n",
    "    iou = (intersection + smooth) / (union + smooth)\n",
    "    dice = (2. * intersection + smooth) / (predicted_masks.sum() + true_masks.sum() + smooth)\n",
    "    \n",
    "    return iou.item(), dice.item()"
   ]
  },
  {
   "cell_type": "code",
   "execution_count": 12,
   "id": "89b49211",
   "metadata": {},
   "outputs": [],
   "source": [
    "def train_model(model, train_loader, val_loader, optimizer, criterion, scheduler, num_epochs, callbacks_config, start_epoch=0, best_val_iou=0.0, history=None):\n",
    "    best_iou = best_val_iou\n",
    "    patience_counter = 0\n",
    "    checkpoint_path = callbacks_config.get('checkpoint_path', 'model_best.pth')\n",
    "    \n",
    "    if history is None:\n",
    "        history = {'train_loss': [], 'val_loss': [], 'train_iou': [], 'val_iou': [], 'lr': []}\n",
    "\n",
    "    for epoch in range(start_epoch, num_epochs):\n",
    "        model.train()\n",
    "        train_loss, train_iou = 0.0, 0.0\n",
    "        \n",
    "        loop = tqdm(train_loader, desc=f\"Epoch {epoch+1}/{num_epochs} [Train]\")\n",
    "        for images, masks in loop:\n",
    "            images, masks = images.to(DEVICE), masks.to(DEVICE)\n",
    "            \n",
    "            optimizer.zero_grad()\n",
    "            outputs = model(images)\n",
    "            loss = criterion(outputs, masks)\n",
    "            loss.backward()\n",
    "            optimizer.step()\n",
    "\n",
    "            train_loss += loss.item()\n",
    "            predicted_masks = (torch.sigmoid(outputs) > 0.5).float()\n",
    "            \n",
    "            batch_iou, _ = calculate_metrics(predicted_masks, masks)\n",
    "            train_iou += batch_iou\n",
    "            \n",
    "            loop.set_postfix(loss=loss.item(), iou=batch_iou)\n",
    "\n",
    "        history['train_loss'].append(train_loss / len(train_loader))\n",
    "        history['train_iou'].append(train_iou / len(train_loader))\n",
    "        \n",
    "        model.eval()\n",
    "        val_loss, val_iou = 0.0, 0.0\n",
    "        \n",
    "        loop = tqdm(val_loader, desc=f\"Epoch {epoch+1}/{num_epochs} [Val]\")\n",
    "        with torch.no_grad():\n",
    "            for images, masks in loop:\n",
    "                images, masks = images.to(DEVICE), masks.to(DEVICE)\n",
    "                outputs = model(images)\n",
    "                loss = criterion(outputs, masks)\n",
    "                \n",
    "                val_loss += loss.item()\n",
    "                predicted_masks = (torch.sigmoid(outputs) > 0.5).float()\n",
    "                \n",
    "                batch_iou, _ = calculate_metrics(predicted_masks, masks)\n",
    "                val_iou += batch_iou\n",
    "\n",
    "        avg_val_loss = val_loss / len(val_loader)\n",
    "        avg_val_iou = val_iou / len(val_loader)\n",
    "        \n",
    "        history['val_loss'].append(avg_val_loss)\n",
    "        history['val_iou'].append(avg_val_iou)\n",
    "        \n",
    "        scheduler.step(avg_val_loss) # Sử dụng validation loss cho scheduler\n",
    "        current_lr = optimizer.param_groups[0]['lr']\n",
    "        history['lr'].append(current_lr)\n",
    "        \n",
    "        print(f\"Epoch {epoch+1} Summary:\")\n",
    "        print(f\"  Train -> Loss: {history['train_loss'][-1]:.4f}, IoU: {history['train_iou'][-1]:.4f}\")\n",
    "        print(f\"  Val   -> Loss: {avg_val_loss:.4f}, IoU: {avg_val_iou:.4f}\")\n",
    "        print(f\"  LR: {current_lr:.8f}\")\n",
    "\n",
    "        if avg_val_iou > best_iou:\n",
    "            best_iou = avg_val_iou\n",
    "            patience_counter = 0\n",
    "            print(f\"🚀 New best validation IoU: {best_iou:.4f}. Saving model...\")\n",
    "            torch.save({\n",
    "                'epoch': epoch,\n",
    "                'model_state_dict': model.state_dict(),\n",
    "                'optimizer_state_dict': optimizer.state_dict(),\n",
    "                'best_val_iou': best_iou,\n",
    "                'scheduler_state_dict': scheduler.state_dict(),\n",
    "                'history': history\n",
    "            }, checkpoint_path)\n",
    "        else:\n",
    "            patience_counter += 1\n",
    "            print(f\"Validation IoU did not improve. Patience: {patience_counter}/{callbacks_config['patience']}\")\n",
    "            if patience_counter >= callbacks_config['patience']:\n",
    "                print(\"Early stopping!\")\n",
    "                break\n",
    "    return history\n",
    "\n",
    "# --- Hàm vẽ biểu đồ (Đã chỉnh sửa chỉ dùng IoU) ---\n",
    "def plot_training_history(history):\n",
    "    epochs = range(1, len(history['train_loss']) + 1)\n",
    "    plt.style.use('seaborn-v0_8-whitegrid')\n",
    "    \n",
    "    # Sửa đổi: Tạo một hàng 3 cột cho 3 biểu đồ\n",
    "    fig, axs = plt.subplots(1, 3, figsize=(22, 6))\n",
    "\n",
    "    # Biểu đồ 1: Loss\n",
    "    axs[0].plot(epochs, history['train_loss'], 'o-', label='Train Loss')\n",
    "    axs[0].plot(epochs, history['val_loss'], 'o-', label='Validation Loss')\n",
    "    axs[0].set_title('Training and Validation Loss')\n",
    "    axs[0].set(xlabel='Epoch', ylabel='Loss')\n",
    "    axs[0].legend()\n",
    "\n",
    "    # Biểu đồ 2: IoU\n",
    "    axs[1].plot(epochs, history['train_iou'], 'o-', label='Train IoU')\n",
    "    axs[1].plot(epochs, history['val_iou'], 'o-', label='Validation IoU')\n",
    "    axs[1].set_title('Training and Validation IoU')\n",
    "    axs[1].set(xlabel='Epoch', ylabel='IoU')\n",
    "    axs[1].legend()\n",
    "\n",
    "    axs[2].plot(epochs, history['lr'], 'o-', label='Learning Rate', color='purple')\n",
    "    axs[2].set_title('Learning Rate per Epoch')\n",
    "    axs[2].set(xlabel='Epoch', ylabel='Learning Rate')\n",
    "    axs[2].legend()\n",
    "\n",
    "    plt.tight_layout()\n",
    "    plt.show()"
   ]
  },
  {
   "cell_type": "code",
   "execution_count": 13,
   "id": "528d8623",
   "metadata": {},
   "outputs": [],
   "source": [
    "from sklearn.metrics import precision_score, recall_score, f1_score, jaccard_score\n",
    "\n",
    "def evaluate_model(model, data_loader, threshold=0.5):\n",
    "    model.eval()\n",
    "    all_preds = []\n",
    "    all_targets = []\n",
    "\n",
    "    with torch.no_grad():\n",
    "        for images, masks in tqdm(data_loader, desc=\"Evaluating\"):\n",
    "            images = images.to(DEVICE)\n",
    "            masks = masks.to(DEVICE)\n",
    "\n",
    "            outputs = model(images)\n",
    "            preds = torch.sigmoid(outputs)\n",
    "\n",
    "            preds = (preds > threshold).float()\n",
    "\n",
    "            all_preds.append(preds.view(-1).cpu().numpy())\n",
    "            all_targets.append(masks.view(-1).cpu().numpy())\n",
    "\n",
    "    all_preds = np.concatenate(all_preds)\n",
    "    all_targets = np.concatenate(all_targets)\n",
    "\n",
    "    precision = precision_score(all_targets, all_preds, zero_division=0)\n",
    "    recall = recall_score(all_targets, all_preds, zero_division=0)\n",
    "    f1 = f1_score(all_targets, all_preds, zero_division=0)\n",
    "    iou = jaccard_score(all_targets, all_preds, zero_division=0)\n",
    "\n",
    "    print(f\"\\n--- Evaluation Metrics ---\")\n",
    "    print(f\"Precision: {precision:.4f}\")\n",
    "    print(f\"Recall:    {recall:.4f}\")\n",
    "    print(f\"F1-score:  {f1:.4f}\")\n",
    "    print(f\"IoU:       {iou:.4f}\")\n"
   ]
  },
  {
   "cell_type": "code",
   "execution_count": 14,
   "id": "728ef5a4",
   "metadata": {},
   "outputs": [
    {
     "name": "stdout",
     "output_type": "stream",
     "text": [
      "Initializing iSwinUnet model (paper version)...\n",
      "Loading pretrained weights for Swin-Tiny encoder...\n",
      "✅ Successfully loaded 227/231 tensors from pretrained Swin-Tiny.\n",
      "   (Any unloaded tensors are expected to be from the decoder and final layers).\n",
      "==================================================\n",
      "!!! USING BCEWithLogitsLoss with pos_weight=30 !!!\n",
      "Model has 41,657,773 trainable parameters.\n",
      "==================================================\n",
      "Checkpoint found. Loading...\n"
     ]
    },
    {
     "name": "stderr",
     "output_type": "stream",
     "text": [
      "C:\\Users\\Admin\\AppData\\Local\\Temp\\ipykernel_29240\\1052588386.py:49: FutureWarning: You are using `torch.load` with `weights_only=False` (the current default value), which uses the default pickle module implicitly. It is possible to construct malicious pickle data which will execute arbitrary code during unpickling (See https://github.com/pytorch/pytorch/blob/main/SECURITY.md#untrusted-models for more details). In a future release, the default value for `weights_only` will be flipped to `True`. This limits the functions that could be executed during unpickling. Arbitrary objects will no longer be allowed to be loaded via this mode unless they are explicitly allowlisted by the user via `torch.serialization.add_safe_globals`. We recommend you start setting `weights_only=True` for any use case where you don't have full control of the loaded file. Please open an issue on GitHub for any issues related to this experimental feature.\n",
      "  checkpoint = torch.load(CHECKPOINT_PATH, map_location='cpu')\n"
     ]
    },
    {
     "name": "stdout",
     "output_type": "stream",
     "text": [
      "Resuming from Epoch 0. Best Val IoU so far: 0.4962\n",
      "\n",
      "--- Starting Training ---\n"
     ]
    },
    {
     "name": "stderr",
     "output_type": "stream",
     "text": [
      "Epoch 1/200 [Train]: 100%|██████████| 750/750 [02:50<00:00,  4.40it/s, iou=0.843, loss=0.158] \n",
      "Epoch 1/200 [Val]: 100%|██████████| 200/200 [00:16<00:00, 12.28it/s]\n"
     ]
    },
    {
     "name": "stdout",
     "output_type": "stream",
     "text": [
      "Epoch 1 Summary:\n",
      "  Train -> Loss: 0.4149, IoU: 0.5888\n",
      "  Val   -> Loss: 0.5384, IoU: 0.4638\n",
      "  LR: 0.00010000\n",
      "Validation IoU did not improve. Patience: 1/30\n"
     ]
    },
    {
     "name": "stderr",
     "output_type": "stream",
     "text": [
      "Epoch 2/200 [Train]: 100%|██████████| 750/750 [02:40<00:00,  4.67it/s, iou=0.367, loss=0.635] \n",
      "Epoch 2/200 [Val]: 100%|██████████| 200/200 [00:15<00:00, 13.16it/s]\n"
     ]
    },
    {
     "name": "stdout",
     "output_type": "stream",
     "text": [
      "Epoch 2 Summary:\n",
      "  Train -> Loss: 0.4154, IoU: 0.5860\n",
      "  Val   -> Loss: 0.5276, IoU: 0.4736\n",
      "  LR: 0.00010000\n",
      "Validation IoU did not improve. Patience: 2/30\n"
     ]
    },
    {
     "name": "stderr",
     "output_type": "stream",
     "text": [
      "Epoch 3/200 [Train]: 100%|██████████| 750/750 [02:41<00:00,  4.64it/s, iou=0.613, loss=0.387] \n",
      "Epoch 3/200 [Val]: 100%|██████████| 200/200 [00:16<00:00, 12.42it/s]\n"
     ]
    },
    {
     "name": "stdout",
     "output_type": "stream",
     "text": [
      "Epoch 3 Summary:\n",
      "  Train -> Loss: 0.4106, IoU: 0.5902\n",
      "  Val   -> Loss: 0.5234, IoU: 0.4774\n",
      "  LR: 0.00010000\n",
      "Validation IoU did not improve. Patience: 3/30\n"
     ]
    },
    {
     "name": "stderr",
     "output_type": "stream",
     "text": [
      "Epoch 4/200 [Train]: 100%|██████████| 750/750 [02:42<00:00,  4.63it/s, iou=0.524, loss=0.48]  \n",
      "Epoch 4/200 [Val]: 100%|██████████| 200/200 [00:15<00:00, 12.67it/s]\n"
     ]
    },
    {
     "name": "stdout",
     "output_type": "stream",
     "text": [
      "Epoch 4 Summary:\n",
      "  Train -> Loss: 0.4161, IoU: 0.5846\n",
      "  Val   -> Loss: 0.5212, IoU: 0.4793\n",
      "  LR: 0.00010000\n",
      "Validation IoU did not improve. Patience: 4/30\n"
     ]
    },
    {
     "name": "stderr",
     "output_type": "stream",
     "text": [
      "Epoch 5/200 [Train]: 100%|██████████| 750/750 [02:42<00:00,  4.61it/s, iou=0.562, loss=0.439] \n",
      "Epoch 5/200 [Val]: 100%|██████████| 200/200 [00:15<00:00, 12.88it/s]\n"
     ]
    },
    {
     "name": "stdout",
     "output_type": "stream",
     "text": [
      "Epoch 5 Summary:\n",
      "  Train -> Loss: 0.4023, IoU: 0.5982\n",
      "  Val   -> Loss: 0.5192, IoU: 0.4813\n",
      "  LR: 0.00010000\n",
      "Validation IoU did not improve. Patience: 5/30\n"
     ]
    },
    {
     "name": "stderr",
     "output_type": "stream",
     "text": [
      "Epoch 6/200 [Train]: 100%|██████████| 750/750 [02:42<00:00,  4.61it/s, iou=0.63, loss=0.371]  \n",
      "Epoch 6/200 [Val]: 100%|██████████| 200/200 [00:16<00:00, 12.30it/s]\n"
     ]
    },
    {
     "name": "stdout",
     "output_type": "stream",
     "text": [
      "Epoch 6 Summary:\n",
      "  Train -> Loss: 0.4074, IoU: 0.5930\n",
      "  Val   -> Loss: 0.5241, IoU: 0.4764\n",
      "  LR: 0.00010000\n",
      "Validation IoU did not improve. Patience: 6/30\n"
     ]
    },
    {
     "name": "stderr",
     "output_type": "stream",
     "text": [
      "Epoch 7/200 [Train]: 100%|██████████| 750/750 [02:42<00:00,  4.61it/s, iou=0.582, loss=0.419] \n",
      "Epoch 7/200 [Val]: 100%|██████████| 200/200 [00:15<00:00, 12.65it/s]\n"
     ]
    },
    {
     "name": "stdout",
     "output_type": "stream",
     "text": [
      "Epoch 7 Summary:\n",
      "  Train -> Loss: 0.4074, IoU: 0.5930\n",
      "  Val   -> Loss: 0.5182, IoU: 0.4822\n",
      "  LR: 0.00010000\n",
      "Validation IoU did not improve. Patience: 7/30\n"
     ]
    },
    {
     "name": "stderr",
     "output_type": "stream",
     "text": [
      "Epoch 8/200 [Train]: 100%|██████████| 750/750 [02:43<00:00,  4.60it/s, iou=0.667, loss=0.333] \n",
      "Epoch 8/200 [Val]: 100%|██████████| 200/200 [00:15<00:00, 12.88it/s]\n"
     ]
    },
    {
     "name": "stdout",
     "output_type": "stream",
     "text": [
      "Epoch 8 Summary:\n",
      "  Train -> Loss: 0.4022, IoU: 0.5981\n",
      "  Val   -> Loss: 0.5114, IoU: 0.4889\n",
      "  LR: 0.00010000\n",
      "Validation IoU did not improve. Patience: 8/30\n"
     ]
    },
    {
     "name": "stderr",
     "output_type": "stream",
     "text": [
      "Epoch 9/200 [Train]: 100%|██████████| 750/750 [02:43<00:00,  4.60it/s, iou=0.718, loss=0.281] \n",
      "Epoch 9/200 [Val]: 100%|██████████| 200/200 [00:16<00:00, 12.34it/s]\n"
     ]
    },
    {
     "name": "stdout",
     "output_type": "stream",
     "text": [
      "Epoch 9 Summary:\n",
      "  Train -> Loss: 0.4116, IoU: 0.5886\n",
      "  Val   -> Loss: 0.5355, IoU: 0.4647\n",
      "  LR: 0.00010000\n",
      "Validation IoU did not improve. Patience: 9/30\n"
     ]
    },
    {
     "name": "stderr",
     "output_type": "stream",
     "text": [
      "Epoch 10/200 [Train]: 100%|██████████| 750/750 [02:42<00:00,  4.61it/s, iou=0.451, loss=0.548] \n",
      "Epoch 10/200 [Val]: 100%|██████████| 200/200 [00:15<00:00, 12.62it/s]\n"
     ]
    },
    {
     "name": "stdout",
     "output_type": "stream",
     "text": [
      "Epoch 10 Summary:\n",
      "  Train -> Loss: 0.4130, IoU: 0.5872\n",
      "  Val   -> Loss: 0.5179, IoU: 0.4825\n",
      "  LR: 0.00010000\n",
      "Validation IoU did not improve. Patience: 10/30\n"
     ]
    },
    {
     "name": "stderr",
     "output_type": "stream",
     "text": [
      "Epoch 11/200 [Train]: 100%|██████████| 750/750 [02:43<00:00,  4.60it/s, iou=0.55, loss=0.45]   \n",
      "Epoch 11/200 [Val]: 100%|██████████| 200/200 [00:15<00:00, 12.98it/s]\n"
     ]
    },
    {
     "name": "stdout",
     "output_type": "stream",
     "text": [
      "Epoch 11 Summary:\n",
      "  Train -> Loss: 0.4068, IoU: 0.5934\n",
      "  Val   -> Loss: 0.5221, IoU: 0.4781\n",
      "  LR: 0.00010000\n",
      "Validation IoU did not improve. Patience: 11/30\n"
     ]
    },
    {
     "name": "stderr",
     "output_type": "stream",
     "text": [
      "Epoch 12/200 [Train]: 100%|██████████| 750/750 [02:42<00:00,  4.60it/s, iou=0.679, loss=0.321] \n",
      "Epoch 12/200 [Val]: 100%|██████████| 200/200 [00:16<00:00, 12.49it/s]\n"
     ]
    },
    {
     "name": "stdout",
     "output_type": "stream",
     "text": [
      "Epoch 12 Summary:\n",
      "  Train -> Loss: 0.4025, IoU: 0.5977\n",
      "  Val   -> Loss: 0.5125, IoU: 0.4877\n",
      "  LR: 0.00010000\n",
      "Validation IoU did not improve. Patience: 12/30\n"
     ]
    },
    {
     "name": "stderr",
     "output_type": "stream",
     "text": [
      "Epoch 13/200 [Train]: 100%|██████████| 750/750 [02:42<00:00,  4.61it/s, iou=0.656, loss=0.343] \n",
      "Epoch 13/200 [Val]: 100%|██████████| 200/200 [00:15<00:00, 12.67it/s]\n"
     ]
    },
    {
     "name": "stdout",
     "output_type": "stream",
     "text": [
      "Epoch 13 Summary:\n",
      "  Train -> Loss: 0.4012, IoU: 0.5990\n",
      "  Val   -> Loss: 0.5097, IoU: 0.4905\n",
      "  LR: 0.00010000\n",
      "Validation IoU did not improve. Patience: 13/30\n"
     ]
    },
    {
     "name": "stderr",
     "output_type": "stream",
     "text": [
      "Epoch 14/200 [Train]: 100%|██████████| 750/750 [02:43<00:00,  4.60it/s, iou=0.634, loss=0.366] \n",
      "Epoch 14/200 [Val]: 100%|██████████| 200/200 [00:15<00:00, 12.99it/s]\n"
     ]
    },
    {
     "name": "stdout",
     "output_type": "stream",
     "text": [
      "Epoch 14 Summary:\n",
      "  Train -> Loss: 0.3960, IoU: 0.6041\n",
      "  Val   -> Loss: 0.5151, IoU: 0.4851\n",
      "  LR: 0.00010000\n",
      "Validation IoU did not improve. Patience: 14/30\n"
     ]
    },
    {
     "name": "stderr",
     "output_type": "stream",
     "text": [
      "Epoch 15/200 [Train]: 100%|██████████| 750/750 [02:42<00:00,  4.60it/s, iou=0.512, loss=0.489] \n",
      "Epoch 15/200 [Val]: 100%|██████████| 200/200 [00:15<00:00, 12.60it/s]\n"
     ]
    },
    {
     "name": "stdout",
     "output_type": "stream",
     "text": [
      "Epoch 15 Summary:\n",
      "  Train -> Loss: 0.3931, IoU: 0.6070\n",
      "  Val   -> Loss: 0.5084, IoU: 0.4917\n",
      "  LR: 0.00010000\n",
      "Validation IoU did not improve. Patience: 15/30\n"
     ]
    },
    {
     "name": "stderr",
     "output_type": "stream",
     "text": [
      "Epoch 16/200 [Train]: 100%|██████████| 750/750 [02:42<00:00,  4.61it/s, iou=0.573, loss=0.427] \n",
      "Epoch 16/200 [Val]: 100%|██████████| 200/200 [00:15<00:00, 12.56it/s]\n"
     ]
    },
    {
     "name": "stdout",
     "output_type": "stream",
     "text": [
      "Epoch 16 Summary:\n",
      "  Train -> Loss: 0.3943, IoU: 0.6058\n",
      "  Val   -> Loss: 0.5027, IoU: 0.4975\n",
      "  LR: 0.00010000\n",
      "🚀 New best validation IoU: 0.4975. Saving model...\n"
     ]
    },
    {
     "name": "stderr",
     "output_type": "stream",
     "text": [
      "Epoch 17/200 [Train]: 100%|██████████| 750/750 [02:43<00:00,  4.59it/s, iou=0.774, loss=0.226] \n",
      "Epoch 17/200 [Val]: 100%|██████████| 200/200 [00:15<00:00, 12.95it/s]\n"
     ]
    },
    {
     "name": "stdout",
     "output_type": "stream",
     "text": [
      "Epoch 17 Summary:\n",
      "  Train -> Loss: 0.3923, IoU: 0.6079\n",
      "  Val   -> Loss: 0.5083, IoU: 0.4918\n",
      "  LR: 0.00010000\n",
      "Validation IoU did not improve. Patience: 1/30\n"
     ]
    },
    {
     "name": "stderr",
     "output_type": "stream",
     "text": [
      "Epoch 18/200 [Train]: 100%|██████████| 750/750 [02:43<00:00,  4.60it/s, iou=0.678, loss=0.323] \n",
      "Epoch 18/200 [Val]: 100%|██████████| 200/200 [00:15<00:00, 12.63it/s]\n"
     ]
    },
    {
     "name": "stdout",
     "output_type": "stream",
     "text": [
      "Epoch 18 Summary:\n",
      "  Train -> Loss: 0.3890, IoU: 0.6112\n",
      "  Val   -> Loss: 0.5081, IoU: 0.4920\n",
      "  LR: 0.00010000\n",
      "Validation IoU did not improve. Patience: 2/30\n"
     ]
    },
    {
     "name": "stderr",
     "output_type": "stream",
     "text": [
      "Epoch 19/200 [Train]: 100%|██████████| 750/750 [02:43<00:00,  4.60it/s, iou=0.625, loss=0.375] \n",
      "Epoch 19/200 [Val]: 100%|██████████| 200/200 [00:16<00:00, 12.47it/s]\n"
     ]
    },
    {
     "name": "stdout",
     "output_type": "stream",
     "text": [
      "Epoch 19 Summary:\n",
      "  Train -> Loss: 0.3976, IoU: 0.6025\n",
      "  Val   -> Loss: 0.5120, IoU: 0.4882\n",
      "  LR: 0.00010000\n",
      "Validation IoU did not improve. Patience: 3/30\n"
     ]
    },
    {
     "name": "stderr",
     "output_type": "stream",
     "text": [
      "Epoch 20/200 [Train]: 100%|██████████| 750/750 [02:40<00:00,  4.69it/s, iou=0.756, loss=0.243] \n",
      "Epoch 20/200 [Val]: 100%|██████████| 200/200 [00:14<00:00, 13.37it/s]\n"
     ]
    },
    {
     "name": "stdout",
     "output_type": "stream",
     "text": [
      "Epoch 20 Summary:\n",
      "  Train -> Loss: 0.4039, IoU: 0.5962\n",
      "  Val   -> Loss: 0.5128, IoU: 0.4874\n",
      "  LR: 0.00010000\n",
      "Validation IoU did not improve. Patience: 4/30\n"
     ]
    },
    {
     "name": "stderr",
     "output_type": "stream",
     "text": [
      "Epoch 21/200 [Train]: 100%|██████████| 750/750 [02:37<00:00,  4.76it/s, iou=0.642, loss=0.358] \n",
      "Epoch 21/200 [Val]: 100%|██████████| 200/200 [00:15<00:00, 13.29it/s]\n"
     ]
    },
    {
     "name": "stdout",
     "output_type": "stream",
     "text": [
      "Epoch 21 Summary:\n",
      "  Train -> Loss: 0.3955, IoU: 0.6046\n",
      "  Val   -> Loss: 0.5084, IoU: 0.4917\n",
      "  LR: 0.00010000\n",
      "Validation IoU did not improve. Patience: 5/30\n"
     ]
    },
    {
     "name": "stderr",
     "output_type": "stream",
     "text": [
      "Epoch 22/200 [Train]: 100%|██████████| 750/750 [02:35<00:00,  4.83it/s, iou=0.686, loss=0.315] \n",
      "Epoch 22/200 [Val]: 100%|██████████| 200/200 [00:14<00:00, 13.53it/s]\n"
     ]
    },
    {
     "name": "stdout",
     "output_type": "stream",
     "text": [
      "Epoch 22 Summary:\n",
      "  Train -> Loss: 0.3895, IoU: 0.6107\n",
      "  Val   -> Loss: 0.5072, IoU: 0.4930\n",
      "  LR: 0.00005000\n",
      "Validation IoU did not improve. Patience: 6/30\n"
     ]
    },
    {
     "name": "stderr",
     "output_type": "stream",
     "text": [
      "Epoch 23/200 [Train]: 100%|██████████| 750/750 [02:37<00:00,  4.77it/s, iou=0.699, loss=0.3]   \n",
      "Epoch 23/200 [Val]: 100%|██████████| 200/200 [00:15<00:00, 13.15it/s]\n"
     ]
    },
    {
     "name": "stdout",
     "output_type": "stream",
     "text": [
      "Epoch 23 Summary:\n",
      "  Train -> Loss: 0.3794, IoU: 0.6207\n",
      "  Val   -> Loss: 0.4944, IoU: 0.5057\n",
      "  LR: 0.00005000\n",
      "🚀 New best validation IoU: 0.5057. Saving model...\n"
     ]
    },
    {
     "name": "stderr",
     "output_type": "stream",
     "text": [
      "Epoch 24/200 [Train]: 100%|██████████| 750/750 [02:36<00:00,  4.79it/s, iou=0.82, loss=0.179]  \n",
      "Epoch 24/200 [Val]: 100%|██████████| 200/200 [00:15<00:00, 12.76it/s]\n"
     ]
    },
    {
     "name": "stdout",
     "output_type": "stream",
     "text": [
      "Epoch 24 Summary:\n",
      "  Train -> Loss: 0.3664, IoU: 0.6337\n",
      "  Val   -> Loss: 0.4906, IoU: 0.5096\n",
      "  LR: 0.00005000\n",
      "🚀 New best validation IoU: 0.5096. Saving model...\n"
     ]
    },
    {
     "name": "stderr",
     "output_type": "stream",
     "text": [
      "Epoch 25/200 [Train]: 100%|██████████| 750/750 [02:36<00:00,  4.79it/s, iou=0.714, loss=0.285] \n",
      "Epoch 25/200 [Val]: 100%|██████████| 200/200 [00:14<00:00, 13.42it/s]\n"
     ]
    },
    {
     "name": "stdout",
     "output_type": "stream",
     "text": [
      "Epoch 25 Summary:\n",
      "  Train -> Loss: 0.3635, IoU: 0.6366\n",
      "  Val   -> Loss: 0.4916, IoU: 0.5086\n",
      "  LR: 0.00005000\n",
      "Validation IoU did not improve. Patience: 1/30\n"
     ]
    },
    {
     "name": "stderr",
     "output_type": "stream",
     "text": [
      "Epoch 26/200 [Train]: 100%|██████████| 750/750 [02:36<00:00,  4.78it/s, iou=0.874, loss=0.126] \n",
      "Epoch 26/200 [Val]: 100%|██████████| 200/200 [00:14<00:00, 13.47it/s]\n"
     ]
    },
    {
     "name": "stdout",
     "output_type": "stream",
     "text": [
      "Epoch 26 Summary:\n",
      "  Train -> Loss: 0.3578, IoU: 0.6423\n",
      "  Val   -> Loss: 0.4903, IoU: 0.5099\n",
      "  LR: 0.00005000\n",
      "🚀 New best validation IoU: 0.5099. Saving model...\n"
     ]
    },
    {
     "name": "stderr",
     "output_type": "stream",
     "text": [
      "Epoch 27/200 [Train]: 100%|██████████| 750/750 [02:36<00:00,  4.80it/s, iou=0.441, loss=0.559] \n",
      "Epoch 27/200 [Val]: 100%|██████████| 200/200 [00:14<00:00, 13.39it/s]\n"
     ]
    },
    {
     "name": "stdout",
     "output_type": "stream",
     "text": [
      "Epoch 27 Summary:\n",
      "  Train -> Loss: 0.3660, IoU: 0.6340\n",
      "  Val   -> Loss: 0.4966, IoU: 0.5036\n",
      "  LR: 0.00005000\n",
      "Validation IoU did not improve. Patience: 1/30\n"
     ]
    },
    {
     "name": "stderr",
     "output_type": "stream",
     "text": [
      "Epoch 28/200 [Train]: 100%|██████████| 750/750 [02:36<00:00,  4.79it/s, iou=0.64, loss=0.361]  \n",
      "Epoch 28/200 [Val]: 100%|██████████| 200/200 [00:15<00:00, 13.17it/s]\n"
     ]
    },
    {
     "name": "stdout",
     "output_type": "stream",
     "text": [
      "Epoch 28 Summary:\n",
      "  Train -> Loss: 0.3569, IoU: 0.6433\n",
      "  Val   -> Loss: 0.4896, IoU: 0.5107\n",
      "  LR: 0.00005000\n",
      "🚀 New best validation IoU: 0.5107. Saving model...\n"
     ]
    },
    {
     "name": "stderr",
     "output_type": "stream",
     "text": [
      "Epoch 29/200 [Train]: 100%|██████████| 750/750 [02:36<00:00,  4.80it/s, iou=0.696, loss=0.304] \n",
      "Epoch 29/200 [Val]: 100%|██████████| 200/200 [00:15<00:00, 12.94it/s]\n"
     ]
    },
    {
     "name": "stdout",
     "output_type": "stream",
     "text": [
      "Epoch 29 Summary:\n",
      "  Train -> Loss: 0.3571, IoU: 0.6431\n",
      "  Val   -> Loss: 0.4901, IoU: 0.5101\n",
      "  LR: 0.00005000\n",
      "Validation IoU did not improve. Patience: 1/30\n"
     ]
    },
    {
     "name": "stderr",
     "output_type": "stream",
     "text": [
      "Epoch 30/200 [Train]: 100%|██████████| 750/750 [02:36<00:00,  4.80it/s, iou=0.786, loss=0.214] \n",
      "Epoch 30/200 [Val]: 100%|██████████| 200/200 [00:15<00:00, 13.14it/s]\n"
     ]
    },
    {
     "name": "stdout",
     "output_type": "stream",
     "text": [
      "Epoch 30 Summary:\n",
      "  Train -> Loss: 0.3587, IoU: 0.6414\n",
      "  Val   -> Loss: 0.4869, IoU: 0.5133\n",
      "  LR: 0.00005000\n",
      "🚀 New best validation IoU: 0.5133. Saving model...\n"
     ]
    },
    {
     "name": "stderr",
     "output_type": "stream",
     "text": [
      "Epoch 31/200 [Train]: 100%|██████████| 750/750 [02:36<00:00,  4.80it/s, iou=0.843, loss=0.158] \n",
      "Epoch 31/200 [Val]: 100%|██████████| 200/200 [00:15<00:00, 13.01it/s]\n"
     ]
    },
    {
     "name": "stdout",
     "output_type": "stream",
     "text": [
      "Epoch 31 Summary:\n",
      "  Train -> Loss: 0.3523, IoU: 0.6478\n",
      "  Val   -> Loss: 0.4954, IoU: 0.5048\n",
      "  LR: 0.00005000\n",
      "Validation IoU did not improve. Patience: 1/30\n"
     ]
    },
    {
     "name": "stderr",
     "output_type": "stream",
     "text": [
      "Epoch 32/200 [Train]: 100%|██████████| 750/750 [02:36<00:00,  4.79it/s, iou=0.789, loss=0.212] \n",
      "Epoch 32/200 [Val]: 100%|██████████| 200/200 [00:14<00:00, 13.37it/s]\n"
     ]
    },
    {
     "name": "stdout",
     "output_type": "stream",
     "text": [
      "Epoch 32 Summary:\n",
      "  Train -> Loss: 0.3515, IoU: 0.6487\n",
      "  Val   -> Loss: 0.4899, IoU: 0.5102\n",
      "  LR: 0.00005000\n",
      "Validation IoU did not improve. Patience: 2/30\n"
     ]
    },
    {
     "name": "stderr",
     "output_type": "stream",
     "text": [
      "Epoch 33/200 [Train]: 100%|██████████| 750/750 [02:36<00:00,  4.79it/s, iou=0.847, loss=0.153] \n",
      "Epoch 33/200 [Val]: 100%|██████████| 200/200 [00:14<00:00, 13.39it/s]\n"
     ]
    },
    {
     "name": "stdout",
     "output_type": "stream",
     "text": [
      "Epoch 33 Summary:\n",
      "  Train -> Loss: 0.3514, IoU: 0.6487\n",
      "  Val   -> Loss: 0.4876, IoU: 0.5125\n",
      "  LR: 0.00005000\n",
      "Validation IoU did not improve. Patience: 3/30\n"
     ]
    },
    {
     "name": "stderr",
     "output_type": "stream",
     "text": [
      "Epoch 34/200 [Train]: 100%|██████████| 750/750 [02:36<00:00,  4.80it/s, iou=0.913, loss=0.0867]\n",
      "Epoch 34/200 [Val]: 100%|██████████| 200/200 [00:15<00:00, 13.19it/s]\n"
     ]
    },
    {
     "name": "stdout",
     "output_type": "stream",
     "text": [
      "Epoch 34 Summary:\n",
      "  Train -> Loss: 0.3475, IoU: 0.6526\n",
      "  Val   -> Loss: 0.4941, IoU: 0.5062\n",
      "  LR: 0.00005000\n",
      "Validation IoU did not improve. Patience: 4/30\n"
     ]
    },
    {
     "name": "stderr",
     "output_type": "stream",
     "text": [
      "Epoch 35/200 [Train]: 100%|██████████| 750/750 [02:36<00:00,  4.80it/s, iou=0.652, loss=0.349] \n",
      "Epoch 35/200 [Val]: 100%|██████████| 200/200 [00:15<00:00, 13.28it/s]\n"
     ]
    },
    {
     "name": "stdout",
     "output_type": "stream",
     "text": [
      "Epoch 35 Summary:\n",
      "  Train -> Loss: 0.3532, IoU: 0.6469\n",
      "  Val   -> Loss: 0.4929, IoU: 0.5073\n",
      "  LR: 0.00005000\n",
      "Validation IoU did not improve. Patience: 5/30\n"
     ]
    },
    {
     "name": "stderr",
     "output_type": "stream",
     "text": [
      "Epoch 36/200 [Train]: 100%|██████████| 750/750 [02:36<00:00,  4.79it/s, iou=0.513, loss=0.487] \n",
      "Epoch 36/200 [Val]: 100%|██████████| 200/200 [00:15<00:00, 13.08it/s]\n"
     ]
    },
    {
     "name": "stdout",
     "output_type": "stream",
     "text": [
      "Epoch 36 Summary:\n",
      "  Train -> Loss: 0.3524, IoU: 0.6477\n",
      "  Val   -> Loss: 0.4914, IoU: 0.5087\n",
      "  LR: 0.00002500\n",
      "Validation IoU did not improve. Patience: 6/30\n"
     ]
    },
    {
     "name": "stderr",
     "output_type": "stream",
     "text": [
      "Epoch 37/200 [Train]: 100%|██████████| 750/750 [02:36<00:00,  4.80it/s, iou=0.706, loss=0.295] \n",
      "Epoch 37/200 [Val]: 100%|██████████| 200/200 [00:15<00:00, 13.09it/s]\n"
     ]
    },
    {
     "name": "stdout",
     "output_type": "stream",
     "text": [
      "Epoch 37 Summary:\n",
      "  Train -> Loss: 0.3430, IoU: 0.6571\n",
      "  Val   -> Loss: 0.4853, IoU: 0.5149\n",
      "  LR: 0.00002500\n",
      "🚀 New best validation IoU: 0.5149. Saving model...\n"
     ]
    },
    {
     "name": "stderr",
     "output_type": "stream",
     "text": [
      "Epoch 38/200 [Train]: 100%|██████████| 750/750 [02:36<00:00,  4.80it/s, iou=0.752, loss=0.248] \n",
      "Epoch 38/200 [Val]: 100%|██████████| 200/200 [00:15<00:00, 13.11it/s]\n"
     ]
    },
    {
     "name": "stdout",
     "output_type": "stream",
     "text": [
      "Epoch 38 Summary:\n",
      "  Train -> Loss: 0.3301, IoU: 0.6701\n",
      "  Val   -> Loss: 0.4858, IoU: 0.5143\n",
      "  LR: 0.00002500\n",
      "Validation IoU did not improve. Patience: 1/30\n"
     ]
    },
    {
     "name": "stderr",
     "output_type": "stream",
     "text": [
      "Epoch 39/200 [Train]: 100%|██████████| 750/750 [02:36<00:00,  4.80it/s, iou=0.72, loss=0.281]  \n",
      "Epoch 39/200 [Val]: 100%|██████████| 200/200 [00:14<00:00, 13.40it/s]\n"
     ]
    },
    {
     "name": "stdout",
     "output_type": "stream",
     "text": [
      "Epoch 39 Summary:\n",
      "  Train -> Loss: 0.3391, IoU: 0.6610\n",
      "  Val   -> Loss: 0.4899, IoU: 0.5103\n",
      "  LR: 0.00002500\n",
      "Validation IoU did not improve. Patience: 2/30\n"
     ]
    },
    {
     "name": "stderr",
     "output_type": "stream",
     "text": [
      "Epoch 40/200 [Train]: 100%|██████████| 750/750 [02:36<00:00,  4.80it/s, iou=0.79, loss=0.21]   \n",
      "Epoch 40/200 [Val]: 100%|██████████| 200/200 [00:15<00:00, 13.14it/s]\n"
     ]
    },
    {
     "name": "stdout",
     "output_type": "stream",
     "text": [
      "Epoch 40 Summary:\n",
      "  Train -> Loss: 0.3359, IoU: 0.6642\n",
      "  Val   -> Loss: 0.4847, IoU: 0.5154\n",
      "  LR: 0.00002500\n",
      "🚀 New best validation IoU: 0.5154. Saving model...\n"
     ]
    },
    {
     "name": "stderr",
     "output_type": "stream",
     "text": [
      "Epoch 41/200 [Train]: 100%|██████████| 750/750 [02:36<00:00,  4.80it/s, iou=0.848, loss=0.152] \n",
      "Epoch 41/200 [Val]: 100%|██████████| 200/200 [00:15<00:00, 13.16it/s]\n"
     ]
    },
    {
     "name": "stdout",
     "output_type": "stream",
     "text": [
      "Epoch 41 Summary:\n",
      "  Train -> Loss: 0.3285, IoU: 0.6716\n",
      "  Val   -> Loss: 0.4847, IoU: 0.5154\n",
      "  LR: 0.00002500\n",
      "🚀 New best validation IoU: 0.5154. Saving model...\n"
     ]
    },
    {
     "name": "stderr",
     "output_type": "stream",
     "text": [
      "Epoch 42/200 [Train]: 100%|██████████| 750/750 [02:36<00:00,  4.81it/s, iou=0.521, loss=0.479] \n",
      "Epoch 42/200 [Val]: 100%|██████████| 200/200 [00:14<00:00, 13.42it/s]\n"
     ]
    },
    {
     "name": "stdout",
     "output_type": "stream",
     "text": [
      "Epoch 42 Summary:\n",
      "  Train -> Loss: 0.3276, IoU: 0.6725\n",
      "  Val   -> Loss: 0.4833, IoU: 0.5168\n",
      "  LR: 0.00002500\n",
      "🚀 New best validation IoU: 0.5168. Saving model...\n"
     ]
    },
    {
     "name": "stderr",
     "output_type": "stream",
     "text": [
      "Epoch 43/200 [Train]: 100%|██████████| 750/750 [02:36<00:00,  4.80it/s, iou=0.756, loss=0.244] \n",
      "Epoch 43/200 [Val]: 100%|██████████| 200/200 [00:15<00:00, 13.32it/s]\n"
     ]
    },
    {
     "name": "stdout",
     "output_type": "stream",
     "text": [
      "Epoch 43 Summary:\n",
      "  Train -> Loss: 0.3253, IoU: 0.6749\n",
      "  Val   -> Loss: 0.4851, IoU: 0.5150\n",
      "  LR: 0.00002500\n",
      "Validation IoU did not improve. Patience: 1/30\n"
     ]
    },
    {
     "name": "stderr",
     "output_type": "stream",
     "text": [
      "Epoch 44/200 [Train]: 100%|██████████| 750/750 [02:36<00:00,  4.79it/s, iou=0.862, loss=0.139] \n",
      "Epoch 44/200 [Val]: 100%|██████████| 200/200 [00:15<00:00, 13.18it/s]\n"
     ]
    },
    {
     "name": "stdout",
     "output_type": "stream",
     "text": [
      "Epoch 44 Summary:\n",
      "  Train -> Loss: 0.3300, IoU: 0.6701\n",
      "  Val   -> Loss: 0.4839, IoU: 0.5162\n",
      "  LR: 0.00002500\n",
      "Validation IoU did not improve. Patience: 2/30\n"
     ]
    },
    {
     "name": "stderr",
     "output_type": "stream",
     "text": [
      "Epoch 45/200 [Train]: 100%|██████████| 750/750 [02:36<00:00,  4.80it/s, iou=0.769, loss=0.231] \n",
      "Epoch 45/200 [Val]: 100%|██████████| 200/200 [00:15<00:00, 13.27it/s]\n"
     ]
    },
    {
     "name": "stdout",
     "output_type": "stream",
     "text": [
      "Epoch 45 Summary:\n",
      "  Train -> Loss: 0.3256, IoU: 0.6745\n",
      "  Val   -> Loss: 0.4855, IoU: 0.5147\n",
      "  LR: 0.00002500\n",
      "Validation IoU did not improve. Patience: 3/30\n"
     ]
    },
    {
     "name": "stderr",
     "output_type": "stream",
     "text": [
      "Epoch 46/200 [Train]: 100%|██████████| 750/750 [02:35<00:00,  4.81it/s, iou=0.657, loss=0.343] \n",
      "Epoch 46/200 [Val]: 100%|██████████| 200/200 [00:15<00:00, 13.08it/s]\n"
     ]
    },
    {
     "name": "stdout",
     "output_type": "stream",
     "text": [
      "Epoch 46 Summary:\n",
      "  Train -> Loss: 0.3294, IoU: 0.6707\n",
      "  Val   -> Loss: 0.4827, IoU: 0.5175\n",
      "  LR: 0.00002500\n",
      "🚀 New best validation IoU: 0.5175. Saving model...\n"
     ]
    },
    {
     "name": "stderr",
     "output_type": "stream",
     "text": [
      "Epoch 47/200 [Train]: 100%|██████████| 750/750 [02:36<00:00,  4.81it/s, iou=0.853, loss=0.147] \n",
      "Epoch 47/200 [Val]: 100%|██████████| 200/200 [00:15<00:00, 13.01it/s]\n"
     ]
    },
    {
     "name": "stdout",
     "output_type": "stream",
     "text": [
      "Epoch 47 Summary:\n",
      "  Train -> Loss: 0.3272, IoU: 0.6730\n",
      "  Val   -> Loss: 0.4858, IoU: 0.5142\n",
      "  LR: 0.00002500\n",
      "Validation IoU did not improve. Patience: 1/30\n"
     ]
    },
    {
     "name": "stderr",
     "output_type": "stream",
     "text": [
      "Epoch 48/200 [Train]: 100%|██████████| 750/750 [02:36<00:00,  4.80it/s, iou=0.579, loss=0.422] \n",
      "Epoch 48/200 [Val]: 100%|██████████| 200/200 [00:15<00:00, 13.16it/s]\n"
     ]
    },
    {
     "name": "stdout",
     "output_type": "stream",
     "text": [
      "Epoch 48 Summary:\n",
      "  Train -> Loss: 0.3200, IoU: 0.6802\n",
      "  Val   -> Loss: 0.4869, IoU: 0.5133\n",
      "  LR: 0.00002500\n",
      "Validation IoU did not improve. Patience: 2/30\n"
     ]
    },
    {
     "name": "stderr",
     "output_type": "stream",
     "text": [
      "Epoch 49/200 [Train]: 100%|██████████| 750/750 [02:36<00:00,  4.80it/s, iou=0.334, loss=0.668] \n",
      "Epoch 49/200 [Val]: 100%|██████████| 200/200 [00:14<00:00, 13.51it/s]\n"
     ]
    },
    {
     "name": "stdout",
     "output_type": "stream",
     "text": [
      "Epoch 49 Summary:\n",
      "  Train -> Loss: 0.3301, IoU: 0.6701\n",
      "  Val   -> Loss: 0.4882, IoU: 0.5120\n",
      "  LR: 0.00002500\n",
      "Validation IoU did not improve. Patience: 3/30\n"
     ]
    },
    {
     "name": "stderr",
     "output_type": "stream",
     "text": [
      "Epoch 50/200 [Train]: 100%|██████████| 750/750 [02:36<00:00,  4.79it/s, iou=0.794, loss=0.206] \n",
      "Epoch 50/200 [Val]: 100%|██████████| 200/200 [00:14<00:00, 13.49it/s]\n"
     ]
    },
    {
     "name": "stdout",
     "output_type": "stream",
     "text": [
      "Epoch 50 Summary:\n",
      "  Train -> Loss: 0.3246, IoU: 0.6756\n",
      "  Val   -> Loss: 0.4825, IoU: 0.5177\n",
      "  LR: 0.00002500\n",
      "🚀 New best validation IoU: 0.5177. Saving model...\n"
     ]
    },
    {
     "name": "stderr",
     "output_type": "stream",
     "text": [
      "Epoch 51/200 [Train]: 100%|██████████| 750/750 [02:36<00:00,  4.81it/s, iou=0.837, loss=0.163] \n",
      "Epoch 51/200 [Val]: 100%|██████████| 200/200 [00:15<00:00, 13.25it/s]\n"
     ]
    },
    {
     "name": "stdout",
     "output_type": "stream",
     "text": [
      "Epoch 51 Summary:\n",
      "  Train -> Loss: 0.3190, IoU: 0.6811\n",
      "  Val   -> Loss: 0.4842, IoU: 0.5159\n",
      "  LR: 0.00002500\n",
      "Validation IoU did not improve. Patience: 1/30\n"
     ]
    },
    {
     "name": "stderr",
     "output_type": "stream",
     "text": [
      "Epoch 52/200 [Train]: 100%|██████████| 750/750 [02:37<00:00,  4.76it/s, iou=0.36, loss=0.64]   \n",
      "Epoch 52/200 [Val]: 100%|██████████| 200/200 [00:15<00:00, 12.85it/s]\n"
     ]
    },
    {
     "name": "stdout",
     "output_type": "stream",
     "text": [
      "Epoch 52 Summary:\n",
      "  Train -> Loss: 0.3195, IoU: 0.6807\n",
      "  Val   -> Loss: 0.4835, IoU: 0.5166\n",
      "  LR: 0.00002500\n",
      "Validation IoU did not improve. Patience: 2/30\n"
     ]
    },
    {
     "name": "stderr",
     "output_type": "stream",
     "text": [
      "Epoch 53/200 [Train]: 100%|██████████| 750/750 [02:35<00:00,  4.83it/s, iou=0.753, loss=0.247] \n",
      "Epoch 53/200 [Val]: 100%|██████████| 200/200 [00:15<00:00, 13.01it/s]\n"
     ]
    },
    {
     "name": "stdout",
     "output_type": "stream",
     "text": [
      "Epoch 53 Summary:\n",
      "  Train -> Loss: 0.3172, IoU: 0.6830\n",
      "  Val   -> Loss: 0.4841, IoU: 0.5161\n",
      "  LR: 0.00002500\n",
      "Validation IoU did not improve. Patience: 3/30\n"
     ]
    },
    {
     "name": "stderr",
     "output_type": "stream",
     "text": [
      "Epoch 54/200 [Train]: 100%|██████████| 750/750 [02:35<00:00,  4.82it/s, iou=0.825, loss=0.175] \n",
      "Epoch 54/200 [Val]: 100%|██████████| 200/200 [00:15<00:00, 13.07it/s]\n"
     ]
    },
    {
     "name": "stdout",
     "output_type": "stream",
     "text": [
      "Epoch 54 Summary:\n",
      "  Train -> Loss: 0.3168, IoU: 0.6833\n",
      "  Val   -> Loss: 0.4826, IoU: 0.5175\n",
      "  LR: 0.00002500\n",
      "Validation IoU did not improve. Patience: 4/30\n"
     ]
    },
    {
     "name": "stderr",
     "output_type": "stream",
     "text": [
      "Epoch 55/200 [Train]: 100%|██████████| 750/750 [02:36<00:00,  4.80it/s, iou=0.294, loss=0.706] \n",
      "Epoch 55/200 [Val]: 100%|██████████| 200/200 [00:15<00:00, 13.09it/s]\n"
     ]
    },
    {
     "name": "stdout",
     "output_type": "stream",
     "text": [
      "Epoch 55 Summary:\n",
      "  Train -> Loss: 0.3154, IoU: 0.6847\n",
      "  Val   -> Loss: 0.4861, IoU: 0.5140\n",
      "  LR: 0.00002500\n",
      "Validation IoU did not improve. Patience: 5/30\n"
     ]
    },
    {
     "name": "stderr",
     "output_type": "stream",
     "text": [
      "Epoch 56/200 [Train]: 100%|██████████| 750/750 [02:36<00:00,  4.79it/s, iou=0.712, loss=0.288] \n",
      "Epoch 56/200 [Val]: 100%|██████████| 200/200 [00:15<00:00, 13.20it/s]\n"
     ]
    },
    {
     "name": "stdout",
     "output_type": "stream",
     "text": [
      "Epoch 56 Summary:\n",
      "  Train -> Loss: 0.3203, IoU: 0.6799\n",
      "  Val   -> Loss: 0.4818, IoU: 0.5182\n",
      "  LR: 0.00002500\n",
      "🚀 New best validation IoU: 0.5182. Saving model...\n"
     ]
    },
    {
     "name": "stderr",
     "output_type": "stream",
     "text": [
      "Epoch 57/200 [Train]: 100%|██████████| 750/750 [02:36<00:00,  4.78it/s, iou=0.448, loss=0.552] \n",
      "Epoch 57/200 [Val]: 100%|██████████| 200/200 [00:14<00:00, 13.34it/s]\n"
     ]
    },
    {
     "name": "stdout",
     "output_type": "stream",
     "text": [
      "Epoch 57 Summary:\n",
      "  Train -> Loss: 0.3178, IoU: 0.6823\n",
      "  Val   -> Loss: 0.4844, IoU: 0.5157\n",
      "  LR: 0.00002500\n",
      "Validation IoU did not improve. Patience: 1/30\n"
     ]
    },
    {
     "name": "stderr",
     "output_type": "stream",
     "text": [
      "Epoch 58/200 [Train]: 100%|██████████| 750/750 [02:36<00:00,  4.79it/s, iou=0.918, loss=0.0817]\n",
      "Epoch 58/200 [Val]: 100%|██████████| 200/200 [00:15<00:00, 13.25it/s]\n"
     ]
    },
    {
     "name": "stdout",
     "output_type": "stream",
     "text": [
      "Epoch 58 Summary:\n",
      "  Train -> Loss: 0.3179, IoU: 0.6822\n",
      "  Val   -> Loss: 0.4855, IoU: 0.5145\n",
      "  LR: 0.00002500\n",
      "Validation IoU did not improve. Patience: 2/30\n"
     ]
    },
    {
     "name": "stderr",
     "output_type": "stream",
     "text": [
      "Epoch 59/200 [Train]: 100%|██████████| 750/750 [02:37<00:00,  4.78it/s, iou=0.917, loss=0.0833]\n",
      "Epoch 59/200 [Val]: 100%|██████████| 200/200 [00:14<00:00, 13.44it/s]\n"
     ]
    },
    {
     "name": "stdout",
     "output_type": "stream",
     "text": [
      "Epoch 59 Summary:\n",
      "  Train -> Loss: 0.3144, IoU: 0.6857\n",
      "  Val   -> Loss: 0.4828, IoU: 0.5173\n",
      "  LR: 0.00002500\n",
      "Validation IoU did not improve. Patience: 3/30\n"
     ]
    },
    {
     "name": "stderr",
     "output_type": "stream",
     "text": [
      "Epoch 60/200 [Train]: 100%|██████████| 750/750 [02:36<00:00,  4.80it/s, iou=0.813, loss=0.187] \n",
      "Epoch 60/200 [Val]: 100%|██████████| 200/200 [00:15<00:00, 12.84it/s]\n"
     ]
    },
    {
     "name": "stdout",
     "output_type": "stream",
     "text": [
      "Epoch 60 Summary:\n",
      "  Train -> Loss: 0.3168, IoU: 0.6833\n",
      "  Val   -> Loss: 0.4847, IoU: 0.5154\n",
      "  LR: 0.00002500\n",
      "Validation IoU did not improve. Patience: 4/30\n"
     ]
    },
    {
     "name": "stderr",
     "output_type": "stream",
     "text": [
      "Epoch 61/200 [Train]: 100%|██████████| 750/750 [02:37<00:00,  4.76it/s, iou=0.754, loss=0.246] \n",
      "Epoch 61/200 [Val]: 100%|██████████| 200/200 [00:15<00:00, 13.03it/s]\n"
     ]
    },
    {
     "name": "stdout",
     "output_type": "stream",
     "text": [
      "Epoch 61 Summary:\n",
      "  Train -> Loss: 0.3144, IoU: 0.6857\n",
      "  Val   -> Loss: 0.4838, IoU: 0.5164\n",
      "  LR: 0.00002500\n",
      "Validation IoU did not improve. Patience: 5/30\n"
     ]
    },
    {
     "name": "stderr",
     "output_type": "stream",
     "text": [
      "Epoch 62/200 [Train]: 100%|██████████| 750/750 [02:40<00:00,  4.67it/s, iou=0.427, loss=0.574] \n",
      "Epoch 62/200 [Val]: 100%|██████████| 200/200 [00:15<00:00, 12.57it/s]\n"
     ]
    },
    {
     "name": "stdout",
     "output_type": "stream",
     "text": [
      "Epoch 62 Summary:\n",
      "  Train -> Loss: 0.3137, IoU: 0.6864\n",
      "  Val   -> Loss: 0.4839, IoU: 0.5164\n",
      "  LR: 0.00001250\n",
      "Validation IoU did not improve. Patience: 6/30\n"
     ]
    },
    {
     "name": "stderr",
     "output_type": "stream",
     "text": [
      "Epoch 63/200 [Train]: 100%|██████████| 750/750 [02:45<00:00,  4.54it/s, iou=0.817, loss=0.184] \n",
      "Epoch 63/200 [Val]: 100%|██████████| 200/200 [00:16<00:00, 11.99it/s]\n"
     ]
    },
    {
     "name": "stdout",
     "output_type": "stream",
     "text": [
      "Epoch 63 Summary:\n",
      "  Train -> Loss: 0.3092, IoU: 0.6909\n",
      "  Val   -> Loss: 0.4839, IoU: 0.5162\n",
      "  LR: 0.00001250\n",
      "Validation IoU did not improve. Patience: 7/30\n"
     ]
    },
    {
     "name": "stderr",
     "output_type": "stream",
     "text": [
      "Epoch 64/200 [Train]: 100%|██████████| 750/750 [02:49<00:00,  4.42it/s, iou=0.932, loss=0.0672]\n",
      "Epoch 64/200 [Val]: 100%|██████████| 200/200 [00:16<00:00, 12.24it/s]\n"
     ]
    },
    {
     "name": "stdout",
     "output_type": "stream",
     "text": [
      "Epoch 64 Summary:\n",
      "  Train -> Loss: 0.3053, IoU: 0.6949\n",
      "  Val   -> Loss: 0.4815, IoU: 0.5187\n",
      "  LR: 0.00001250\n",
      "🚀 New best validation IoU: 0.5187. Saving model...\n"
     ]
    },
    {
     "name": "stderr",
     "output_type": "stream",
     "text": [
      "Epoch 65/200 [Train]: 100%|██████████| 750/750 [02:46<00:00,  4.50it/s, iou=0.769, loss=0.231] \n",
      "Epoch 65/200 [Val]: 100%|██████████| 200/200 [00:15<00:00, 12.53it/s]\n"
     ]
    },
    {
     "name": "stdout",
     "output_type": "stream",
     "text": [
      "Epoch 65 Summary:\n",
      "  Train -> Loss: 0.3059, IoU: 0.6942\n",
      "  Val   -> Loss: 0.4832, IoU: 0.5170\n",
      "  LR: 0.00001250\n",
      "Validation IoU did not improve. Patience: 1/30\n"
     ]
    },
    {
     "name": "stderr",
     "output_type": "stream",
     "text": [
      "Epoch 66/200 [Train]: 100%|██████████| 750/750 [02:45<00:00,  4.53it/s, iou=0.673, loss=0.328] \n",
      "Epoch 66/200 [Val]: 100%|██████████| 200/200 [00:16<00:00, 12.49it/s]\n"
     ]
    },
    {
     "name": "stdout",
     "output_type": "stream",
     "text": [
      "Epoch 66 Summary:\n",
      "  Train -> Loss: 0.3008, IoU: 0.6993\n",
      "  Val   -> Loss: 0.4840, IoU: 0.5161\n",
      "  LR: 0.00001250\n",
      "Validation IoU did not improve. Patience: 2/30\n"
     ]
    },
    {
     "name": "stderr",
     "output_type": "stream",
     "text": [
      "Epoch 67/200 [Train]: 100%|██████████| 750/750 [02:45<00:00,  4.54it/s, iou=0.753, loss=0.247] \n",
      "Epoch 67/200 [Val]: 100%|██████████| 200/200 [00:15<00:00, 12.62it/s]\n"
     ]
    },
    {
     "name": "stdout",
     "output_type": "stream",
     "text": [
      "Epoch 67 Summary:\n",
      "  Train -> Loss: 0.3024, IoU: 0.6977\n",
      "  Val   -> Loss: 0.4832, IoU: 0.5169\n",
      "  LR: 0.00001250\n",
      "Validation IoU did not improve. Patience: 3/30\n"
     ]
    },
    {
     "name": "stderr",
     "output_type": "stream",
     "text": [
      "Epoch 68/200 [Train]: 100%|██████████| 750/750 [02:43<00:00,  4.60it/s, iou=0.742, loss=0.258] \n",
      "Epoch 68/200 [Val]: 100%|██████████| 200/200 [00:15<00:00, 12.65it/s]\n"
     ]
    },
    {
     "name": "stdout",
     "output_type": "stream",
     "text": [
      "Epoch 68 Summary:\n",
      "  Train -> Loss: 0.3049, IoU: 0.6953\n",
      "  Val   -> Loss: 0.4812, IoU: 0.5190\n",
      "  LR: 0.00001250\n",
      "🚀 New best validation IoU: 0.5190. Saving model...\n"
     ]
    },
    {
     "name": "stderr",
     "output_type": "stream",
     "text": [
      "Epoch 69/200 [Train]: 100%|██████████| 750/750 [02:41<00:00,  4.63it/s, iou=0.59, loss=0.411]  \n",
      "Epoch 69/200 [Val]: 100%|██████████| 200/200 [00:15<00:00, 12.81it/s]\n"
     ]
    },
    {
     "name": "stdout",
     "output_type": "stream",
     "text": [
      "Epoch 69 Summary:\n",
      "  Train -> Loss: 0.3014, IoU: 0.6988\n",
      "  Val   -> Loss: 0.4824, IoU: 0.5178\n",
      "  LR: 0.00001250\n",
      "Validation IoU did not improve. Patience: 1/30\n"
     ]
    },
    {
     "name": "stderr",
     "output_type": "stream",
     "text": [
      "Epoch 70/200 [Train]: 100%|██████████| 750/750 [02:41<00:00,  4.64it/s, iou=0.915, loss=0.0848]\n",
      "Epoch 70/200 [Val]: 100%|██████████| 200/200 [00:15<00:00, 12.61it/s]\n"
     ]
    },
    {
     "name": "stdout",
     "output_type": "stream",
     "text": [
      "Epoch 70 Summary:\n",
      "  Train -> Loss: 0.3003, IoU: 0.6999\n",
      "  Val   -> Loss: 0.4824, IoU: 0.5177\n",
      "  LR: 0.00001250\n",
      "Validation IoU did not improve. Patience: 2/30\n"
     ]
    },
    {
     "name": "stderr",
     "output_type": "stream",
     "text": [
      "Epoch 71/200 [Train]: 100%|██████████| 750/750 [02:41<00:00,  4.64it/s, iou=0.907, loss=0.0928]\n",
      "Epoch 71/200 [Val]: 100%|██████████| 200/200 [00:15<00:00, 12.76it/s]\n"
     ]
    },
    {
     "name": "stdout",
     "output_type": "stream",
     "text": [
      "Epoch 71 Summary:\n",
      "  Train -> Loss: 0.3044, IoU: 0.6957\n",
      "  Val   -> Loss: 0.4813, IoU: 0.5189\n",
      "  LR: 0.00001250\n",
      "Validation IoU did not improve. Patience: 3/30\n"
     ]
    },
    {
     "name": "stderr",
     "output_type": "stream",
     "text": [
      "Epoch 72/200 [Train]: 100%|██████████| 750/750 [02:42<00:00,  4.61it/s, iou=0.921, loss=0.0792]\n",
      "Epoch 72/200 [Val]: 100%|██████████| 200/200 [00:15<00:00, 12.75it/s]\n"
     ]
    },
    {
     "name": "stdout",
     "output_type": "stream",
     "text": [
      "Epoch 72 Summary:\n",
      "  Train -> Loss: 0.2998, IoU: 0.7003\n",
      "  Val   -> Loss: 0.4842, IoU: 0.5160\n",
      "  LR: 0.00001250\n",
      "Validation IoU did not improve. Patience: 4/30\n"
     ]
    },
    {
     "name": "stderr",
     "output_type": "stream",
     "text": [
      "Epoch 73/200 [Train]: 100%|██████████| 750/750 [02:42<00:00,  4.62it/s, iou=0.808, loss=0.192] \n",
      "Epoch 73/200 [Val]: 100%|██████████| 200/200 [00:15<00:00, 12.72it/s]\n"
     ]
    },
    {
     "name": "stdout",
     "output_type": "stream",
     "text": [
      "Epoch 73 Summary:\n",
      "  Train -> Loss: 0.3020, IoU: 0.6981\n",
      "  Val   -> Loss: 0.4832, IoU: 0.5169\n",
      "  LR: 0.00001250\n",
      "Validation IoU did not improve. Patience: 5/30\n"
     ]
    },
    {
     "name": "stderr",
     "output_type": "stream",
     "text": [
      "Epoch 74/200 [Train]: 100%|██████████| 750/750 [02:41<00:00,  4.64it/s, iou=0.922, loss=0.0781]\n",
      "Epoch 74/200 [Val]: 100%|██████████| 200/200 [00:15<00:00, 12.80it/s]\n"
     ]
    },
    {
     "name": "stdout",
     "output_type": "stream",
     "text": [
      "Epoch 74 Summary:\n",
      "  Train -> Loss: 0.2981, IoU: 0.7020\n",
      "  Val   -> Loss: 0.4816, IoU: 0.5185\n",
      "  LR: 0.00000625\n",
      "Validation IoU did not improve. Patience: 6/30\n"
     ]
    },
    {
     "name": "stderr",
     "output_type": "stream",
     "text": [
      "Epoch 75/200 [Train]: 100%|██████████| 750/750 [02:42<00:00,  4.63it/s, iou=0.74, loss=0.26]   \n",
      "Epoch 75/200 [Val]: 100%|██████████| 200/200 [00:15<00:00, 12.69it/s]\n"
     ]
    },
    {
     "name": "stdout",
     "output_type": "stream",
     "text": [
      "Epoch 75 Summary:\n",
      "  Train -> Loss: 0.2953, IoU: 0.7049\n",
      "  Val   -> Loss: 0.4812, IoU: 0.5190\n",
      "  LR: 0.00000625\n",
      "Validation IoU did not improve. Patience: 7/30\n"
     ]
    },
    {
     "name": "stderr",
     "output_type": "stream",
     "text": [
      "Epoch 76/200 [Train]: 100%|██████████| 750/750 [02:42<00:00,  4.62it/s, iou=0.649, loss=0.351] \n",
      "Epoch 76/200 [Val]: 100%|██████████| 200/200 [00:15<00:00, 12.77it/s]\n"
     ]
    },
    {
     "name": "stdout",
     "output_type": "stream",
     "text": [
      "Epoch 76 Summary:\n",
      "  Train -> Loss: 0.2912, IoU: 0.7090\n",
      "  Val   -> Loss: 0.4831, IoU: 0.5171\n",
      "  LR: 0.00000625\n",
      "Validation IoU did not improve. Patience: 8/30\n"
     ]
    },
    {
     "name": "stderr",
     "output_type": "stream",
     "text": [
      "Epoch 77/200 [Train]: 100%|██████████| 750/750 [02:42<00:00,  4.63it/s, iou=0.619, loss=0.382] \n",
      "Epoch 77/200 [Val]: 100%|██████████| 200/200 [00:15<00:00, 12.59it/s]\n"
     ]
    },
    {
     "name": "stdout",
     "output_type": "stream",
     "text": [
      "Epoch 77 Summary:\n",
      "  Train -> Loss: 0.2961, IoU: 0.7040\n",
      "  Val   -> Loss: 0.4827, IoU: 0.5174\n",
      "  LR: 0.00000625\n",
      "Validation IoU did not improve. Patience: 9/30\n"
     ]
    },
    {
     "name": "stderr",
     "output_type": "stream",
     "text": [
      "Epoch 78/200 [Train]: 100%|██████████| 750/750 [02:41<00:00,  4.64it/s, iou=0.331, loss=0.669] \n",
      "Epoch 78/200 [Val]: 100%|██████████| 200/200 [00:15<00:00, 12.56it/s]\n"
     ]
    },
    {
     "name": "stdout",
     "output_type": "stream",
     "text": [
      "Epoch 78 Summary:\n",
      "  Train -> Loss: 0.2945, IoU: 0.7056\n",
      "  Val   -> Loss: 0.4825, IoU: 0.5177\n",
      "  LR: 0.00000625\n",
      "Validation IoU did not improve. Patience: 10/30\n"
     ]
    },
    {
     "name": "stderr",
     "output_type": "stream",
     "text": [
      "Epoch 79/200 [Train]: 100%|██████████| 750/750 [02:42<00:00,  4.63it/s, iou=0.65, loss=0.348]  \n",
      "Epoch 79/200 [Val]: 100%|██████████| 200/200 [00:15<00:00, 12.75it/s]\n"
     ]
    },
    {
     "name": "stdout",
     "output_type": "stream",
     "text": [
      "Epoch 79 Summary:\n",
      "  Train -> Loss: 0.2934, IoU: 0.7068\n",
      "  Val   -> Loss: 0.4819, IoU: 0.5183\n",
      "  LR: 0.00000625\n",
      "Validation IoU did not improve. Patience: 11/30\n"
     ]
    },
    {
     "name": "stderr",
     "output_type": "stream",
     "text": [
      "Epoch 80/200 [Train]: 100%|██████████| 750/750 [02:41<00:00,  4.64it/s, iou=0.332, loss=0.667] \n",
      "Epoch 80/200 [Val]: 100%|██████████| 200/200 [00:15<00:00, 12.68it/s]\n"
     ]
    },
    {
     "name": "stdout",
     "output_type": "stream",
     "text": [
      "Epoch 80 Summary:\n",
      "  Train -> Loss: 0.2943, IoU: 0.7059\n",
      "  Val   -> Loss: 0.4828, IoU: 0.5175\n",
      "  LR: 0.00000313\n",
      "Validation IoU did not improve. Patience: 12/30\n"
     ]
    },
    {
     "name": "stderr",
     "output_type": "stream",
     "text": [
      "Epoch 81/200 [Train]: 100%|██████████| 750/750 [02:42<00:00,  4.60it/s, iou=0.871, loss=0.13]  \n",
      "Epoch 81/200 [Val]: 100%|██████████| 200/200 [00:15<00:00, 12.52it/s]\n"
     ]
    },
    {
     "name": "stdout",
     "output_type": "stream",
     "text": [
      "Epoch 81 Summary:\n",
      "  Train -> Loss: 0.2919, IoU: 0.7083\n",
      "  Val   -> Loss: 0.4830, IoU: 0.5172\n",
      "  LR: 0.00000313\n",
      "Validation IoU did not improve. Patience: 13/30\n"
     ]
    },
    {
     "name": "stderr",
     "output_type": "stream",
     "text": [
      "Epoch 82/200 [Train]: 100%|██████████| 750/750 [02:41<00:00,  4.65it/s, iou=0.746, loss=0.255] \n",
      "Epoch 82/200 [Val]: 100%|██████████| 200/200 [00:15<00:00, 12.62it/s]\n"
     ]
    },
    {
     "name": "stdout",
     "output_type": "stream",
     "text": [
      "Epoch 82 Summary:\n",
      "  Train -> Loss: 0.2901, IoU: 0.7101\n",
      "  Val   -> Loss: 0.4819, IoU: 0.5182\n",
      "  LR: 0.00000313\n",
      "Validation IoU did not improve. Patience: 14/30\n"
     ]
    },
    {
     "name": "stderr",
     "output_type": "stream",
     "text": [
      "Epoch 83/200 [Train]: 100%|██████████| 750/750 [02:42<00:00,  4.61it/s, iou=0.635, loss=0.365] \n",
      "Epoch 83/200 [Val]: 100%|██████████| 200/200 [00:16<00:00, 12.49it/s]\n"
     ]
    },
    {
     "name": "stdout",
     "output_type": "stream",
     "text": [
      "Epoch 83 Summary:\n",
      "  Train -> Loss: 0.2896, IoU: 0.7106\n",
      "  Val   -> Loss: 0.4823, IoU: 0.5179\n",
      "  LR: 0.00000313\n",
      "Validation IoU did not improve. Patience: 15/30\n"
     ]
    },
    {
     "name": "stderr",
     "output_type": "stream",
     "text": [
      "Epoch 84/200 [Train]: 100%|██████████| 750/750 [02:41<00:00,  4.64it/s, iou=0.783, loss=0.217] \n",
      "Epoch 84/200 [Val]: 100%|██████████| 200/200 [00:16<00:00, 12.43it/s]\n"
     ]
    },
    {
     "name": "stdout",
     "output_type": "stream",
     "text": [
      "Epoch 84 Summary:\n",
      "  Train -> Loss: 0.2891, IoU: 0.7111\n",
      "  Val   -> Loss: 0.4825, IoU: 0.5176\n",
      "  LR: 0.00000313\n",
      "Validation IoU did not improve. Patience: 16/30\n"
     ]
    },
    {
     "name": "stderr",
     "output_type": "stream",
     "text": [
      "Epoch 85/200 [Train]: 100%|██████████| 750/750 [02:42<00:00,  4.63it/s, iou=0.613, loss=0.387] \n",
      "Epoch 85/200 [Val]: 100%|██████████| 200/200 [00:16<00:00, 12.50it/s]\n"
     ]
    },
    {
     "name": "stdout",
     "output_type": "stream",
     "text": [
      "Epoch 85 Summary:\n",
      "  Train -> Loss: 0.2894, IoU: 0.7108\n",
      "  Val   -> Loss: 0.4826, IoU: 0.5176\n",
      "  LR: 0.00000313\n",
      "Validation IoU did not improve. Patience: 17/30\n"
     ]
    },
    {
     "name": "stderr",
     "output_type": "stream",
     "text": [
      "Epoch 86/200 [Train]: 100%|██████████| 750/750 [02:42<00:00,  4.62it/s, iou=0.726, loss=0.274] \n",
      "Epoch 86/200 [Val]: 100%|██████████| 200/200 [00:16<00:00, 12.49it/s]\n"
     ]
    },
    {
     "name": "stdout",
     "output_type": "stream",
     "text": [
      "Epoch 86 Summary:\n",
      "  Train -> Loss: 0.2858, IoU: 0.7145\n",
      "  Val   -> Loss: 0.4820, IoU: 0.5181\n",
      "  LR: 0.00000156\n",
      "Validation IoU did not improve. Patience: 18/30\n"
     ]
    },
    {
     "name": "stderr",
     "output_type": "stream",
     "text": [
      "Epoch 87/200 [Train]: 100%|██████████| 750/750 [02:42<00:00,  4.61it/s, iou=0.766, loss=0.234] \n",
      "Epoch 87/200 [Val]: 100%|██████████| 200/200 [00:16<00:00, 12.46it/s]\n"
     ]
    },
    {
     "name": "stdout",
     "output_type": "stream",
     "text": [
      "Epoch 87 Summary:\n",
      "  Train -> Loss: 0.2919, IoU: 0.7083\n",
      "  Val   -> Loss: 0.4821, IoU: 0.5181\n",
      "  LR: 0.00000156\n",
      "Validation IoU did not improve. Patience: 19/30\n"
     ]
    },
    {
     "name": "stderr",
     "output_type": "stream",
     "text": [
      "Epoch 88/200 [Train]: 100%|██████████| 750/750 [02:42<00:00,  4.63it/s, iou=0.628, loss=0.373] \n",
      "Epoch 88/200 [Val]: 100%|██████████| 200/200 [00:15<00:00, 12.52it/s]\n"
     ]
    },
    {
     "name": "stdout",
     "output_type": "stream",
     "text": [
      "Epoch 88 Summary:\n",
      "  Train -> Loss: 0.2888, IoU: 0.7114\n",
      "  Val   -> Loss: 0.4824, IoU: 0.5176\n",
      "  LR: 0.00000156\n",
      "Validation IoU did not improve. Patience: 20/30\n"
     ]
    },
    {
     "name": "stderr",
     "output_type": "stream",
     "text": [
      "Epoch 89/200 [Train]: 100%|██████████| 750/750 [02:41<00:00,  4.63it/s, iou=0.0848, loss=0.915]\n",
      "Epoch 89/200 [Val]: 100%|██████████| 200/200 [00:15<00:00, 12.52it/s]\n"
     ]
    },
    {
     "name": "stdout",
     "output_type": "stream",
     "text": [
      "Epoch 89 Summary:\n",
      "  Train -> Loss: 0.2907, IoU: 0.7095\n",
      "  Val   -> Loss: 0.4820, IoU: 0.5182\n",
      "  LR: 0.00000156\n",
      "Validation IoU did not improve. Patience: 21/30\n"
     ]
    },
    {
     "name": "stderr",
     "output_type": "stream",
     "text": [
      "Epoch 90/200 [Train]: 100%|██████████| 750/750 [02:42<00:00,  4.63it/s, iou=0.639, loss=0.36]  \n",
      "Epoch 90/200 [Val]: 100%|██████████| 200/200 [00:15<00:00, 12.53it/s]\n"
     ]
    },
    {
     "name": "stdout",
     "output_type": "stream",
     "text": [
      "Epoch 90 Summary:\n",
      "  Train -> Loss: 0.2831, IoU: 0.7172\n",
      "  Val   -> Loss: 0.4822, IoU: 0.5179\n",
      "  LR: 0.00000156\n",
      "Validation IoU did not improve. Patience: 22/30\n"
     ]
    },
    {
     "name": "stderr",
     "output_type": "stream",
     "text": [
      "Epoch 91/200 [Train]: 100%|██████████| 750/750 [02:42<00:00,  4.61it/s, iou=0.362, loss=0.638] \n",
      "Epoch 91/200 [Val]: 100%|██████████| 200/200 [00:16<00:00, 12.42it/s]\n"
     ]
    },
    {
     "name": "stdout",
     "output_type": "stream",
     "text": [
      "Epoch 91 Summary:\n",
      "  Train -> Loss: 0.2924, IoU: 0.7079\n",
      "  Val   -> Loss: 0.4821, IoU: 0.5180\n",
      "  LR: 0.00000156\n",
      "Validation IoU did not improve. Patience: 23/30\n"
     ]
    },
    {
     "name": "stderr",
     "output_type": "stream",
     "text": [
      "Epoch 92/200 [Train]: 100%|██████████| 750/750 [02:41<00:00,  4.64it/s, iou=0.542, loss=0.458] \n",
      "Epoch 92/200 [Val]: 100%|██████████| 200/200 [00:16<00:00, 12.48it/s]\n"
     ]
    },
    {
     "name": "stdout",
     "output_type": "stream",
     "text": [
      "Epoch 92 Summary:\n",
      "  Train -> Loss: 0.2882, IoU: 0.7121\n",
      "  Val   -> Loss: 0.4822, IoU: 0.5179\n",
      "  LR: 0.00000078\n",
      "Validation IoU did not improve. Patience: 24/30\n"
     ]
    },
    {
     "name": "stderr",
     "output_type": "stream",
     "text": [
      "Epoch 93/200 [Train]: 100%|██████████| 750/750 [02:41<00:00,  4.64it/s, iou=0.841, loss=0.16]  \n",
      "Epoch 93/200 [Val]: 100%|██████████| 200/200 [00:15<00:00, 12.54it/s]\n"
     ]
    },
    {
     "name": "stdout",
     "output_type": "stream",
     "text": [
      "Epoch 93 Summary:\n",
      "  Train -> Loss: 0.2891, IoU: 0.7111\n",
      "  Val   -> Loss: 0.4823, IoU: 0.5178\n",
      "  LR: 0.00000078\n",
      "Validation IoU did not improve. Patience: 25/30\n"
     ]
    },
    {
     "name": "stderr",
     "output_type": "stream",
     "text": [
      "Epoch 94/200 [Train]: 100%|██████████| 750/750 [02:42<00:00,  4.63it/s, iou=0.566, loss=0.435] \n",
      "Epoch 94/200 [Val]: 100%|██████████| 200/200 [00:16<00:00, 12.41it/s]\n"
     ]
    },
    {
     "name": "stdout",
     "output_type": "stream",
     "text": [
      "Epoch 94 Summary:\n",
      "  Train -> Loss: 0.2894, IoU: 0.7110\n",
      "  Val   -> Loss: 0.4824, IoU: 0.5178\n",
      "  LR: 0.00000078\n",
      "Validation IoU did not improve. Patience: 26/30\n"
     ]
    },
    {
     "name": "stderr",
     "output_type": "stream",
     "text": [
      "Epoch 95/200 [Train]: 100%|██████████| 750/750 [02:42<00:00,  4.62it/s, iou=0.939, loss=0.0615]\n",
      "Epoch 95/200 [Val]: 100%|██████████| 200/200 [00:15<00:00, 12.60it/s]\n"
     ]
    },
    {
     "name": "stdout",
     "output_type": "stream",
     "text": [
      "Epoch 95 Summary:\n",
      "  Train -> Loss: 0.2831, IoU: 0.7172\n",
      "  Val   -> Loss: 0.4822, IoU: 0.5179\n",
      "  LR: 0.00000078\n",
      "Validation IoU did not improve. Patience: 27/30\n"
     ]
    },
    {
     "name": "stderr",
     "output_type": "stream",
     "text": [
      "Epoch 96/200 [Train]: 100%|██████████| 750/750 [02:42<00:00,  4.62it/s, iou=0.808, loss=0.192] \n",
      "Epoch 96/200 [Val]: 100%|██████████| 200/200 [00:15<00:00, 12.52it/s]\n"
     ]
    },
    {
     "name": "stdout",
     "output_type": "stream",
     "text": [
      "Epoch 96 Summary:\n",
      "  Train -> Loss: 0.2888, IoU: 0.7115\n",
      "  Val   -> Loss: 0.4821, IoU: 0.5180\n",
      "  LR: 0.00000078\n",
      "Validation IoU did not improve. Patience: 28/30\n"
     ]
    },
    {
     "name": "stderr",
     "output_type": "stream",
     "text": [
      "Epoch 97/200 [Train]: 100%|██████████| 750/750 [02:42<00:00,  4.62it/s, iou=0.764, loss=0.236] \n",
      "Epoch 97/200 [Val]: 100%|██████████| 200/200 [00:15<00:00, 12.51it/s]\n"
     ]
    },
    {
     "name": "stdout",
     "output_type": "stream",
     "text": [
      "Epoch 97 Summary:\n",
      "  Train -> Loss: 0.2849, IoU: 0.7154\n",
      "  Val   -> Loss: 0.4822, IoU: 0.5180\n",
      "  LR: 0.00000078\n",
      "Validation IoU did not improve. Patience: 29/30\n"
     ]
    },
    {
     "name": "stderr",
     "output_type": "stream",
     "text": [
      "Epoch 98/200 [Train]: 100%|██████████| 750/750 [02:42<00:00,  4.63it/s, iou=0.403, loss=0.601] \n",
      "Epoch 98/200 [Val]: 100%|██████████| 200/200 [00:15<00:00, 12.75it/s]\n"
     ]
    },
    {
     "name": "stdout",
     "output_type": "stream",
     "text": [
      "Epoch 98 Summary:\n",
      "  Train -> Loss: 0.2862, IoU: 0.7142\n",
      "  Val   -> Loss: 0.4823, IoU: 0.5178\n",
      "  LR: 0.00000039\n",
      "Validation IoU did not improve. Patience: 30/30\n",
      "Early stopping!\n",
      "\n",
      "--- Training complete. ---\n",
      "Plotting training history...\n"
     ]
    },
    {
     "data": {
      "image/png": "[encoded data removed]",
      "text/plain": [
       "<Figure size 2200x600 with 3 Axes>"
      ]
     },
     "metadata": {},
     "output_type": "display_data"
    },
    {
     "name": "stdout",
     "output_type": "stream",
     "text": [
      "\n",
      "--- Evaluating the best model on the validation set ---\n"
     ]
    },
    {
     "name": "stderr",
     "output_type": "stream",
     "text": [
      "C:\\Users\\Admin\\AppData\\Local\\Temp\\ipykernel_29240\\1052588386.py:74: FutureWarning: You are using `torch.load` with `weights_only=False` (the current default value), which uses the default pickle module implicitly. It is possible to construct malicious pickle data which will execute arbitrary code during unpickling (See https://github.com/pytorch/pytorch/blob/main/SECURITY.md#untrusted-models for more details). In a future release, the default value for `weights_only` will be flipped to `True`. This limits the functions that could be executed during unpickling. Arbitrary objects will no longer be allowed to be loaded via this mode unless they are explicitly allowlisted by the user via `torch.serialization.add_safe_globals`. We recommend you start setting `weights_only=True` for any use case where you don't have full control of the loaded file. Please open an issue on GitHub for any issues related to this experimental feature.\n",
      "  model.load_state_dict(torch.load(CHECKPOINT_PATH)['model_state_dict'])\n",
      "Evaluating: 100%|██████████| 200/200 [00:16<00:00, 12.47it/s]\n"
     ]
    },
    {
     "name": "stdout",
     "output_type": "stream",
     "text": [
      "\n",
      "--- Evaluation Metrics ---\n",
      "Precision: 0.7188\n",
      "Recall:    0.7486\n",
      "F1-score:  0.7334\n",
      "IoU:       0.5790\n"
     ]
    }
   ],
   "source": [
    "if __name__ == '__main__':\n",
    "    # --- Chuẩn bị dữ liệu ---\n",
    "    train_img_paths = sorted([os.path.join(train_img_dir, f) for f in os.listdir(train_img_dir)])\n",
    "    train_mask_paths = sorted([os.path.join(train_mask_dir, f) for f in os.listdir(train_mask_dir)])\n",
    "    val_img_paths = sorted([os.path.join(val_img_dir, f) for f in os.listdir(val_img_dir)])\n",
    "    val_mask_paths = sorted([os.path.join(val_mask_dir, f) for f in os.listdir(val_mask_dir)])\n",
    "\n",
    "    train_transform = A.Compose([\n",
    "        A.Resize(IMG_SIZE, IMG_SIZE),\n",
    "        A.HorizontalFlip(p=0.5), A.VerticalFlip(p=0.5), A.RandomRotate90(p=0.5),\n",
    "        A.ColorJitter(p=0.2),\n",
    "        A.Normalize(mean=(0.485, 0.456, 0.406), std=(0.229, 0.224, 0.225)),\n",
    "        ToTensorV2(),\n",
    "    ])\n",
    "\n",
    "    val_transform = A.Compose([\n",
    "        A.Resize(IMG_SIZE, IMG_SIZE),\n",
    "        A.Normalize(mean=(0.485, 0.456, 0.406), std=(0.229, 0.224, 0.225)),\n",
    "        ToTensorV2(),\n",
    "    ])\n",
    "\n",
    "    train_dataset = CrackDetectionDataset(train_img_paths, train_mask_paths, transform=train_transform)\n",
    "    val_dataset = CrackDetectionDataset(val_img_paths, val_mask_paths, transform=val_transform)\n",
    "\n",
    "    train_loader = DataLoader(train_dataset, batch_size=BATCH_SIZE, shuffle=True, num_workers=0, pin_memory=True)\n",
    "    val_loader = DataLoader(val_dataset, batch_size=BATCH_SIZE, shuffle=False, num_workers=0, pin_memory=True)\n",
    "\n",
    "    # --- Khởi tạo Model, Optimizer, Loss ---\n",
    "    print(\"Initializing iSwinUnet model (paper version)...\")\n",
    "    model = iSwinUnet(num_classes=1, img_size=IMG_SIZE, pretrained=True).to(DEVICE)\n",
    "    \n",
    "    optimizer = torch.optim.AdamW(model.parameters(), lr=LEARNING_RATE, weight_decay=1e-3)\n",
    "    scheduler = torch.optim.lr_scheduler.ReduceLROnPlateau(optimizer, mode='min', factor=0.5, patience=5, min_lr=1e-7)\n",
    "    \n",
    "    pos_weight_value = 30\n",
    "    criterion = criterion = IoULoss()\n",
    "    \n",
    "    print(\"=\"*50)\n",
    "    print(f\"!!! USING BCEWithLogitsLoss with pos_weight={pos_weight_value} !!!\")\n",
    "    print(f\"Model has {sum(p.numel() for p in model.parameters() if p.requires_grad):,} trainable parameters.\")\n",
    "    print(\"=\"*50)\n",
    "\n",
    "    CHECKPOINT_PATH = 'iswin_unet_paper_IOU.pth'\n",
    "    callbacks_config = {'patience': 30, 'checkpoint_path': CHECKPOINT_PATH}\n",
    "\n",
    "    start_epoch, best_val_iou, history = 0, 0.0, None\n",
    "    if os.path.exists(CHECKPOINT_PATH):\n",
    "        print(f\"Checkpoint found. Loading...\")\n",
    "        checkpoint = torch.load(CHECKPOINT_PATH, map_location='cpu')\n",
    "        model.load_state_dict(checkpoint['model_state_dict'])\n",
    "        model.to(DEVICE)\n",
    "        best_val_iou = checkpoint.get('best_val_iou', 0.0)\n",
    "        print(f\"Resuming from Epoch {start_epoch}. Best Val IoU so far: {best_val_iou:.4f}\")\n",
    "    else:\n",
    "        print(\"No checkpoint found. Starting from scratch.\")\n",
    "\n",
    "    # --- Bắt đầu Huấn luyện ---\n",
    "    print(f\"\\n--- Starting Training ---\")\n",
    "    training_history = train_model(\n",
    "        model, train_loader, val_loader, optimizer, criterion, scheduler,\n",
    "        num_epochs=NUM_EPOCHS, callbacks_config=callbacks_config,\n",
    "        start_epoch=start_epoch, best_val_iou=best_val_iou, history=history\n",
    "    )\n",
    "    \n",
    "    print(\"\\n--- Training complete. ---\")\n",
    "\n",
    "    # --- Vẽ biểu đồ và Đánh giá ---\n",
    "    if training_history and len(training_history['train_loss']) > 0:\n",
    "        print(\"Plotting training history...\")\n",
    "        plot_training_history(training_history)\n",
    "        \n",
    "        # Đánh giá trên tập validation với mô hình tốt nhất đã lưu\n",
    "        print(\"\\n--- Evaluating the best model on the validation set ---\")\n",
    "        model.load_state_dict(torch.load(CHECKPOINT_PATH)['model_state_dict'])\n",
    "        evaluate_model(model, val_loader, threshold=0.5)\n",
    "    else:\n",
    "        print(\"No training history available to plot.\")"
   ]
  },
  {
   "cell_type": "code",
   "execution_count": 17,
   "id": "99eec98f",
   "metadata": {},
   "outputs": [
    {
     "name": "stderr",
     "output_type": "stream",
     "text": [
      "Collecting predictions: 100%|██████████| 200/200 [00:21<00:00,  9.29it/s]\n"
     ]
    },
    {
     "name": "stdout",
     "output_type": "stream",
     "text": [
      "\n",
      "=== Threshold Tốt Nhất ===\n",
      "[F1]  Best at threshold = 0.65 | F1 = 0.7334\n",
      "[IoU] Best at threshold = 0.65 | IoU = 0.5790\n"
     ]
    }
   ],
   "source": [
    "thresholds = np.arange(0.65, 1, 0.005)\n",
    "all_preds_raw = []\n",
    "all_targets = []\n",
    "\n",
    "model.eval()\n",
    "with torch.no_grad():\n",
    "    for images, masks in tqdm(val_loader, desc=\"Collecting predictions\"):\n",
    "        images = images.to(DEVICE)\n",
    "        masks = masks.to(DEVICE)\n",
    "\n",
    "        outputs = model(images)\n",
    "        probs = torch.sigmoid(outputs)\n",
    "\n",
    "        all_preds_raw.append(probs.view(-1).cpu().numpy())\n",
    "        all_targets.append(masks.view(-1).cpu().numpy())\n",
    "\n",
    "all_preds_raw = np.concatenate(all_preds_raw)\n",
    "all_targets = np.concatenate(all_targets)\n",
    "\n",
    "metrics = {'threshold': [], 'precision': [], 'recall': [], 'f1': [], 'iou': []}\n",
    "\n",
    "for t in thresholds:\n",
    "    preds_bin = (all_preds_raw > t).astype(np.uint8)\n",
    "\n",
    "    precision = precision_score(all_targets, preds_bin, zero_division=0)\n",
    "    recall = recall_score(all_targets, preds_bin, zero_division=0)\n",
    "    f1 = f1_score(all_targets, preds_bin, zero_division=0)\n",
    "    iou = jaccard_score(all_targets, preds_bin, zero_division=0)\n",
    "\n",
    "    metrics['threshold'].append(t)\n",
    "    metrics['precision'].append(precision)\n",
    "    metrics['recall'].append(recall)\n",
    "    metrics['f1'].append(f1)\n",
    "    metrics['iou'].append(iou)\n",
    "\n",
    "best_f1_idx = int(np.argmax(metrics['f1']))\n",
    "best_iou_idx = int(np.argmax(metrics['iou']))\n",
    "\n",
    "print(\"\\n=== Threshold Tốt Nhất ===\")\n",
    "print(f\"[F1]  Best at threshold = {metrics['threshold'][best_f1_idx]:.2f} | F1 = {metrics['f1'][best_f1_idx]:.4f}\")\n",
    "print(f\"[IoU] Best at threshold = {metrics['threshold'][best_iou_idx]:.2f} | IoU = {metrics['iou'][best_iou_idx]:.4f}\")"
   ]
  },
  {
   "cell_type": "code",
   "execution_count": 18,
   "id": "4cfa8b3c",
   "metadata": {},
   "outputs": [
    {
     "data": {
      "image/png": "[encoded data removed]",
      "text/plain": [
       "<Figure size 2500x1600 with 1 Axes>"
      ]
     },
     "metadata": {},
     "output_type": "display_data"
    }
   ],
   "source": [
    "x = [round(t, 2) for t in metrics['threshold']]\n",
    "x_idx = np.arange(len(x))\n",
    "width = 0.15\n",
    "\n",
    "plt.figure(figsize=(25, 16))\n",
    "plt.bar(x_idx - width, metrics['precision'], width=width, label='Precision')\n",
    "plt.bar(x_idx, metrics['f1'], width=width, label='F1-score')\n",
    "plt.bar(x_idx + width, metrics['iou'], width=width, label='IoU')\n",
    "\n",
    "plt.xticks(x_idx, x)\n",
    "plt.xlabel('Threshold')\n",
    "plt.ylabel('Score')\n",
    "plt.title('Segmentation Metrics at Different Thresholds')\n",
    "plt.legend()\n",
    "plt.grid(True, linestyle='--', alpha=0.5)\n",
    "plt.tight_layout()\n",
    "plt.show()"
   ]
  }
 ],
 "metadata": {
  "kernelspec": {
   "display_name": "tf",
   "language": "python",
   "name": "python3"
  },
  "language_info": {
   "codemirror_mode": {
    "name": "ipython",
    "version": 3
   },
   "file_extension": ".py",
   "mimetype": "text/x-python",
   "name": "python",
   "nbconvert_exporter": "python",
   "pygments_lexer": "ipython3",
   "version": "3.10.18"
  }
 },
 "nbformat": 4,
 "nbformat_minor": 5
}
