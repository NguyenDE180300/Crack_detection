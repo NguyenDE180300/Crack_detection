{
 "cells": [
  {
   "cell_type": "code",
   "execution_count": 1,
   "id": "524f7680",
   "metadata": {},
   "outputs": [
    {
     "name": "stderr",
     "output_type": "stream",
     "text": [
      "c:\\Users\\Admin\\anaconda3\\envs\\tf\\lib\\site-packages\\tqdm\\auto.py:21: TqdmWarning: IProgress not found. Please update jupyter and ipywidgets. See https://ipywidgets.readthedocs.io/en/stable/user_install.html\n",
      "  from .autonotebook import tqdm as notebook_tqdm\n"
     ]
    },
    {
     "name": "stdout",
     "output_type": "stream",
     "text": [
      "WARNING:tensorflow:From c:\\Users\\Admin\\anaconda3\\envs\\tf\\lib\\site-packages\\keras\\src\\losses.py:2976: The name tf.losses.sparse_softmax_cross_entropy is deprecated. Please use tf.compat.v1.losses.sparse_softmax_cross_entropy instead.\n",
      "\n",
      "Using device: cuda\n"
     ]
    }
   ],
   "source": [
    "import os\n",
    "import numpy as np\n",
    "import cv2\n",
    "import random\n",
    "import matplotlib.pyplot as plt\n",
    "\n",
    "import torch\n",
    "import torch.nn as nn\n",
    "import torch.nn.functional as F\n",
    "from torch.utils.data import Dataset, DataLoader\n",
    "from transformers import SwinModel\n",
    "from transformers.models.swin.modeling_swin import SwinLayer\n",
    "\n",
    "import albumentations as A\n",
    "from albumentations.pytorch import ToTensorV2\n",
    "from tqdm import tqdm\n",
    "\n",
    "# --- Cài đặt tham số cố định ---\n",
    "IMG_SIZE = 320 # Swin-Unet yêu cầu kích thước ảnh chia hết cho 32\n",
    "BATCH_SIZE = 2 \n",
    "NUM_EPOCHS = 100\n",
    "LEARNING_RATE = 1e-4\n",
    "SEED = 42\n",
    "\n",
    "# --- Thiết lập Seed để có kết quả lặp lại ---\n",
    "def set_seed(seed=42):\n",
    "    np.random.seed(seed)\n",
    "    random.seed(seed)\n",
    "    torch.manual_seed(seed)\n",
    "    if torch.cuda.is_available():\n",
    "        torch.cuda.manual_seed(seed)\n",
    "        torch.cuda.manual_seed_all(seed)\n",
    "        torch.backends.cudnn.deterministic = True\n",
    "        torch.backends.cudnn.benchmark = False\n",
    "\n",
    "set_seed(SEED)\n",
    "\n",
    "DEVICE = torch.device(\"cuda\" if torch.cuda.is_available() else \"cpu\")\n",
    "print(f\"Using device: {DEVICE}\")\n",
    "\n",
    "# --- Đường dẫn dữ liệu (Thay đổi nếu cần) ---\n",
    "train_img_dir = r'C:\\Users\\Admin\\Documents\\Python Project\\DPL Crack detection\\UDTIRI-Crack Detection\\train\\image'\n",
    "train_mask_dir = r'C:\\Users\\Admin\\Documents\\Python Project\\DPL Crack detection\\UDTIRI-Crack Detection\\train\\label'\n",
    "val_img_dir = r'C:\\Users\\Admin\\Documents\\Python Project\\DPL Crack detection\\UDTIRI-Crack Detection\\val\\image'\n",
    "val_mask_dir = r'C:\\Users\\Admin\\Documents\\Python Project\\DPL Crack detection\\UDTIRI-Crack Detection\\val\\label'\n",
    "\n",
    "# --- Thu thập đường dẫn tệp ảnh và mask ---\n",
    "train_img_paths = sorted([os.path.join(train_img_dir, f) for f in os.listdir(train_img_dir)])\n",
    "train_mask_paths = sorted([os.path.join(train_mask_dir, f) for f in os.listdir(train_mask_dir)])\n",
    "val_img_paths = sorted([os.path.join(val_img_dir, f) for f in os.listdir(val_img_dir)])\n",
    "val_mask_paths = sorted([os.path.join(val_mask_dir, f) for f in os.listdir(val_mask_dir)])\n"
   ]
  },
  {
   "cell_type": "code",
   "execution_count": 2,
   "id": "606bbefa",
   "metadata": {},
   "outputs": [],
   "source": [
    "class CrackDetectionDataset(Dataset):\n",
    "    def __init__(self, image_filenames, mask_filenames, transform=None):\n",
    "        self.image_filenames = image_filenames\n",
    "        self.mask_filenames = mask_filenames\n",
    "        self.transform = transform\n",
    "\n",
    "    def __len__(self):\n",
    "        return len(self.image_filenames)\n",
    "\n",
    "    def __getitem__(self, idx):\n",
    "        img = cv2.imread(self.image_filenames[idx])\n",
    "        img = cv2.cvtColor(img, cv2.COLOR_BGR2RGB)\n",
    "        \n",
    "        mask = cv2.imread(self.mask_filenames[idx], cv2.IMREAD_GRAYSCALE)\n",
    "        mask = np.where(mask > 0, 255.0, 0.0).astype(np.float32)\n",
    "\n",
    "        if self.transform:\n",
    "            augmented = self.transform(image=img, mask=mask)\n",
    "            img = augmented['image']\n",
    "            mask = augmented['mask']\n",
    "        \n",
    "        mask = mask / 255.0\n",
    "        mask = mask.unsqueeze(0)\n",
    "\n",
    "        return img, mask\n",
    "\n",
    "train_transform = A.Compose([\n",
    "    A.Resize(IMG_SIZE, IMG_SIZE),\n",
    "    A.HorizontalFlip(p=0.5),\n",
    "    A.VerticalFlip(p=0.5),\n",
    "    A.RandomRotate90(p=0.5),\n",
    "    A.ColorJitter(p=0.2),\n",
    "    A.Normalize(mean=(0.485, 0.456, 0.406), std=(0.229, 0.224, 0.225)),\n",
    "    ToTensorV2(),\n",
    "])\n",
    "\n",
    "val_transform = A.Compose([\n",
    "    A.Resize(IMG_SIZE, IMG_SIZE),\n",
    "    A.Normalize(mean=(0.485, 0.456, 0.406), std=(0.229, 0.224, 0.225)),\n",
    "    ToTensorV2(),\n",
    "])"
   ]
  },
  {
   "cell_type": "code",
   "execution_count": null,
   "id": "dae61a12",
   "metadata": {},
   "outputs": [],
   "source": [
    "# --- 4. KIẾN TRÚC MÔ HÌNH (SỬA LỖI LOGIC HOÀN CHỈNH) ---\n",
    "\n",
    "class SkipAttention(nn.Module):\n",
    "    def __init__(self, in_channels, key_channels, head_count=8):\n",
    "        super().__init__()\n",
    "        self.head_count = head_count\n",
    "        \n",
    "        self.scale = (key_channels // head_count) ** -0.5\n",
    "        \n",
    "        self.to_q = nn.Linear(in_channels, key_channels, bias=False)\n",
    "        self.to_k = nn.Linear(in_channels, key_channels, bias=False)\n",
    "        self.to_v = nn.Linear(in_channels, in_channels, bias=False)\n",
    "        self.unifyheads = nn.Linear(in_channels, in_channels)\n",
    "\n",
    "    def forward(self, query, context):\n",
    "        B, L_q, C_q = query.shape\n",
    "        _, L_c, C_c = context.shape\n",
    "        \n",
    "        q = self.to_q(query)\n",
    "        k = self.to_k(context)\n",
    "        v = self.to_v(context)\n",
    "        \n",
    "        q = q.view(B, L_q, self.head_count, -1).transpose(1, 2)\n",
    "        k = k.view(B, L_c, self.head_count, -1).transpose(1, 2)\n",
    "        v = v.view(B, L_c, self.head_count, -1).transpose(1, 2)\n",
    "        \n",
    "        attn_scores = torch.matmul(q, k.transpose(-2, -1)) * self.scale\n",
    "        attn_probs = F.softmax(attn_scores, dim=-1)\n",
    "        \n",
    "        output = torch.matmul(attn_probs, v).transpose(1, 2).contiguous().view(B, L_q, -1)\n",
    "        return self.unifyheads(output)\n",
    "\n",
    "class PatchExpanding(nn.Module):\n",
    "    def __init__(self, in_channels, out_channels, norm_layer=nn.LayerNorm):\n",
    "        super().__init__()\n",
    "        # **SỬA LỖI**: Phải chiếu thành 4 * out_channels để sắp xếp lại không gian\n",
    "        self.expand = nn.Linear(in_channels, 4 * out_channels, bias=False)\n",
    "        self.norm = norm_layer(out_channels)\n",
    "\n",
    "    def forward(self, x):\n",
    "        x = self.expand(x)\n",
    "        B, L, C = x.shape\n",
    "        H = W = int(np.sqrt(L))\n",
    "        \n",
    "        # Reshape C thành C_out và grid 2x2\n",
    "        x = x.view(B, H, W, 2, 2, C // 4)\n",
    "        x = x.permute(0, 1, 3, 2, 4, 5).contiguous()\n",
    "        x = x.view(B, -1, C // 4)\n",
    "        \n",
    "        x = self.norm(x)\n",
    "        return x\n",
    "\n",
    "class SwinUNet_v2(nn.Module):\n",
    "    def __init__(self, input_channels=3, num_classes=1, img_size=320):\n",
    "        super().__init__()\n",
    "        self.img_size = img_size\n",
    "        \n",
    "        # --- THAY ĐỔI 1: Tải mô hình Swin-Tiny ---\n",
    "        self.swin = SwinModel.from_pretrained(\n",
    "            \"microsoft/swin-tiny-patch4-window7-224\",\n",
    "            image_size=self.img_size, output_hidden_states=True, output_attentions=False\n",
    "        )\n",
    "        \n",
    "        self.main_config = self.swin.config\n",
    "        embed_dim = self.main_config.embed_dim\n",
    "        depths = self.main_config.depths\n",
    "        self.encoder_channels = [embed_dim * (2**i) for i in range(len(depths))]\n",
    "        self.num_heads = self.main_config.num_heads\n",
    "        \n",
    "        print(f\"Using Swin-Tiny backbone. All SwinLayers will use a fixed window_size = {self.main_config.window_size}\")\n",
    "        print(f\"Encoder channels: {self.encoder_channels}\") # In ra để kiểm tra\n",
    "        print(f\"Num heads: {self.num_heads}\")\n",
    "\n",
    "        bottleneck_depth = 2\n",
    "        self.bottleneck = nn.ModuleList([\n",
    "            SwinLayer(config=self.main_config,\n",
    "                      dim=self.encoder_channels[3], \n",
    "                      input_resolution=(self.img_size//32, self.img_size//32),\n",
    "                      num_heads=self.num_heads[3],\n",
    "                      shift_size=0 if (i % 2 == 0) else self.main_config.window_size // 2)\n",
    "            for i in range(bottleneck_depth)])\n",
    "        \n",
    "        # --- SỬA LỖI & CẢI TIẾN LOGIC CHO CÁC LỚP FUSE ---\n",
    "        \n",
    "        # --- DECODER 4 ---\n",
    "        self.decoder4_expand = PatchExpanding(self.encoder_channels[3], self.encoder_channels[2])\n",
    "        self.skip_attn4 = SkipAttention(self.encoder_channels[2], self.encoder_channels[2])\n",
    "        # Sửa: input_dim = 2 * channel[2] vì đây là kết quả của concatenation\n",
    "        self.decoder4_fuse = nn.Linear(2 * self.encoder_channels[2], self.encoder_channels[2]) \n",
    "        self.decoder4_swin = nn.ModuleList([\n",
    "            SwinLayer(config=self.main_config,\n",
    "                    dim=self.encoder_channels[2],\n",
    "                    input_resolution=(self.img_size//16, self.img_size//16),\n",
    "                    num_heads=self.num_heads[2],\n",
    "                    shift_size=0 if (i % 2 == 0) else self.main_config.window_size // 2)\n",
    "            for i in range(depths[2])])\n",
    "\n",
    "        # --- DECODER 3 ---\n",
    "        self.decoder3_expand = PatchExpanding(self.encoder_channels[2], self.encoder_channels[1])\n",
    "        self.skip_attn3 = SkipAttention(self.encoder_channels[1], self.encoder_channels[1])\n",
    "        # Sửa: input_dim = 2 * channel[1]\n",
    "        self.decoder3_fuse = nn.Linear(2 * self.encoder_channels[1], self.encoder_channels[1])\n",
    "        self.decoder3_swin = nn.ModuleList([\n",
    "            SwinLayer(config=self.main_config,\n",
    "                    dim=self.encoder_channels[1],\n",
    "                    input_resolution=(self.img_size//8, self.img_size//8),\n",
    "                    num_heads=self.num_heads[1],\n",
    "                    shift_size=0 if (i % 2 == 0) else self.main_config.window_size // 2)\n",
    "            for i in range(depths[1])])\n",
    "\n",
    "        # --- DECODER 2 ---\n",
    "        self.decoder2_expand = PatchExpanding(self.encoder_channels[1], self.encoder_channels[0])\n",
    "        self.skip_attn2 = SkipAttention(self.encoder_channels[0], self.encoder_channels[0])\n",
    "        # Sửa: input_dim = 2 * channel[0]\n",
    "        self.decoder2_fuse = nn.Linear(2 * self.encoder_channels[0], self.encoder_channels[0])\n",
    "        self.decoder2_swin = nn.ModuleList([\n",
    "            SwinLayer(config=self.main_config,\n",
    "                    dim=self.encoder_channels[0],\n",
    "                    input_resolution=(self.img_size//4, self.img_size//4),\n",
    "                    num_heads=self.num_heads[0],\n",
    "                    shift_size=0 if (i % 2 == 0) else self.main_config.window_size // 2)\n",
    "            for i in range(depths[0])])\n",
    "\n",
    "        # Các lớp cuối giữ nguyên\n",
    "        self.final_norm = nn.LayerNorm(self.encoder_channels[0])\n",
    "        self.final_conv = nn.Conv2d(self.encoder_channels[0], num_classes, kernel_size=1)\n",
    "\n",
    "    # Hàm forward của bạn đã đúng, không cần thay đổi\n",
    "    def forward(self, x):\n",
    "        input_size = x.shape[2:]\n",
    "        outputs = self.swin(pixel_values=x, output_hidden_states=True)\n",
    "        \n",
    "        hidden_states = outputs.hidden_states\n",
    "        \n",
    "        s1 = hidden_states[0]\n",
    "        s2 = hidden_states[1]\n",
    "        s3 = hidden_states[2]\n",
    "        s4 = hidden_states[3]\n",
    "\n",
    "        # --- Bottleneck ---\n",
    "        b_out = s4\n",
    "        for layer in self.bottleneck:\n",
    "            b_out = layer(b_out, (self.img_size//32, self.img_size//32))[0] \n",
    "        \n",
    "        # --- Decoder 4 ---\n",
    "        d4_up = self.decoder4_expand(b_out)\n",
    "        s3_refined = self.skip_attn4(query=d4_up, context=s3)\n",
    "        d4_cat = torch.cat([d4_up, s3_refined], dim=-1)\n",
    "        d4_fused = self.decoder4_fuse(d4_cat)\n",
    "        d4_out = d4_fused\n",
    "        for layer in self.decoder4_swin:\n",
    "            d4_out = layer(d4_out, (self.img_size//16, self.img_size//16))[0]\n",
    "        \n",
    "        # --- Decoder 3 ---\n",
    "        d3_up = self.decoder3_expand(d4_out)\n",
    "        s2_refined = self.skip_attn3(query=d3_up, context=s2)\n",
    "        d3_cat = torch.cat([d3_up, s2_refined], dim=-1)\n",
    "        d3_fused = self.decoder3_fuse(d3_cat)\n",
    "        d3_out = d3_fused\n",
    "        for layer in self.decoder3_swin:\n",
    "            d3_out = layer(d3_out, (self.img_size//8, self.img_size//8))[0]\n",
    "\n",
    "        # --- Decoder 2 ---\n",
    "        d2_up = self.decoder2_expand(d3_out)\n",
    "        s1_refined = self.skip_attn2(query=d2_up, context=s1)\n",
    "        d2_cat = torch.cat([d2_up, s1_refined], dim=-1)\n",
    "        d2_fused = self.decoder2_fuse(d2_cat)\n",
    "        d2_out = d2_fused\n",
    "        for layer in self.decoder2_swin:\n",
    "            d2_out = layer(d2_out, (self.img_size//4, self.img_size//4))[0]\n",
    "\n",
    "        # --- Final Layers ---\n",
    "        final_features = self.final_norm(d2_out)\n",
    "        B, L, C = final_features.shape\n",
    "        H = W = int(np.sqrt(L))\n",
    "        final_features = final_features.permute(0, 2, 1).contiguous().view(B, C, H, W)\n",
    "        \n",
    "        output = self.final_conv(final_features)\n",
    "        output = F.interpolate(output, size=input_size, mode='bilinear', align_corners=False)\n",
    "        \n",
    "        return output"
   ]
  },
  {
   "cell_type": "code",
   "execution_count": 4,
   "id": "a9bc806c",
   "metadata": {},
   "outputs": [],
   "source": [
    "\n",
    "class IoULoss(nn.Module):\n",
    "    def __init__(self, smooth=1e-6):\n",
    "        super(IoULoss, self).__init__()\n",
    "        self.smooth = smooth\n",
    "\n",
    "    def forward(self, inputs, targets):\n",
    "        # inputs là logits từ model, cần đưa qua sigmoid để có xác suất (0, 1)\n",
    "        inputs = torch.sigmoid(inputs)\n",
    "        \n",
    "        # Làm phẳng inputs và targets để tính toán dễ dàng\n",
    "        inputs = inputs.view(-1)\n",
    "        targets = targets.view(-1)\n",
    "        \n",
    "        # Tính toán intersection (phần giao) và union (phần hợp)\n",
    "        intersection = (inputs * targets).sum()\n",
    "        total = (inputs + targets).sum()\n",
    "        union = total - intersection\n",
    "        \n",
    "        # Tính IoU, thêm smooth để tránh chia cho 0\n",
    "        iou = (intersection + self.smooth) / (union + self.smooth)\n",
    "        \n",
    "        # Loss là phần bù của IoU\n",
    "        return 1 - iou\n",
    "\n",
    "\n",
    "def calculate_metrics(predicted_masks, true_masks, smooth=1e-6):\n",
    "    predicted_masks = predicted_masks.view(-1)\n",
    "    true_masks = true_masks.view(-1)\n",
    "    \n",
    "    intersection = (predicted_masks * true_masks).sum()\n",
    "    union = (predicted_masks + true_masks).sum() - intersection\n",
    "    \n",
    "    iou = (intersection + smooth) / (union + smooth)\n",
    "    dice = (2. * intersection + smooth) / (predicted_masks.sum() + true_masks.sum() + smooth)\n",
    "    \n",
    "    return iou.item(), dice.item()"
   ]
  },
  {
   "cell_type": "code",
   "execution_count": 5,
   "id": "fe567009",
   "metadata": {},
   "outputs": [],
   "source": [
    "# --- Vòng lặp huấn luyện (Đã chỉnh sửa chỉ dùng IoU) ---\n",
    "def train_model(model, train_loader, val_loader, optimizer, criterion, scheduler, num_epochs, callbacks_config, start_epoch=0, best_val_iou=0.0, history=None):\n",
    "    best_iou = best_val_iou\n",
    "    patience_counter = 0\n",
    "    checkpoint_path = callbacks_config.get('checkpoint_path', 'model_best.pth')\n",
    "    \n",
    "    # Sửa đổi: Chỉ lưu loss và iou\n",
    "    if history is None:\n",
    "        history = {'train_loss': [], 'val_loss': [], 'train_iou': [], 'val_iou': [], 'lr': []}\n",
    "\n",
    "    for epoch in range(start_epoch, num_epochs):\n",
    "        model.train()\n",
    "        # Sửa đổi: Bỏ train_dice\n",
    "        train_loss, train_iou = 0.0, 0.0\n",
    "        \n",
    "        loop = tqdm(train_loader, desc=f\"Epoch {epoch+1}/{num_epochs} [Train]\")\n",
    "        for images, masks in loop:\n",
    "            images, masks = images.to(DEVICE), masks.to(DEVICE)\n",
    "            \n",
    "            optimizer.zero_grad()\n",
    "            outputs = model(images)\n",
    "            loss = criterion(outputs, masks)\n",
    "            loss.backward()\n",
    "            optimizer.step()\n",
    "\n",
    "            train_loss += loss.item()\n",
    "            predicted_masks = (torch.sigmoid(outputs) > 0.5).float()\n",
    "            \n",
    "            # Sửa đổi: Chỉ lấy iou, bỏ qua dice\n",
    "            batch_iou, _ = calculate_metrics(predicted_masks, masks)\n",
    "            train_iou += batch_iou\n",
    "            \n",
    "            # Sửa đổi: Bỏ dice khỏi thanh tiến trình\n",
    "            loop.set_postfix(loss=loss.item(), iou=batch_iou)\n",
    "\n",
    "        history['train_loss'].append(train_loss / len(train_loader))\n",
    "        history['train_iou'].append(train_iou / len(train_loader))\n",
    "        # Sửa đổi: Bỏ history cho train_dice\n",
    "\n",
    "        model.eval()\n",
    "        # Sửa đổi: Bỏ val_dice\n",
    "        val_loss, val_iou = 0.0, 0.0\n",
    "        \n",
    "        loop = tqdm(val_loader, desc=f\"Epoch {epoch+1}/{num_epochs} [Val]\")\n",
    "        with torch.no_grad():\n",
    "            for images, masks in loop:\n",
    "                images, masks = images.to(DEVICE), masks.to(DEVICE)\n",
    "                outputs = model(images)\n",
    "                loss = criterion(outputs, masks)\n",
    "                \n",
    "                val_loss += loss.item()\n",
    "                predicted_masks = (torch.sigmoid(outputs) > 0.5).float()\n",
    "                \n",
    "                # Sửa đổi: Chỉ lấy iou, bỏ qua dice\n",
    "                batch_iou, _ = calculate_metrics(predicted_masks, masks)\n",
    "                val_iou += batch_iou\n",
    "\n",
    "        avg_val_loss = val_loss / len(val_loader)\n",
    "        avg_val_iou = val_iou / len(val_loader)\n",
    "        \n",
    "        history['val_loss'].append(avg_val_loss)\n",
    "        history['val_iou'].append(avg_val_iou)\n",
    "        # Sửa đổi: Bỏ history cho val_dice\n",
    "        \n",
    "        scheduler.step(avg_val_loss)\n",
    "        current_lr = optimizer.param_groups[0]['lr']\n",
    "        history['lr'].append(current_lr)\n",
    "        \n",
    "        print(f\"Epoch {epoch+1} Summary:\")\n",
    "        # Sửa đổi: Bỏ Dice khỏi bản tóm tắt\n",
    "        print(f\"  Train -> Loss: {history['train_loss'][-1]:.4f}, IoU: {history['train_iou'][-1]:.4f}\")\n",
    "        print(f\"  Val   -> Loss: {avg_val_loss:.4f}, IoU: {avg_val_iou:.4f}\")\n",
    "        print(f\"  LR: {current_lr:.8f}\")\n",
    "\n",
    "        if avg_val_iou > best_iou:\n",
    "            best_iou = avg_val_iou\n",
    "            patience_counter = 0\n",
    "            print(f\"🚀 New best validation IoU: {best_iou:.4f}. Saving model...\")\n",
    "            torch.save({\n",
    "                'epoch': epoch,\n",
    "                'model_state_dict': model.state_dict(),\n",
    "                'optimizer_state_dict': optimizer.state_dict(),\n",
    "                'best_val_iou': best_iou,\n",
    "                'scheduler_state_dict': scheduler.state_dict(),\n",
    "                'history': history\n",
    "            }, checkpoint_path)\n",
    "        else:\n",
    "            patience_counter += 1\n",
    "            print(f\"Validation IoU did not improve. Patience: {patience_counter}/{callbacks_config['patience']}\")\n",
    "            if patience_counter >= callbacks_config['patience']:\n",
    "                print(\"Early stopping!\")\n",
    "                break\n",
    "    return history\n",
    "\n",
    "# --- Hàm vẽ biểu đồ (Đã chỉnh sửa chỉ dùng IoU) ---\n",
    "def plot_training_history(history):\n",
    "    epochs = range(1, len(history['train_loss']) + 1)\n",
    "    plt.style.use('seaborn-v0_8-whitegrid')\n",
    "    \n",
    "    # Sửa đổi: Tạo một hàng 3 cột cho 3 biểu đồ\n",
    "    fig, axs = plt.subplots(1, 3, figsize=(22, 6))\n",
    "\n",
    "    # Biểu đồ 1: Loss\n",
    "    axs[0].plot(epochs, history['train_loss'], 'o-', label='Train Loss')\n",
    "    axs[0].plot(epochs, history['val_loss'], 'o-', label='Validation Loss')\n",
    "    axs[0].set_title('Training and Validation Loss')\n",
    "    axs[0].set(xlabel='Epoch', ylabel='Loss')\n",
    "    axs[0].legend()\n",
    "\n",
    "    # Biểu đồ 2: IoU\n",
    "    axs[1].plot(epochs, history['train_iou'], 'o-', label='Train IoU')\n",
    "    axs[1].plot(epochs, history['val_iou'], 'o-', label='Validation IoU')\n",
    "    axs[1].set_title('Training and Validation IoU')\n",
    "    axs[1].set(xlabel='Epoch', ylabel='IoU')\n",
    "    axs[1].legend()\n",
    "\n",
    "    axs[2].plot(epochs, history['lr'], 'o-', label='Learning Rate', color='purple')\n",
    "    axs[2].set_title('Learning Rate per Epoch')\n",
    "    axs[2].set(xlabel='Epoch', ylabel='Learning Rate')\n",
    "    axs[2].legend()\n",
    "\n",
    "    plt.tight_layout()\n",
    "    plt.show()"
   ]
  },
  {
   "cell_type": "code",
   "execution_count": 6,
   "id": "6e6514b2",
   "metadata": {},
   "outputs": [
    {
     "name": "stdout",
     "output_type": "stream",
     "text": [
      "Using Swin-Tiny backbone. All SwinLayers will use a fixed window_size = 7\n",
      "Encoder channels: [96, 192, 384, 768]\n",
      "Num heads: [3, 6, 12, 24]\n",
      "==================================================\n",
      "!!! USING BCEWithLogitsLoss with pos_weight=20 !!!\n",
      "==================================================\n",
      "Model: SwinUNet_v2 initialized with 56,191,093 trainable parameters.\n",
      "Checkpoint found at swin_unet_v2.pth. Loading to resume training...\n"
     ]
    },
    {
     "name": "stderr",
     "output_type": "stream",
     "text": [
      "C:\\Users\\Admin\\AppData\\Local\\Temp\\ipykernel_3640\\3257955449.py:41: FutureWarning: You are using `torch.load` with `weights_only=False` (the current default value), which uses the default pickle module implicitly. It is possible to construct malicious pickle data which will execute arbitrary code during unpickling (See https://github.com/pytorch/pytorch/blob/main/SECURITY.md#untrusted-models for more details). In a future release, the default value for `weights_only` will be flipped to `True`. This limits the functions that could be executed during unpickling. Arbitrary objects will no longer be allowed to be loaded via this mode unless they are explicitly allowlisted by the user via `torch.serialization.add_safe_globals`. We recommend you start setting `weights_only=True` for any use case where you don't have full control of the loaded file. Please open an issue on GitHub for any issues related to this experimental feature.\n",
      "  checkpoint = torch.load(checkpoint_path, map_location=torch.device('cpu'))\n"
     ]
    },
    {
     "name": "stdout",
     "output_type": "stream",
     "text": [
      "Resuming training from Epoch 23.\n",
      "Best validation IoU so far: 0.3865\n",
      "\n",
      "--- Starting Swin-UNet v2 Training (BCE loss with pos_weight) ---\n"
     ]
    },
    {
     "name": "stderr",
     "output_type": "stream",
     "text": [
      "Epoch 24/100 [Train]: 100%|██████████| 750/750 [09:07<00:00,  1.37it/s, iou=0.263, loss=0.208] \n",
      "Epoch 24/100 [Val]: 100%|██████████| 200/200 [00:33<00:00,  6.05it/s]\n"
     ]
    },
    {
     "name": "stdout",
     "output_type": "stream",
     "text": [
      "Epoch 24 Summary:\n",
      "  Train -> Loss: 0.1288, IoU: 0.4263\n",
      "  Val   -> Loss: 0.2543, IoU: 0.3642\n",
      "  LR: 0.00005000\n",
      "Validation IoU did not improve. Patience: 1/20\n"
     ]
    },
    {
     "name": "stderr",
     "output_type": "stream",
     "text": [
      "Epoch 25/100 [Train]: 100%|██████████| 750/750 [08:39<00:00,  1.44it/s, iou=0.234, loss=0.151] \n",
      "Epoch 25/100 [Val]: 100%|██████████| 200/200 [00:28<00:00,  7.13it/s]\n"
     ]
    },
    {
     "name": "stdout",
     "output_type": "stream",
     "text": [
      "Epoch 25 Summary:\n",
      "  Train -> Loss: 0.1255, IoU: 0.4325\n",
      "  Val   -> Loss: 0.2267, IoU: 0.3637\n",
      "  LR: 0.00005000\n",
      "Validation IoU did not improve. Patience: 2/20\n"
     ]
    },
    {
     "name": "stderr",
     "output_type": "stream",
     "text": [
      "Epoch 26/100 [Train]: 100%|██████████| 750/750 [08:25<00:00,  1.48it/s, iou=0.483, loss=0.0756]\n",
      "Epoch 26/100 [Val]: 100%|██████████| 200/200 [00:28<00:00,  7.11it/s]\n"
     ]
    },
    {
     "name": "stdout",
     "output_type": "stream",
     "text": [
      "Epoch 26 Summary:\n",
      "  Train -> Loss: 0.1246, IoU: 0.4319\n",
      "  Val   -> Loss: 0.2539, IoU: 0.3779\n",
      "  LR: 0.00005000\n",
      "Validation IoU did not improve. Patience: 3/20\n"
     ]
    },
    {
     "name": "stderr",
     "output_type": "stream",
     "text": [
      "Epoch 27/100 [Train]: 100%|██████████| 750/750 [08:28<00:00,  1.48it/s, iou=0.331, loss=0.119] \n",
      "Epoch 27/100 [Val]: 100%|██████████| 200/200 [00:28<00:00,  7.13it/s]\n"
     ]
    },
    {
     "name": "stdout",
     "output_type": "stream",
     "text": [
      "Epoch 27 Summary:\n",
      "  Train -> Loss: 0.1276, IoU: 0.4275\n",
      "  Val   -> Loss: 0.2171, IoU: 0.3773\n",
      "  LR: 0.00002500\n",
      "Validation IoU did not improve. Patience: 4/20\n"
     ]
    },
    {
     "name": "stderr",
     "output_type": "stream",
     "text": [
      "Epoch 28/100 [Train]: 100%|██████████| 750/750 [08:24<00:00,  1.49it/s, iou=0.2, loss=0.271]   \n",
      "Epoch 28/100 [Val]: 100%|██████████| 200/200 [00:28<00:00,  7.06it/s]\n"
     ]
    },
    {
     "name": "stdout",
     "output_type": "stream",
     "text": [
      "Epoch 28 Summary:\n",
      "  Train -> Loss: 0.1207, IoU: 0.4408\n",
      "  Val   -> Loss: 0.2176, IoU: 0.3733\n",
      "  LR: 0.00002500\n",
      "Validation IoU did not improve. Patience: 5/20\n"
     ]
    },
    {
     "name": "stderr",
     "output_type": "stream",
     "text": [
      "Epoch 29/100 [Train]: 100%|██████████| 750/750 [08:28<00:00,  1.48it/s, iou=0.181, loss=0.0617]\n",
      "Epoch 29/100 [Val]: 100%|██████████| 200/200 [00:28<00:00,  7.06it/s]\n"
     ]
    },
    {
     "name": "stdout",
     "output_type": "stream",
     "text": [
      "Epoch 29 Summary:\n",
      "  Train -> Loss: 0.1173, IoU: 0.4423\n",
      "  Val   -> Loss: 0.2550, IoU: 0.3924\n",
      "  LR: 0.00002500\n",
      "🚀 New best validation IoU: 0.3924. Saving model...\n"
     ]
    },
    {
     "name": "stderr",
     "output_type": "stream",
     "text": [
      "Epoch 30/100 [Train]: 100%|██████████| 750/750 [08:24<00:00,  1.49it/s, iou=0.61, loss=0.132]  \n",
      "Epoch 30/100 [Val]: 100%|██████████| 200/200 [00:28<00:00,  7.05it/s]\n"
     ]
    },
    {
     "name": "stdout",
     "output_type": "stream",
     "text": [
      "Epoch 30 Summary:\n",
      "  Train -> Loss: 0.1173, IoU: 0.4444\n",
      "  Val   -> Loss: 0.2519, IoU: 0.3981\n",
      "  LR: 0.00002500\n",
      "🚀 New best validation IoU: 0.3981. Saving model...\n"
     ]
    },
    {
     "name": "stderr",
     "output_type": "stream",
     "text": [
      "Epoch 31/100 [Train]: 100%|██████████| 750/750 [08:28<00:00,  1.48it/s, iou=0.275, loss=0.102] \n",
      "Epoch 31/100 [Val]: 100%|██████████| 200/200 [00:28<00:00,  7.02it/s]\n"
     ]
    },
    {
     "name": "stdout",
     "output_type": "stream",
     "text": [
      "Epoch 31 Summary:\n",
      "  Train -> Loss: 0.1152, IoU: 0.4441\n",
      "  Val   -> Loss: 0.2464, IoU: 0.3885\n",
      "  LR: 0.00002500\n",
      "Validation IoU did not improve. Patience: 1/20\n"
     ]
    },
    {
     "name": "stderr",
     "output_type": "stream",
     "text": [
      "Epoch 32/100 [Train]: 100%|██████████| 750/750 [08:24<00:00,  1.49it/s, iou=0.23, loss=0.14]   \n",
      "Epoch 32/100 [Val]: 100%|██████████| 200/200 [00:28<00:00,  7.12it/s]\n"
     ]
    },
    {
     "name": "stdout",
     "output_type": "stream",
     "text": [
      "Epoch 32 Summary:\n",
      "  Train -> Loss: 0.1128, IoU: 0.4510\n",
      "  Val   -> Loss: 0.2413, IoU: 0.3855\n",
      "  LR: 0.00002500\n",
      "Validation IoU did not improve. Patience: 2/20\n"
     ]
    },
    {
     "name": "stderr",
     "output_type": "stream",
     "text": [
      "Epoch 33/100 [Train]: 100%|██████████| 750/750 [08:29<00:00,  1.47it/s, iou=0.403, loss=0.148]  \n",
      "Epoch 33/100 [Val]: 100%|██████████| 200/200 [00:28<00:00,  7.06it/s]\n"
     ]
    },
    {
     "name": "stdout",
     "output_type": "stream",
     "text": [
      "Epoch 33 Summary:\n",
      "  Train -> Loss: 0.1143, IoU: 0.4499\n",
      "  Val   -> Loss: 0.2484, IoU: 0.3877\n",
      "  LR: 0.00001250\n",
      "Validation IoU did not improve. Patience: 3/20\n"
     ]
    },
    {
     "name": "stderr",
     "output_type": "stream",
     "text": [
      "Epoch 34/100 [Train]: 100%|██████████| 750/750 [08:24<00:00,  1.49it/s, iou=0.342, loss=0.0542] \n",
      "Epoch 34/100 [Val]: 100%|██████████| 200/200 [00:27<00:00,  7.18it/s]\n"
     ]
    },
    {
     "name": "stdout",
     "output_type": "stream",
     "text": [
      "Epoch 34 Summary:\n",
      "  Train -> Loss: 0.1113, IoU: 0.4530\n",
      "  Val   -> Loss: 0.2568, IoU: 0.3917\n",
      "  LR: 0.00001250\n",
      "Validation IoU did not improve. Patience: 4/20\n"
     ]
    },
    {
     "name": "stderr",
     "output_type": "stream",
     "text": [
      "Epoch 35/100 [Train]: 100%|██████████| 750/750 [08:28<00:00,  1.48it/s, iou=0.67, loss=0.0917] \n",
      "Epoch 35/100 [Val]: 100%|██████████| 200/200 [00:28<00:00,  7.13it/s]\n"
     ]
    },
    {
     "name": "stdout",
     "output_type": "stream",
     "text": [
      "Epoch 35 Summary:\n",
      "  Train -> Loss: 0.1096, IoU: 0.4575\n",
      "  Val   -> Loss: 0.2544, IoU: 0.3943\n",
      "  LR: 0.00001250\n",
      "Validation IoU did not improve. Patience: 5/20\n"
     ]
    },
    {
     "name": "stderr",
     "output_type": "stream",
     "text": [
      "Epoch 36/100 [Train]: 100%|██████████| 750/750 [08:25<00:00,  1.48it/s, iou=0.344, loss=0.129] \n",
      "Epoch 36/100 [Val]: 100%|██████████| 200/200 [00:28<00:00,  7.08it/s]\n"
     ]
    },
    {
     "name": "stdout",
     "output_type": "stream",
     "text": [
      "Epoch 36 Summary:\n",
      "  Train -> Loss: 0.1096, IoU: 0.4588\n",
      "  Val   -> Loss: 0.2441, IoU: 0.3903\n",
      "  LR: 0.00001250\n",
      "Validation IoU did not improve. Patience: 6/20\n"
     ]
    },
    {
     "name": "stderr",
     "output_type": "stream",
     "text": [
      "Epoch 37/100 [Train]: 100%|██████████| 750/750 [08:32<00:00,  1.46it/s, iou=0.459, loss=0.0816]\n",
      "Epoch 37/100 [Val]: 100%|██████████| 200/200 [00:28<00:00,  6.97it/s]\n"
     ]
    },
    {
     "name": "stdout",
     "output_type": "stream",
     "text": [
      "Epoch 37 Summary:\n",
      "  Train -> Loss: 0.1089, IoU: 0.4591\n",
      "  Val   -> Loss: 0.2490, IoU: 0.3947\n",
      "  LR: 0.00001250\n",
      "Validation IoU did not improve. Patience: 7/20\n"
     ]
    },
    {
     "name": "stderr",
     "output_type": "stream",
     "text": [
      "Epoch 38/100 [Train]: 100%|██████████| 750/750 [08:24<00:00,  1.49it/s, iou=0.468, loss=0.104] \n",
      "Epoch 38/100 [Val]: 100%|██████████| 200/200 [00:28<00:00,  7.02it/s]\n"
     ]
    },
    {
     "name": "stdout",
     "output_type": "stream",
     "text": [
      "Epoch 38 Summary:\n",
      "  Train -> Loss: 0.1084, IoU: 0.4568\n",
      "  Val   -> Loss: 0.2310, IoU: 0.3908\n",
      "  LR: 0.00001250\n",
      "Validation IoU did not improve. Patience: 8/20\n"
     ]
    },
    {
     "name": "stderr",
     "output_type": "stream",
     "text": [
      "Epoch 39/100 [Train]: 100%|██████████| 750/750 [08:28<00:00,  1.47it/s, iou=0.565, loss=0.1]   \n",
      "Epoch 39/100 [Val]: 100%|██████████| 200/200 [00:28<00:00,  7.02it/s]\n"
     ]
    },
    {
     "name": "stdout",
     "output_type": "stream",
     "text": [
      "Epoch 39 Summary:\n",
      "  Train -> Loss: 0.1071, IoU: 0.4626\n",
      "  Val   -> Loss: 0.2476, IoU: 0.3974\n",
      "  LR: 0.00000625\n",
      "Validation IoU did not improve. Patience: 9/20\n"
     ]
    },
    {
     "name": "stderr",
     "output_type": "stream",
     "text": [
      "Epoch 40/100 [Train]: 100%|██████████| 750/750 [08:25<00:00,  1.48it/s, iou=0.374, loss=0.116] \n",
      "Epoch 40/100 [Val]: 100%|██████████| 200/200 [00:28<00:00,  7.05it/s]\n"
     ]
    },
    {
     "name": "stdout",
     "output_type": "stream",
     "text": [
      "Epoch 40 Summary:\n",
      "  Train -> Loss: 0.1055, IoU: 0.4626\n",
      "  Val   -> Loss: 0.2548, IoU: 0.3895\n",
      "  LR: 0.00000625\n",
      "Validation IoU did not improve. Patience: 10/20\n"
     ]
    },
    {
     "name": "stderr",
     "output_type": "stream",
     "text": [
      "Epoch 41/100 [Train]: 100%|██████████| 750/750 [08:28<00:00,  1.48it/s, iou=0.273, loss=0.115]  \n",
      "Epoch 41/100 [Val]: 100%|██████████| 200/200 [00:28<00:00,  6.97it/s]\n"
     ]
    },
    {
     "name": "stdout",
     "output_type": "stream",
     "text": [
      "Epoch 41 Summary:\n",
      "  Train -> Loss: 0.1056, IoU: 0.4630\n",
      "  Val   -> Loss: 0.2598, IoU: 0.3942\n",
      "  LR: 0.00000625\n",
      "Validation IoU did not improve. Patience: 11/20\n"
     ]
    },
    {
     "name": "stderr",
     "output_type": "stream",
     "text": [
      "Epoch 42/100 [Train]: 100%|██████████| 750/750 [08:26<00:00,  1.48it/s, iou=0.275, loss=0.0649] \n",
      "Epoch 42/100 [Val]: 100%|██████████| 200/200 [00:28<00:00,  7.05it/s]\n"
     ]
    },
    {
     "name": "stdout",
     "output_type": "stream",
     "text": [
      "Epoch 42 Summary:\n",
      "  Train -> Loss: 0.1047, IoU: 0.4628\n",
      "  Val   -> Loss: 0.2570, IoU: 0.3928\n",
      "  LR: 0.00000625\n",
      "Validation IoU did not improve. Patience: 12/20\n"
     ]
    },
    {
     "name": "stderr",
     "output_type": "stream",
     "text": [
      "Epoch 43/100 [Train]: 100%|██████████| 750/750 [08:27<00:00,  1.48it/s, iou=0.526, loss=0.0855]\n",
      "Epoch 43/100 [Val]: 100%|██████████| 200/200 [00:28<00:00,  7.01it/s]\n"
     ]
    },
    {
     "name": "stdout",
     "output_type": "stream",
     "text": [
      "Epoch 43 Summary:\n",
      "  Train -> Loss: 0.1050, IoU: 0.4629\n",
      "  Val   -> Loss: 0.2588, IoU: 0.4008\n",
      "  LR: 0.00000625\n",
      "🚀 New best validation IoU: 0.4008. Saving model...\n"
     ]
    },
    {
     "name": "stderr",
     "output_type": "stream",
     "text": [
      "Epoch 44/100 [Train]: 100%|██████████| 750/750 [08:32<00:00,  1.46it/s, iou=0.517, loss=0.0709]\n",
      "Epoch 44/100 [Val]: 100%|██████████| 200/200 [00:28<00:00,  7.13it/s]\n"
     ]
    },
    {
     "name": "stdout",
     "output_type": "stream",
     "text": [
      "Epoch 44 Summary:\n",
      "  Train -> Loss: 0.1045, IoU: 0.4664\n",
      "  Val   -> Loss: 0.2610, IoU: 0.3976\n",
      "  LR: 0.00000625\n",
      "Validation IoU did not improve. Patience: 1/20\n"
     ]
    },
    {
     "name": "stderr",
     "output_type": "stream",
     "text": [
      "Epoch 45/100 [Train]: 100%|██████████| 750/750 [08:28<00:00,  1.47it/s, iou=0.387, loss=0.0923] \n",
      "Epoch 45/100 [Val]: 100%|██████████| 200/200 [00:28<00:00,  6.99it/s]\n"
     ]
    },
    {
     "name": "stdout",
     "output_type": "stream",
     "text": [
      "Epoch 45 Summary:\n",
      "  Train -> Loss: 0.1041, IoU: 0.4654\n",
      "  Val   -> Loss: 0.2648, IoU: 0.3970\n",
      "  LR: 0.00000313\n",
      "Validation IoU did not improve. Patience: 2/20\n"
     ]
    },
    {
     "name": "stderr",
     "output_type": "stream",
     "text": [
      "Epoch 46/100 [Train]: 100%|██████████| 750/750 [08:36<00:00,  1.45it/s, iou=0.49, loss=0.0837] \n",
      "Epoch 46/100 [Val]: 100%|██████████| 200/200 [00:31<00:00,  6.41it/s]\n"
     ]
    },
    {
     "name": "stdout",
     "output_type": "stream",
     "text": [
      "Epoch 46 Summary:\n",
      "  Train -> Loss: 0.1036, IoU: 0.4661\n",
      "  Val   -> Loss: 0.2689, IoU: 0.3989\n",
      "  LR: 0.00000313\n",
      "Validation IoU did not improve. Patience: 3/20\n"
     ]
    },
    {
     "name": "stderr",
     "output_type": "stream",
     "text": [
      "Epoch 47/100 [Train]: 100%|██████████| 750/750 [08:35<00:00,  1.46it/s, iou=0.299, loss=0.147] \n",
      "Epoch 47/100 [Val]: 100%|██████████| 200/200 [00:28<00:00,  6.94it/s]\n"
     ]
    },
    {
     "name": "stdout",
     "output_type": "stream",
     "text": [
      "Epoch 47 Summary:\n",
      "  Train -> Loss: 0.1032, IoU: 0.4644\n",
      "  Val   -> Loss: 0.2714, IoU: 0.3994\n",
      "  LR: 0.00000313\n",
      "Validation IoU did not improve. Patience: 4/20\n"
     ]
    },
    {
     "name": "stderr",
     "output_type": "stream",
     "text": [
      "Epoch 48/100 [Train]: 100%|██████████| 750/750 [08:29<00:00,  1.47it/s, iou=0.471, loss=0.126] \n",
      "Epoch 48/100 [Val]: 100%|██████████| 200/200 [00:28<00:00,  7.04it/s]\n"
     ]
    },
    {
     "name": "stdout",
     "output_type": "stream",
     "text": [
      "Epoch 48 Summary:\n",
      "  Train -> Loss: 0.1024, IoU: 0.4711\n",
      "  Val   -> Loss: 0.2682, IoU: 0.3962\n",
      "  LR: 0.00000313\n",
      "Validation IoU did not improve. Patience: 5/20\n"
     ]
    },
    {
     "name": "stderr",
     "output_type": "stream",
     "text": [
      "Epoch 49/100 [Train]: 100%|██████████| 750/750 [08:24<00:00,  1.49it/s, iou=0.321, loss=0.123] \n",
      "Epoch 49/100 [Val]: 100%|██████████| 200/200 [00:28<00:00,  6.94it/s]\n"
     ]
    },
    {
     "name": "stdout",
     "output_type": "stream",
     "text": [
      "Epoch 49 Summary:\n",
      "  Train -> Loss: 0.1031, IoU: 0.4645\n",
      "  Val   -> Loss: 0.2702, IoU: 0.3990\n",
      "  LR: 0.00000313\n",
      "Validation IoU did not improve. Patience: 6/20\n"
     ]
    },
    {
     "name": "stderr",
     "output_type": "stream",
     "text": [
      "Epoch 50/100 [Train]: 100%|██████████| 750/750 [08:28<00:00,  1.47it/s, iou=0.732, loss=0.0615]\n",
      "Epoch 50/100 [Val]: 100%|██████████| 200/200 [00:28<00:00,  7.02it/s]\n"
     ]
    },
    {
     "name": "stdout",
     "output_type": "stream",
     "text": [
      "Epoch 50 Summary:\n",
      "  Train -> Loss: 0.1022, IoU: 0.4680\n",
      "  Val   -> Loss: 0.2695, IoU: 0.3963\n",
      "  LR: 0.00000313\n",
      "Validation IoU did not improve. Patience: 7/20\n"
     ]
    },
    {
     "name": "stderr",
     "output_type": "stream",
     "text": [
      "Epoch 51/100 [Train]: 100%|██████████| 750/750 [08:25<00:00,  1.48it/s, iou=0.818, loss=0.104] \n",
      "Epoch 51/100 [Val]: 100%|██████████| 200/200 [00:28<00:00,  7.09it/s]\n"
     ]
    },
    {
     "name": "stdout",
     "output_type": "stream",
     "text": [
      "Epoch 51 Summary:\n",
      "  Train -> Loss: 0.1023, IoU: 0.4682\n",
      "  Val   -> Loss: 0.2747, IoU: 0.3972\n",
      "  LR: 0.00000156\n",
      "Validation IoU did not improve. Patience: 8/20\n"
     ]
    },
    {
     "name": "stderr",
     "output_type": "stream",
     "text": [
      "Epoch 52/100 [Train]: 100%|██████████| 750/750 [08:27<00:00,  1.48it/s, iou=0.659, loss=0.0784]\n",
      "Epoch 52/100 [Val]: 100%|██████████| 200/200 [00:28<00:00,  7.01it/s]\n"
     ]
    },
    {
     "name": "stdout",
     "output_type": "stream",
     "text": [
      "Epoch 52 Summary:\n",
      "  Train -> Loss: 0.1022, IoU: 0.4693\n",
      "  Val   -> Loss: 0.2748, IoU: 0.3989\n",
      "  LR: 0.00000156\n",
      "Validation IoU did not improve. Patience: 9/20\n"
     ]
    },
    {
     "name": "stderr",
     "output_type": "stream",
     "text": [
      "Epoch 53/100 [Train]: 100%|██████████| 750/750 [08:29<00:00,  1.47it/s, iou=0.624, loss=0.118] \n",
      "Epoch 53/100 [Val]: 100%|██████████| 200/200 [00:28<00:00,  7.09it/s]\n"
     ]
    },
    {
     "name": "stdout",
     "output_type": "stream",
     "text": [
      "Epoch 53 Summary:\n",
      "  Train -> Loss: 0.1021, IoU: 0.4691\n",
      "  Val   -> Loss: 0.2802, IoU: 0.3987\n",
      "  LR: 0.00000156\n",
      "Validation IoU did not improve. Patience: 10/20\n"
     ]
    },
    {
     "name": "stderr",
     "output_type": "stream",
     "text": [
      "Epoch 54/100 [Train]: 100%|██████████| 750/750 [08:24<00:00,  1.49it/s, iou=0.45, loss=0.136]  \n",
      "Epoch 54/100 [Val]: 100%|██████████| 200/200 [00:27<00:00,  7.27it/s]\n"
     ]
    },
    {
     "name": "stdout",
     "output_type": "stream",
     "text": [
      "Epoch 54 Summary:\n",
      "  Train -> Loss: 0.1018, IoU: 0.4696\n",
      "  Val   -> Loss: 0.2744, IoU: 0.3976\n",
      "  LR: 0.00000156\n",
      "Validation IoU did not improve. Patience: 11/20\n"
     ]
    },
    {
     "name": "stderr",
     "output_type": "stream",
     "text": [
      "Epoch 55/100 [Train]: 100%|██████████| 750/750 [08:28<00:00,  1.48it/s, iou=0.613, loss=0.102] \n",
      "Epoch 55/100 [Val]: 100%|██████████| 200/200 [00:27<00:00,  7.17it/s]\n"
     ]
    },
    {
     "name": "stdout",
     "output_type": "stream",
     "text": [
      "Epoch 55 Summary:\n",
      "  Train -> Loss: 0.1023, IoU: 0.4671\n",
      "  Val   -> Loss: 0.2695, IoU: 0.3981\n",
      "  LR: 0.00000156\n",
      "Validation IoU did not improve. Patience: 12/20\n"
     ]
    },
    {
     "name": "stderr",
     "output_type": "stream",
     "text": [
      "Epoch 56/100 [Train]: 100%|██████████| 750/750 [08:28<00:00,  1.48it/s, iou=0.531, loss=0.144] \n",
      "Epoch 56/100 [Val]: 100%|██████████| 200/200 [00:28<00:00,  7.13it/s]\n"
     ]
    },
    {
     "name": "stdout",
     "output_type": "stream",
     "text": [
      "Epoch 56 Summary:\n",
      "  Train -> Loss: 0.1017, IoU: 0.4706\n",
      "  Val   -> Loss: 0.2714, IoU: 0.3988\n",
      "  LR: 0.00000156\n",
      "Validation IoU did not improve. Patience: 13/20\n"
     ]
    },
    {
     "name": "stderr",
     "output_type": "stream",
     "text": [
      "Epoch 57/100 [Train]: 100%|██████████| 750/750 [08:30<00:00,  1.47it/s, iou=0.452, loss=0.111] \n",
      "Epoch 57/100 [Val]: 100%|██████████| 200/200 [00:28<00:00,  7.04it/s]\n"
     ]
    },
    {
     "name": "stdout",
     "output_type": "stream",
     "text": [
      "Epoch 57 Summary:\n",
      "  Train -> Loss: 0.1015, IoU: 0.4722\n",
      "  Val   -> Loss: 0.2690, IoU: 0.3970\n",
      "  LR: 0.00000078\n",
      "Validation IoU did not improve. Patience: 14/20\n"
     ]
    },
    {
     "name": "stderr",
     "output_type": "stream",
     "text": [
      "Epoch 58/100 [Train]: 100%|██████████| 750/750 [08:29<00:00,  1.47it/s, iou=0.589, loss=0.0728]\n",
      "Epoch 58/100 [Val]: 100%|██████████| 200/200 [00:28<00:00,  7.03it/s]\n"
     ]
    },
    {
     "name": "stdout",
     "output_type": "stream",
     "text": [
      "Epoch 58 Summary:\n",
      "  Train -> Loss: 0.1010, IoU: 0.4697\n",
      "  Val   -> Loss: 0.2730, IoU: 0.3975\n",
      "  LR: 0.00000078\n",
      "Validation IoU did not improve. Patience: 15/20\n"
     ]
    },
    {
     "name": "stderr",
     "output_type": "stream",
     "text": [
      "Epoch 59/100 [Train]: 100%|██████████| 750/750 [08:31<00:00,  1.47it/s, iou=0.456, loss=0.112] \n",
      "Epoch 59/100 [Val]: 100%|██████████| 200/200 [00:28<00:00,  6.92it/s]\n"
     ]
    },
    {
     "name": "stdout",
     "output_type": "stream",
     "text": [
      "Epoch 59 Summary:\n",
      "  Train -> Loss: 0.1011, IoU: 0.4709\n",
      "  Val   -> Loss: 0.2750, IoU: 0.3995\n",
      "  LR: 0.00000078\n",
      "Validation IoU did not improve. Patience: 16/20\n"
     ]
    },
    {
     "name": "stderr",
     "output_type": "stream",
     "text": [
      "Epoch 60/100 [Train]: 100%|██████████| 750/750 [08:27<00:00,  1.48it/s, iou=0.46, loss=0.107]  \n",
      "Epoch 60/100 [Val]: 100%|██████████| 200/200 [00:29<00:00,  6.90it/s]\n"
     ]
    },
    {
     "name": "stdout",
     "output_type": "stream",
     "text": [
      "Epoch 60 Summary:\n",
      "  Train -> Loss: 0.1013, IoU: 0.4706\n",
      "  Val   -> Loss: 0.2743, IoU: 0.3976\n",
      "  LR: 0.00000078\n",
      "Validation IoU did not improve. Patience: 17/20\n"
     ]
    },
    {
     "name": "stderr",
     "output_type": "stream",
     "text": [
      "Epoch 61/100 [Train]: 100%|██████████| 750/750 [08:34<00:00,  1.46it/s, iou=0.572, loss=0.0488]\n",
      "Epoch 61/100 [Val]: 100%|██████████| 200/200 [00:28<00:00,  7.07it/s]\n"
     ]
    },
    {
     "name": "stdout",
     "output_type": "stream",
     "text": [
      "Epoch 61 Summary:\n",
      "  Train -> Loss: 0.1012, IoU: 0.4698\n",
      "  Val   -> Loss: 0.2748, IoU: 0.3990\n",
      "  LR: 0.00000078\n",
      "Validation IoU did not improve. Patience: 18/20\n"
     ]
    },
    {
     "name": "stderr",
     "output_type": "stream",
     "text": [
      "Epoch 62/100 [Train]: 100%|██████████| 750/750 [12:19<00:00,  1.01it/s, iou=0.639, loss=0.0495]\n",
      "Epoch 62/100 [Val]: 100%|██████████| 200/200 [01:12<00:00,  2.77it/s]\n"
     ]
    },
    {
     "name": "stdout",
     "output_type": "stream",
     "text": [
      "Epoch 62 Summary:\n",
      "  Train -> Loss: 0.1016, IoU: 0.4715\n",
      "  Val   -> Loss: 0.2718, IoU: 0.3981\n",
      "  LR: 0.00000078\n",
      "Validation IoU did not improve. Patience: 19/20\n"
     ]
    },
    {
     "name": "stderr",
     "output_type": "stream",
     "text": [
      "Epoch 63/100 [Train]: 100%|██████████| 750/750 [11:43<00:00,  1.07it/s, iou=0.438, loss=0.088] \n",
      "Epoch 63/100 [Val]: 100%|██████████| 200/200 [00:33<00:00,  5.92it/s]\n"
     ]
    },
    {
     "name": "stdout",
     "output_type": "stream",
     "text": [
      "Epoch 63 Summary:\n",
      "  Train -> Loss: 0.1016, IoU: 0.4683\n",
      "  Val   -> Loss: 0.2749, IoU: 0.3993\n",
      "  LR: 0.00000039\n",
      "Validation IoU did not improve. Patience: 20/20\n",
      "Early stopping!\n",
      "\n",
      "--- Training complete. ---\n",
      "Plotting training history...\n"
     ]
    },
    {
     "data": {
      "image/png": "[encoded data removed]",
      "text/plain": [
       "<Figure size 2200x600 with 3 Axes>"
      ]
     },
     "metadata": {},
     "output_type": "display_data"
    }
   ],
   "source": [
    "if __name__ == '__main__':\n",
    "    train_dataset = CrackDetectionDataset(train_img_paths, train_mask_paths, transform=train_transform)\n",
    "    val_dataset = CrackDetectionDataset(val_img_paths, val_mask_paths, transform=val_transform)\n",
    "\n",
    "    train_loader = DataLoader(train_dataset, batch_size=BATCH_SIZE, shuffle=True, num_workers=0, pin_memory=True)\n",
    "    val_loader = DataLoader(val_dataset, batch_size=BATCH_SIZE, shuffle=False, num_workers=0, pin_memory=True)\n",
    "\n",
    "    model = SwinUNet_v2(input_channels=3, num_classes=1, img_size=IMG_SIZE).to(DEVICE)\n",
    "    for param in model.swin.parameters():\n",
    "        param.requires_grad = True\n",
    "    \n",
    "    optimizer = torch.optim.AdamW(model.parameters(), lr=LEARNING_RATE, weight_decay=1e-3)\n",
    "    scheduler = torch.optim.lr_scheduler.ReduceLROnPlateau(optimizer, mode='min', factor=0.5, patience=5, min_lr=1e-7)\n",
    "    \n",
    "    pos_weight_value = 20\n",
    "    pos_weight_tensor = torch.tensor([pos_weight_value], device=DEVICE)\n",
    "    criterion = nn.BCEWithLogitsLoss(pos_weight=pos_weight_tensor).to(DEVICE)\n",
    "    \n",
    "    # Cập nhật thông báo cho chính xác\n",
    "    print(\"=\"*50)\n",
    "    print(f\"!!! USING BCEWithLogitsLoss with pos_weight={pos_weight_value} !!!\")\n",
    "    print(\"=\"*50)\n",
    "\n",
    "\n",
    "    print(f\"Model: SwinUNet_v2 initialized with {sum(p.numel() for p in model.parameters() if p.requires_grad):,} trainable parameters.\")\n",
    "\n",
    "    callbacks_config = {\n",
    "        'patience': 20,\n",
    "        'checkpoint_path': 'swin_unet_v2.pth'\n",
    "    }\n",
    "\n",
    "    # --- SỬA LỖI LOGIC TẢI CHECKPOINT ---\n",
    "    start_epoch = 0\n",
    "    best_val_iou = 0.0\n",
    "    history = None\n",
    "    checkpoint_path = callbacks_config['checkpoint_path']\n",
    "\n",
    "    if os.path.exists(checkpoint_path):\n",
    "        print(f\"Checkpoint found at {checkpoint_path}. Loading to resume training...\")\n",
    "        # Tải checkpoint về CPU trước để tránh lỗi GPU memory\n",
    "        checkpoint = torch.load(checkpoint_path, map_location=torch.device('cpu')) \n",
    "        \n",
    "        # Tải trạng thái vào mô hình\n",
    "        model.load_state_dict(checkpoint['model_state_dict'])\n",
    "        # Đưa mô hình trở lại device (GPU/CPU)\n",
    "        model.to(DEVICE)\n",
    "        \n",
    "        # Tải trạng thái vào optimizer và scheduler\n",
    "        optimizer.load_state_dict(checkpoint['optimizer_state_dict'])\n",
    "        scheduler.load_state_dict(checkpoint['scheduler_state_dict'])\n",
    "        \n",
    "        # Cập nhật các biến để tiếp tục huấn luyện\n",
    "        # Chú ý: lưu epoch đã hoàn thành, nên epoch bắt đầu tiếp theo là +1\n",
    "        start_epoch = checkpoint['epoch'] + 1 \n",
    "        best_val_iou = checkpoint['best_val_iou']\n",
    "        history = checkpoint['history']\n",
    "        \n",
    "        print(f\"Resuming training from Epoch {start_epoch}.\")\n",
    "        print(f\"Best validation IoU so far: {best_val_iou:.4f}\")\n",
    "\n",
    "    else:\n",
    "        print(\"No checkpoint found. Starting training from scratch.\")\n",
    "\n",
    "    # Cập nhật lại thông báo print cho chính xác\n",
    "    print(f\"\\n--- Starting Swin-UNet v2 Training (BCE loss with pos_weight) ---\")\n",
    "    training_history = train_model(\n",
    "        model, train_loader, val_loader, optimizer, criterion, scheduler,\n",
    "        num_epochs=NUM_EPOCHS, callbacks_config=callbacks_config,\n",
    "        start_epoch=start_epoch, best_val_iou=best_val_iou, history=history\n",
    "    )\n",
    "    # --- KẾT THÚC SỬA LỖI ---\n",
    "    \n",
    "    print(\"\\n--- Training complete. ---\")\n",
    "\n",
    "    if training_history and len(training_history['train_loss']) > 0:\n",
    "        print(\"Plotting training history...\")\n",
    "        plot_training_history(training_history)\n",
    "    else:\n",
    "        print(\"No training history available to plot.\")"
   ]
  },
  {
   "cell_type": "code",
   "execution_count": 14,
   "id": "2f4f963d",
   "metadata": {},
   "outputs": [],
   "source": [
    "from sklearn.metrics import precision_score, recall_score, f1_score, jaccard_score\n",
    "\n",
    "def evaluate_model(model, data_loader, threshold=0.5):\n",
    "    model.eval()\n",
    "    all_preds = []\n",
    "    all_targets = []\n",
    "\n",
    "    with torch.no_grad():\n",
    "        for images, masks in tqdm(data_loader, desc=\"Evaluating\"):\n",
    "            images = images.to(DEVICE)\n",
    "            masks = masks.to(DEVICE)\n",
    "\n",
    "            outputs = model(images)\n",
    "            preds = torch.sigmoid(outputs)\n",
    "\n",
    "            preds = (preds > threshold).float()\n",
    "\n",
    "            all_preds.append(preds.view(-1).cpu().numpy())\n",
    "            all_targets.append(masks.view(-1).cpu().numpy())\n",
    "\n",
    "    all_preds = np.concatenate(all_preds)\n",
    "    all_targets = np.concatenate(all_targets)\n",
    "\n",
    "    precision = precision_score(all_targets, all_preds, zero_division=0)\n",
    "    recall = recall_score(all_targets, all_preds, zero_division=0)\n",
    "    f1 = f1_score(all_targets, all_preds, zero_division=0)\n",
    "    iou = jaccard_score(all_targets, all_preds, zero_division=0)\n",
    "\n",
    "    print(f\"\\n--- Evaluation Metrics ---\")\n",
    "    print(f\"Precision: {precision:.4f}\")\n",
    "    print(f\"Recall:    {recall:.4f}\")\n",
    "    print(f\"F1-score:  {f1:.4f}\")\n",
    "    print(f\"IoU:       {iou:.4f}\")\n"
   ]
  },
  {
   "cell_type": "code",
   "execution_count": 17,
   "id": "f1b829f8",
   "metadata": {},
   "outputs": [
    {
     "name": "stderr",
     "output_type": "stream",
     "text": [
      "Collecting predictions:   0%|          | 0/200 [00:00<?, ?it/s]"
     ]
    },
    {
     "name": "stderr",
     "output_type": "stream",
     "text": [
      "Collecting predictions: 100%|██████████| 200/200 [00:38<00:00,  5.26it/s]\n"
     ]
    },
    {
     "name": "stdout",
     "output_type": "stream",
     "text": [
      "\n",
      "=== Threshold Tốt Nhất ===\n",
      "[F1]  Best at threshold = 0.92 | F1 = 0.7055\n",
      "[IoU] Best at threshold = 0.92 | IoU = 0.5450\n"
     ]
    }
   ],
   "source": [
    "thresholds = np.arange(0.65, 1.01, 0.01)\n",
    "all_preds_raw = []\n",
    "all_targets = []\n",
    "\n",
    "model.eval()\n",
    "with torch.no_grad():\n",
    "    for images, masks in tqdm(val_loader, desc=\"Collecting predictions\"):\n",
    "        images = images.to(DEVICE)\n",
    "        masks = masks.to(DEVICE)\n",
    "\n",
    "        outputs = model(images)\n",
    "        probs = torch.sigmoid(outputs)\n",
    "\n",
    "        all_preds_raw.append(probs.view(-1).cpu().numpy())\n",
    "        all_targets.append(masks.view(-1).cpu().numpy())\n",
    "\n",
    "all_preds_raw = np.concatenate(all_preds_raw)\n",
    "all_targets = np.concatenate(all_targets)\n",
    "\n",
    "metrics = {'threshold': [], 'precision': [], 'recall': [], 'f1': [], 'iou': []}\n",
    "\n",
    "for t in thresholds:\n",
    "    preds_bin = (all_preds_raw > t).astype(np.uint8)\n",
    "\n",
    "    precision = precision_score(all_targets, preds_bin, zero_division=0)\n",
    "    recall = recall_score(all_targets, preds_bin, zero_division=0)\n",
    "    f1 = f1_score(all_targets, preds_bin, zero_division=0)\n",
    "    iou = jaccard_score(all_targets, preds_bin, zero_division=0)\n",
    "\n",
    "    metrics['threshold'].append(t)\n",
    "    metrics['precision'].append(precision)\n",
    "    metrics['recall'].append(recall)\n",
    "    metrics['f1'].append(f1)\n",
    "    metrics['iou'].append(iou)\n",
    "\n",
    "best_f1_idx = int(np.argmax(metrics['f1']))\n",
    "best_iou_idx = int(np.argmax(metrics['iou']))\n",
    "\n",
    "print(\"\\n=== Threshold Tốt Nhất ===\")\n",
    "print(f\"[F1]  Best at threshold = {metrics['threshold'][best_f1_idx]:.2f} | F1 = {metrics['f1'][best_f1_idx]:.4f}\")\n",
    "print(f\"[IoU] Best at threshold = {metrics['threshold'][best_iou_idx]:.2f} | IoU = {metrics['iou'][best_iou_idx]:.4f}\")\n"
   ]
  },
  {
   "cell_type": "code",
   "execution_count": 18,
   "id": "ff02f303",
   "metadata": {},
   "outputs": [
    {
     "data": {
      "image/png": "[encoded data removed]",
      "text/plain": [
       "<Figure size 1000x600 with 1 Axes>"
      ]
     },
     "metadata": {},
     "output_type": "display_data"
    }
   ],
   "source": [
    "x = [round(t, 2) for t in metrics['threshold']]\n",
    "x_idx = np.arange(len(x))\n",
    "width = 0.25\n",
    "\n",
    "plt.figure(figsize=(10, 6))\n",
    "plt.bar(x_idx - width, metrics['precision'], width=width, label='Precision')\n",
    "plt.bar(x_idx, metrics['f1'], width=width, label='F1-score')\n",
    "plt.bar(x_idx + width, metrics['iou'], width=width, label='IoU')\n",
    "\n",
    "plt.xticks(x_idx, x)\n",
    "plt.xlabel('Threshold')\n",
    "plt.ylabel('Score')\n",
    "plt.title('Segmentation Metrics at Different Thresholds')\n",
    "plt.legend()\n",
    "plt.grid(True, linestyle='--', alpha=0.5)\n",
    "plt.tight_layout()\n",
    "plt.show()"
   ]
  }
 ],
 "metadata": {
  "kernelspec": {
   "display_name": "tf",
   "language": "python",
   "name": "python3"
  },
  "language_info": {
   "codemirror_mode": {
    "name": "ipython",
    "version": 3
   },
   "file_extension": ".py",
   "mimetype": "text/x-python",
   "name": "python",
   "nbconvert_exporter": "python",
   "pygments_lexer": "ipython3",
   "version": "3.10.18"
  }
 },
 "nbformat": 4,
 "nbformat_minor": 5
}
