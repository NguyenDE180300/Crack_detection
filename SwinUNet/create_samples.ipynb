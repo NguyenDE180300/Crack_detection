{
 "cells": [
  {
   "cell_type": "code",
   "execution_count": 1,
   "id": "74f6867b",
   "metadata": {},
   "outputs": [
    {
     "name": "stdout",
     "output_type": "stream",
     "text": [
      "--- Bắt đầu tạo tập dữ liệu con tại: 'C:\\Users\\Admin\\Documents\\Python Project\\DPL Crack detection\\my_crack_subset' ---\n",
      "Đã tạo cấu trúc thư mục train/val.\n",
      "Tổng cộng lấy 50 mẫu.\n",
      "  - 40 mẫu cho tập train (80%)\n",
      "  - 10 mẫu cho tập val (20%)\n"
     ]
    },
    {
     "name": "stderr",
     "output_type": "stream",
     "text": [
      "Copying train files: 100%|██████████| 40/40 [00:00<00:00, 419.41it/s]\n",
      "Copying val files: 100%|██████████| 10/10 [00:00<00:00, 431.65it/s]"
     ]
    },
    {
     "name": "stdout",
     "output_type": "stream",
     "text": [
      "\n",
      "✅ Hoàn thành!\n",
      "Đã tạo thành công tập dữ liệu con tại 'C:\\Users\\Admin\\Documents\\Python Project\\DPL Crack detection\\my_crack_subset'.\n"
     ]
    },
    {
     "name": "stderr",
     "output_type": "stream",
     "text": [
      "\n"
     ]
    }
   ],
   "source": [
    "import os\n",
    "import shutil\n",
    "import random\n",
    "from tqdm import tqdm\n",
    "\n",
    "def create_train_val_subset(source_dir, dest_dir, total_samples, split_ratio=0.8, seed=42):\n",
    "    \"\"\"\n",
    "    Tạo một tập dữ liệu con có cấu trúc train/val từ một nguồn dữ liệu gốc.\n",
    "\n",
    "    Args:\n",
    "        source_dir (str): Đường dẫn đến thư mục dữ liệu gốc (ví dụ: '.../UDTIRI-Crack Detection/train').\n",
    "        dest_dir (str): Đường dẫn đến thư mục đích, nơi tập dữ liệu con sẽ được tạo.\n",
    "        total_samples (int): Tổng số lượng mẫu (cặp ảnh/mask) cần lấy.\n",
    "        split_ratio (float): Tỷ lệ dữ liệu cho tập train (ví dụ: 0.8 cho 80% train, 20% val).\n",
    "        seed (int): Seed cho việc chọn ngẫu nhiên để có thể lặp lại kết quả.\n",
    "    \"\"\"\n",
    "    random.seed(seed)\n",
    "    print(f\"--- Bắt đầu tạo tập dữ liệu con tại: '{dest_dir}' ---\")\n",
    "\n",
    "    source_img_dir = os.path.join(source_dir, 'image')\n",
    "    source_mask_dir = os.path.join(source_dir, 'label')\n",
    "\n",
    "    # 1. Tạo cấu trúc thư mục đích\n",
    "    dest_train_img_dir = os.path.join(dest_dir, 'train', 'image')\n",
    "    dest_train_mask_dir = os.path.join(dest_dir, 'train', 'label')\n",
    "    dest_val_img_dir = os.path.join(dest_dir, 'val', 'image')\n",
    "    dest_val_mask_dir = os.path.join(dest_dir, 'val', 'label')\n",
    "\n",
    "    for path in [dest_train_img_dir, dest_train_mask_dir, dest_val_img_dir, dest_val_mask_dir]:\n",
    "        os.makedirs(path, exist_ok=True)\n",
    "    print(\"Đã tạo cấu trúc thư mục train/val.\")\n",
    "\n",
    "    # 2. Lấy danh sách tất cả các file từ nguồn\n",
    "    all_img_files = sorted(os.listdir(source_img_dir))\n",
    "    all_mask_files = sorted(os.listdir(source_mask_dir))\n",
    "    \n",
    "    # Đảm bảo các file được ghép cặp đúng\n",
    "    assert len(all_img_files) == len(all_mask_files), \"Số lượng ảnh và mask trong thư mục nguồn không khớp!\"\n",
    "    \n",
    "    # Tạo danh sách các chỉ số từ 0 đến N-1\n",
    "    indices = list(range(len(all_img_files)))\n",
    "    random.shuffle(indices) # Xáo trộn các chỉ số một cách ngẫu nhiên\n",
    "\n",
    "    # 3. Chọn ra một tập con và chia train/val\n",
    "    num_total_available = len(all_img_files)\n",
    "    if total_samples > num_total_available:\n",
    "        print(f\"Cảnh báo: Bạn yêu cầu {total_samples} mẫu, nhưng chỉ có {num_total_available} mẫu. Sẽ sử dụng tất cả.\")\n",
    "        total_samples = num_total_available\n",
    "        \n",
    "    selected_indices = indices[:total_samples]\n",
    "    \n",
    "    num_train = int(total_samples * split_ratio)\n",
    "    train_indices = selected_indices[:num_train]\n",
    "    val_indices = selected_indices[num_train:]\n",
    "\n",
    "    print(f\"Tổng cộng lấy {total_samples} mẫu.\")\n",
    "    print(f\"  - {len(train_indices)} mẫu cho tập train ({split_ratio*100:.0f}%)\")\n",
    "    print(f\"  - {len(val_indices)} mẫu cho tập val ({(1-split_ratio)*100:.0f}%)\")\n",
    "\n",
    "    # 4. Hàm trợ giúp để sao chép file\n",
    "    def copy_files(file_indices, dest_img_path, dest_mask_path, desc=\"\"):\n",
    "        for i in tqdm(file_indices, desc=f\"Copying {desc} files\"):\n",
    "            img_filename = all_img_files[i]\n",
    "            mask_filename = all_mask_files[i]\n",
    "            \n",
    "            # Sao chép ảnh\n",
    "            shutil.copy2(os.path.join(source_img_dir, img_filename), os.path.join(dest_img_path, img_filename))\n",
    "            # Sao chép mask\n",
    "            shutil.copy2(os.path.join(source_mask_dir, mask_filename), os.path.join(dest_mask_path, mask_filename))\n",
    "\n",
    "    # 5. Thực hiện sao chép\n",
    "    copy_files(train_indices, dest_train_img_dir, dest_train_mask_dir, \"train\")\n",
    "    copy_files(val_indices, dest_val_img_dir, dest_val_mask_dir, \"val\")\n",
    "\n",
    "    print(\"\\n✅ Hoàn thành!\")\n",
    "    print(f\"Đã tạo thành công tập dữ liệu con tại '{dest_dir}'.\")\n",
    "\n",
    "\n",
    "if __name__ == '__main__':\n",
    "    # --- CẤU HÌNH ---\n",
    "    # Đường dẫn đến dữ liệu GỐC (chỉ cần thư mục cha chứa 'image' và 'label')\n",
    "    # Chúng ta sẽ lấy dữ liệu từ tập train gốc để tạo ra tập con.\n",
    "    SOURCE_DATA_DIR = r'C:\\Users\\Admin\\Documents\\Python Project\\DPL Crack detection\\UDTIRI-Crack Detection\\train'\n",
    "\n",
    "    # Đường dẫn bạn muốn LƯU thư mục con mới\n",
    "    # Thư mục này sẽ được tạo tự động với cấu trúc train/val bên trong.\n",
    "    SUBSET_DESTINATION_DIR = r'C:\\Users\\Admin\\Documents\\Python Project\\DPL Crack detection\\my_crack_subset'\n",
    "    \n",
    "    # Tổng số ảnh bạn muốn có trong tập con\n",
    "    TOTAL_SAMPLES_TO_CREATE = 50\n",
    "\n",
    "    # Tỷ lệ chia: 0.8 nghĩa là 80% cho train, 20% cho validation\n",
    "    TRAIN_VAL_SPLIT_RATIO = 0.8\n",
    "    \n",
    "    # --- CHẠY HÀM ---\n",
    "    create_train_val_subset(\n",
    "        source_dir=SOURCE_DATA_DIR,\n",
    "        dest_dir=SUBSET_DESTINATION_DIR,\n",
    "        total_samples=TOTAL_SAMPLES_TO_CREATE,\n",
    "        split_ratio=TRAIN_VAL_SPLIT_RATIO,\n",
    "        seed=42 # Giữ seed để có thể tạo lại chính xác tập dữ liệu này\n",
    "    )"
   ]
  }
 ],
 "metadata": {
  "kernelspec": {
   "display_name": "tf",
   "language": "python",
   "name": "python3"
  },
  "language_info": {
   "codemirror_mode": {
    "name": "ipython",
    "version": 3
   },
   "file_extension": ".py",
   "mimetype": "text/x-python",
   "name": "python",
   "nbconvert_exporter": "python",
   "pygments_lexer": "ipython3",
   "version": "3.10.18"
  }
 },
 "nbformat": 4,
 "nbformat_minor": 5
}
