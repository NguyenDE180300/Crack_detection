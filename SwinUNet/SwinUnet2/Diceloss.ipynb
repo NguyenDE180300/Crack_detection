{
 "cells": [
  {
   "cell_type": "code",
   "execution_count": 1,
   "id": "ea64c085",
   "metadata": {},
   "outputs": [
    {
     "name": "stderr",
     "output_type": "stream",
     "text": [
      "c:\\Users\\Admin\\anaconda3\\envs\\tf\\lib\\site-packages\\tqdm\\auto.py:21: TqdmWarning: IProgress not found. Please update jupyter and ipywidgets. See https://ipywidgets.readthedocs.io/en/stable/user_install.html\n",
      "  from .autonotebook import tqdm as notebook_tqdm\n"
     ]
    },
    {
     "name": "stdout",
     "output_type": "stream",
     "text": [
      "WARNING:tensorflow:From c:\\Users\\Admin\\anaconda3\\envs\\tf\\lib\\site-packages\\keras\\src\\losses.py:2976: The name tf.losses.sparse_softmax_cross_entropy is deprecated. Please use tf.compat.v1.losses.sparse_softmax_cross_entropy instead.\n",
      "\n",
      "Using device: cuda\n"
     ]
    }
   ],
   "source": [
    "import os\n",
    "import numpy as np\n",
    "import cv2\n",
    "import random\n",
    "import matplotlib.pyplot as plt\n",
    "\n",
    "import torch\n",
    "import torch.nn as nn\n",
    "import torch.nn.functional as F\n",
    "from torch.utils.data import Dataset, DataLoader\n",
    "from transformers import SwinModel\n",
    "from transformers.models.swin.modeling_swin import SwinLayer\n",
    "\n",
    "import albumentations as A\n",
    "from albumentations.pytorch import ToTensorV2\n",
    "from tqdm import tqdm\n",
    "\n",
    "import torch\n",
    "import torch.nn as nn\n",
    "from transformers.models.swin.modeling_swin import SwinPatchEmbeddings, SwinPatchMerging, SwinLayer\n",
    "from transformers import SwinConfig\n",
    "from typing import Tuple, Optional\n",
    "# --- Cài đặt tham số cố định ---\n",
    "IMG_SIZE = 320 \n",
    "NUM_EPOCHS = 200\n",
    "LEARNING_RATE = 1e-4\n",
    "SEED = 42\n",
    "BATCH_SIZE = 2\n",
    "def set_seed(seed=42):\n",
    "    np.random.seed(seed)\n",
    "    random.seed(seed)\n",
    "    torch.manual_seed(seed)\n",
    "    if torch.cuda.is_available():\n",
    "        torch.cuda.manual_seed(seed)\n",
    "        torch.cuda.manual_seed_all(seed)\n",
    "        torch.backends.cudnn.deterministic = True\n",
    "        torch.backends.cudnn.benchmark = False\n",
    "\n",
    "set_seed(SEED)\n",
    "\n",
    "DEVICE = torch.device(\"cuda\" if torch.cuda.is_available() else \"cpu\")\n",
    "print(f\"Using device: {DEVICE}\")\n",
    "\n",
    "# --- Đường dẫn dữ liệu (Thay đổi nếu cần) ---\n",
    "train_img_dir = r'C:\\Users\\Admin\\Documents\\Python Project\\DPL Crack detection\\UDTIRI-Crack Detection\\train\\image'\n",
    "train_mask_dir = r'C:\\Users\\Admin\\Documents\\Python Project\\DPL Crack detection\\UDTIRI-Crack Detection\\train\\label'\n",
    "val_img_dir = r'C:\\Users\\Admin\\Documents\\Python Project\\DPL Crack detection\\UDTIRI-Crack Detection\\val\\image'\n",
    "val_mask_dir = r'C:\\Users\\Admin\\Documents\\Python Project\\DPL Crack detection\\UDTIRI-Crack Detection\\val\\label'\n",
    "\n",
    "# --- Thu thập đường dẫn tệp ảnh và mask ---\n",
    "train_img_paths = sorted([os.path.join(train_img_dir, f) for f in os.listdir(train_img_dir)])\n",
    "train_mask_paths = sorted([os.path.join(train_mask_dir, f) for f in os.listdir(train_mask_dir)])\n",
    "val_img_paths = sorted([os.path.join(val_img_dir, f) for f in os.listdir(val_img_dir)])\n",
    "val_mask_paths = sorted([os.path.join(val_mask_dir, f) for f in os.listdir(val_mask_dir)])\n"
   ]
  },
  {
   "cell_type": "code",
   "execution_count": 2,
   "id": "11e98218",
   "metadata": {},
   "outputs": [],
   "source": [
    "class CrackDetectionDataset(Dataset):\n",
    "    def __init__(self, image_filenames, mask_filenames, transform=None):\n",
    "        self.image_filenames = image_filenames\n",
    "        self.mask_filenames = mask_filenames\n",
    "        self.transform = transform\n",
    "\n",
    "    def __len__(self):\n",
    "        return len(self.image_filenames)\n",
    "\n",
    "    def __getitem__(self, idx):\n",
    "        img = cv2.imread(self.image_filenames[idx])\n",
    "        img = cv2.cvtColor(img, cv2.COLOR_BGR2RGB)\n",
    "        \n",
    "        mask = cv2.imread(self.mask_filenames[idx], cv2.IMREAD_GRAYSCALE)\n",
    "        mask = np.where(mask > 0, 255.0, 0.0).astype(np.float32)\n",
    "\n",
    "        if self.transform:\n",
    "            augmented = self.transform(image=img, mask=mask)\n",
    "            img = augmented['image']\n",
    "            mask = augmented['mask']\n",
    "        \n",
    "        mask = mask / 255.0\n",
    "        mask = mask.unsqueeze(0)\n",
    "\n",
    "        return img, mask\n",
    "\n",
    "train_transform = A.Compose([\n",
    "    A.Resize(IMG_SIZE, IMG_SIZE),\n",
    "    A.HorizontalFlip(p=0.5),\n",
    "    A.VerticalFlip(p=0.5),\n",
    "    A.RandomRotate90(p=0.5),\n",
    "    A.ColorJitter(p=0.2),\n",
    "    A.Normalize(mean=(0.485, 0.456, 0.406), std=(0.229, 0.224, 0.225)),\n",
    "    ToTensorV2(),\n",
    "])\n",
    "\n",
    "val_transform = A.Compose([\n",
    "    A.Resize(IMG_SIZE, IMG_SIZE),\n",
    "    A.Normalize(mean=(0.485, 0.456, 0.406), std=(0.229, 0.224, 0.225)),\n",
    "    ToTensorV2(),\n",
    "])"
   ]
  },
  {
   "cell_type": "code",
   "execution_count": null,
   "id": "9ec579d2",
   "metadata": {},
   "outputs": [],
   "source": [
    "class PatchExpanding(nn.Module):\n",
    "    def __init__(self, input_resolution: Tuple[int, int], dim: int, return_vector: bool = True):\n",
    "        super().__init__()\n",
    "        self.input_resolution = input_resolution\n",
    "        self.dim = dim\n",
    "        self.expand = nn.Linear(dim, 2 * dim, bias=False)\n",
    "        self.norm = nn.LayerNorm(dim // 2)\n",
    "        self.return_vector = return_vector\n",
    "\n",
    "    def forward(self, x: torch.Tensor) -> torch.Tensor:\n",
    "        H, W = self.input_resolution\n",
    "        x = x.view(-1, H, W, self.dim)\n",
    "        x = self.expand(x)\n",
    "        B, H, W, C = x.shape\n",
    "        x = x.view(B, H, W, 2, 2, C // 4)\n",
    "        x = x.permute(0, 1, 3, 2, 4, 5).contiguous().view(B, H * 2, W * 2, C // 4)\n",
    "        x = self.norm(x)\n",
    "        if self.return_vector:\n",
    "            x = x.view(B, -1, C // 4)\n",
    "        return x\n",
    "\n",
    "\n",
    "class FinalPatchExpanding(nn.Module):\n",
    "    def __init__(self, dim: int, scale_factor: int = 4):\n",
    "        super().__init__()\n",
    "        self.scale_factor = scale_factor\n",
    "        self.output_dim = dim // scale_factor\n",
    "\n",
    "        expand_dim = self.output_dim * (scale_factor**2)\n",
    "        self.expand = nn.Linear(dim, expand_dim, bias=False)\n",
    "\n",
    "        self.norm = nn.LayerNorm(self.output_dim)\n",
    "\n",
    "    def forward(self, x: torch.Tensor) -> torch.Tensor:\n",
    "        B, L, _ = x.shape\n",
    "        H = W = int(np.sqrt(L))\n",
    "        x_expanded = self.expand(x)\n",
    "\n",
    "        x_reshaped = x_expanded.view(B, H, W, self.scale_factor, self.scale_factor, self.output_dim)\n",
    "\n",
    "        x_permuted = x_reshaped.permute(0, 1, 3, 2, 4, 5).contiguous().view(B, H * self.scale_factor, W * self.scale_factor, self.output_dim)\n",
    "\n",
    "        x_normed = self.norm(x_permuted)\n",
    "\n",
    "        output = x_normed.view(B, -1, self.output_dim)\n",
    "        \n",
    "        return output\n",
    "\n",
    "\n",
    "class SkipAttention(nn.Module):\n",
    "    def __init__(self, query_dim: int, context_dim: Optional[int] = None, num_heads: int = 8, dim_head: int = 64):\n",
    "        super().__init__()\n",
    "        if context_dim is None:\n",
    "            context_dim = query_dim\n",
    "        \n",
    "        self.attn = nn.MultiheadAttention(embed_dim=query_dim, num_heads=num_heads, \n",
    "                                          kdim=context_dim, vdim=context_dim, \n",
    "                                          batch_first=True)\n",
    "        self.norm = nn.LayerNorm(query_dim)\n",
    "\n",
    "    def forward(self, query: torch.Tensor, context: torch.Tensor) -> torch.Tensor:\n",
    "        attn_output, _ = self.attn(query=query, key=context, value=context)\n",
    "        return self.norm(query + attn_output)\n",
    "\n",
    "\n",
    "class ResidualSwinBlock(nn.Module):\n",
    "    def __init__(self, config: SwinConfig, dim: int, input_resolution: Tuple[int, int], num_layers: int, num_heads: int):\n",
    "        super().__init__()\n",
    "        self.layers = nn.ModuleList([\n",
    "            SwinLayer(\n",
    "                config=config, \n",
    "                dim=dim, \n",
    "                input_resolution=input_resolution, \n",
    "                num_heads=num_heads, \n",
    "                shift_size=0 if (i % 2 == 0) else config.window_size // 2\n",
    "            ) for i in range(num_layers)\n",
    "        ])\n",
    "        \n",
    "    def forward(self, x: torch.Tensor, input_resolution: Tuple[int, int]) -> torch.Tensor:\n",
    "        residual = x\n",
    "        for layer in self.layers:\n",
    "            x = layer(x, input_resolution)[0]\n",
    "        return x + residual\n",
    "\n",
    "\n",
    "class iSwinUnet(nn.Module):\n",
    "    def __init__(self, num_classes: int = 1, img_size: int = 320, pretrained: bool = True):\n",
    "        super().__init__()\n",
    "        self.num_classes = num_classes\n",
    "        self.img_size = img_size\n",
    "        \n",
    "        # --- Config ---\n",
    "        config = SwinConfig(image_size=img_size, patch_size=4, window_size=7)\n",
    "        self.config = config\n",
    "        self.encoder_channels = [config.embed_dim * (2**i) for i in range(len(config.depths))]\n",
    "\n",
    "        # --- Encoder ---\n",
    "        self.patch_embed = SwinPatchEmbeddings(config)\n",
    "        self.pos_drop = nn.Dropout(p=config.hidden_dropout_prob)\n",
    "\n",
    "        self.encoder_stage1 = ResidualSwinBlock(config, self.encoder_channels[0], (img_size//4, img_size//4), config.depths[0], config.num_heads[0])\n",
    "        self.merge1 = SwinPatchMerging(input_resolution=(img_size//4, img_size//4), dim=self.encoder_channels[0])\n",
    "        \n",
    "        self.encoder_stage2 = ResidualSwinBlock(config, self.encoder_channels[1], (img_size//8, img_size//8), config.depths[1], config.num_heads[1])\n",
    "        self.merge2 = SwinPatchMerging(input_resolution=(img_size//8, img_size//8), dim=self.encoder_channels[1])\n",
    "\n",
    "        self.encoder_stage3 = ResidualSwinBlock(config, self.encoder_channels[2], (img_size//16, img_size//16), config.depths[2], config.num_heads[2])\n",
    "        self.merge3 = SwinPatchMerging(input_resolution=(img_size//16, img_size//16), dim=self.encoder_channels[2])\n",
    "        \n",
    "        self.bottleneck = ResidualSwinBlock(config, self.encoder_channels[3], (img_size//32, img_size//32), config.depths[3], config.num_heads[3])\n",
    "\n",
    "        self.decoder_expand3 = PatchExpanding(input_resolution=(img_size//32, img_size//32), dim=self.encoder_channels[3])\n",
    "        self.skip_attn3 = SkipAttention(query_dim=self.encoder_channels[2], context_dim=self.encoder_channels[2], num_heads=config.num_heads[2])\n",
    "        self.decoder_stage3 = ResidualSwinBlock(config, self.encoder_channels[2], (img_size//16, img_size//16), config.depths[2], config.num_heads[2])\n",
    "\n",
    "        self.decoder_expand2 = PatchExpanding(input_resolution=(img_size//16, img_size//16), dim=self.encoder_channels[2])\n",
    "        self.skip_attn2 = SkipAttention(query_dim=self.encoder_channels[1], context_dim=self.encoder_channels[1], num_heads=config.num_heads[1])\n",
    "        self.decoder_stage2 = ResidualSwinBlock(config, self.encoder_channels[1], (img_size//8, img_size//8), config.depths[1], config.num_heads[1])\n",
    "\n",
    "        self.decoder_expand1 = PatchExpanding(input_resolution=(img_size//8, img_size//8), dim=self.encoder_channels[1])\n",
    "        self.skip_attn1 = SkipAttention(query_dim=self.encoder_channels[0], context_dim=self.encoder_channels[0], num_heads=config.num_heads[0])\n",
    "        self.decoder_stage1 = ResidualSwinBlock(config, self.encoder_channels[0], (img_size//4, img_size//4), config.depths[0], config.num_heads[0])\n",
    "\n",
    "        self.final_expand = FinalPatchExpanding(dim=self.encoder_channels[0], scale_factor=4)\n",
    "        self.final_conv = nn.Conv2d(self.final_expand.output_dim, num_classes, kernel_size=1)\n",
    "\n",
    "        if pretrained:\n",
    "            self.load_pretrained_weights()\n",
    "\n",
    "    def load_pretrained_weights(self):\n",
    "            print(\"Loading pretrained weights for Swin-Tiny encoder...\")\n",
    "            try:\n",
    "                swin_original = SwinModel.from_pretrained(\"microsoft/swin-tiny-patch4-window7-224\")\n",
    "                original_state_dict = swin_original.state_dict()\n",
    "\n",
    "                model_state_dict = self.state_dict()\n",
    "\n",
    "                prefix_mapping = {\n",
    "                    'embeddings.patch_embeddings': 'patch_embed',\n",
    "                    'encoder.layers.0.downsample': 'merge1',\n",
    "                    'encoder.layers.1.downsample': 'merge2',\n",
    "                    'encoder.layers.2.downsample': 'merge3',\n",
    "                }\n",
    "\n",
    "                stage_mapping = {\n",
    "                    'encoder.layers.0': 'encoder_stage1',\n",
    "                    'encoder.layers.1': 'encoder_stage2',\n",
    "                    'encoder.layers.2': 'encoder_stage3',\n",
    "                    'encoder.layers.3': 'bottleneck',\n",
    "                }\n",
    "\n",
    "                loaded_count = 0\n",
    "                \n",
    "                orig_pos_embed_key = 'embeddings.absolute_position_embedding'\n",
    "                if orig_pos_embed_key in original_state_dict:\n",
    "                    orig_pos_embed = original_state_dict[orig_pos_embed_key]\n",
    "                    target_pos_embed = model_state_dict[orig_pos_embed_key]\n",
    "                    if orig_pos_embed.shape != target_pos_embed.shape:\n",
    "                        print(f\"Interpolating absolute position embedding due to size mismatch...\")\n",
    "                        orig_pos_embed_spatial = orig_pos_embed[0, 1:, :].permute(1, 0)\n",
    "\n",
    "                        H_orig = W_orig = int((orig_pos_embed.shape[1] - 1) ** 0.5)\n",
    "                        orig_pos_embed_spatial = orig_pos_embed_spatial.view(1, -1, H_orig, W_orig)\n",
    "                        H_target = W_target = int((target_pos_embed.shape[1] - 1) ** 0.5)\n",
    "                        interp_pos_embed = nn.functional.interpolate(\n",
    "                            orig_pos_embed_spatial, size=(H_target, W_target), mode='bicubic', align_corners=False\n",
    "                        )\n",
    "                        interp_pos_embed = interp_pos_embed.view(1, -1, H_target * W_target).permute(0, 2, 1)\n",
    "                        # Thêm lại token [CLS]\n",
    "                        final_pos_embed = torch.cat((orig_pos_embed[0, 0:1, :], interp_pos_embed[0]), dim=0).unsqueeze(0)\n",
    "                        model_state_dict[orig_pos_embed_key] = final_pos_embed\n",
    "                        loaded_count += 1\n",
    "                    del original_state_dict[orig_pos_embed_key]\n",
    "\n",
    "                for key_orig, value in original_state_dict.items():\n",
    "                    new_key = None\n",
    "\n",
    "                    if 'pooler' in key_orig:\n",
    "                        continue\n",
    "\n",
    "                    for old_prefix, new_prefix in prefix_mapping.items():\n",
    "                        if key_orig.startswith(old_prefix):\n",
    "                            new_key = key_orig.replace(old_prefix, new_prefix)\n",
    "                            break\n",
    "\n",
    "                    if new_key is None:\n",
    "                        for old_stage_prefix, new_stage_prefix in stage_mapping.items():\n",
    "                            if key_orig.startswith(old_stage_prefix):\n",
    "                                remainder = key_orig[len(old_stage_prefix):]\n",
    "                                if remainder.startswith('.blocks'):\n",
    "                                    remainder = remainder.replace('.blocks', '', 1)\n",
    "                                    new_key = f\"{new_stage_prefix}.layers{remainder}\"\n",
    "                                break\n",
    "\n",
    "                    if new_key is None:\n",
    "                        if key_orig.startswith('embeddings.norm'):\n",
    "                            new_key = key_orig.replace('embeddings.norm', 'patch_embed.norm')\n",
    "                        elif key_orig.startswith('encoder.norm'):\n",
    "                            continue\n",
    "\n",
    "                    if new_key and new_key in model_state_dict and model_state_dict[new_key].shape == value.shape:\n",
    "                        model_state_dict[new_key] = value\n",
    "                        loaded_count += 1\n",
    "                    else:\n",
    "                        pass\n",
    "\n",
    "                self.load_state_dict(model_state_dict, strict=False)\n",
    "\n",
    "                expected_keys = len([k for k in swin_original.state_dict().keys() if 'pooler' not in k and 'encoder.norm' not in k])\n",
    "                print(f\"Successfully loaded {loaded_count}/{expected_keys} tensors from pretrained Swin-Tiny.\")\n",
    "                print(\"   (Any unloaded tensors are expected to be from the decoder and final layers).\")\n",
    "\n",
    "            except Exception as e:\n",
    "                print(f\"ERROR: Could not load pretrained weights. Error: {e}. Training from scratch.\")\n",
    "\n",
    "    def forward(self, x: torch.Tensor) -> torch.Tensor:\n",
    "        s1_skip = self.patch_embed(x)[0]\n",
    "        s1_skip = self.pos_drop(s1_skip)\n",
    "        \n",
    "        s1_out = self.encoder_stage1(s1_skip, (self.img_size//4, self.img_size//4))\n",
    "        s2_in = self.merge1(s1_out, (self.img_size//4, self.img_size//4))\n",
    "        \n",
    "        s2_out = self.encoder_stage2(s2_in, (self.img_size//8, self.img_size//8))\n",
    "        s3_in = self.merge2(s2_out, (self.img_size//8, self.img_size//8))\n",
    "\n",
    "        s3_out = self.encoder_stage3(s3_in, (self.img_size//16, self.img_size//16))\n",
    "        b_in = self.merge3(s3_out, (self.img_size//16, self.img_size//16))\n",
    "        \n",
    "        b_out = self.bottleneck(b_in, (self.img_size//32, self.img_size//32))\n",
    "\n",
    "        d3_in = self.decoder_expand3(b_out)\n",
    "        d3_in = self.skip_attn3(query=d3_in, context=s3_out)\n",
    "        d3_out = self.decoder_stage3(d3_in, (self.img_size//16, self.img_size//16))\n",
    "\n",
    "        d2_in = self.decoder_expand2(d3_out)\n",
    "        d2_in = self.skip_attn2(query=d2_in, context=s2_out)\n",
    "        d2_out = self.decoder_stage2(d2_in, (self.img_size//8, self.img_size//8))\n",
    "\n",
    "        d1_in = self.decoder_expand1(d2_out)\n",
    "        d1_in = self.skip_attn1(query=d1_in, context=s1_out)\n",
    "        d1_out = self.decoder_stage1(d1_in, (self.img_size//4, self.img_size//4))\n",
    "        \n",
    "        final_features = self.final_expand(d1_out)\n",
    "        \n",
    "        B, L, C = final_features.shape\n",
    "        H = W = int(np.sqrt(L))\n",
    "        final_features = final_features.permute(0, 2, 1).contiguous().view(B, C, H, W)\n",
    "        \n",
    "        output = self.final_conv(final_features)\n",
    "        \n",
    "        return output"
   ]
  },
  {
   "cell_type": "code",
   "execution_count": 4,
   "id": "9d61888e",
   "metadata": {},
   "outputs": [],
   "source": [
    "\n",
    "class IoULoss(nn.Module):\n",
    "    def __init__(self, smooth=1e-6):\n",
    "        super(IoULoss, self).__init__()\n",
    "        self.smooth = smooth\n",
    "\n",
    "    def forward(self, inputs, targets):\n",
    "        # Mô hình trả về logits, cần đưa qua sigmoid để có xác suất trong khoảng (0, 1)\n",
    "        inputs = torch.sigmoid(inputs)\n",
    "        \n",
    "        # Làm phẳng inputs và targets để tính toán dễ dàng\n",
    "        inputs = inputs.view(-1)\n",
    "        targets = targets.view(-1)\n",
    "        \n",
    "        # Tính toán intersection (phần giao) và union (phần hợp)\n",
    "        intersection = (inputs * targets).sum()\n",
    "        total = (inputs + targets).sum()\n",
    "        union = total - intersection\n",
    "        \n",
    "        # Tính IoU, thêm smooth để tránh chia cho 0\n",
    "        iou = (intersection + self.smooth) / (union + self.smooth)\n",
    "        \n",
    "        # Loss là 1 - IoU, vì mục tiêu của chúng ta là tối đa hóa IoU\n",
    "        return 1 - iou\n",
    "\n",
    "class DiceLoss(nn.Module):\n",
    "    def __init__(self, smooth=1e-6):\n",
    "        super(DiceLoss, self).__init__()\n",
    "        self.smooth = smooth\n",
    "\n",
    "    def forward(self, inputs, targets):\n",
    "        # Mô hình trả về logits, cần đưa qua sigmoid để có xác suất trong khoảng (0, 1)\n",
    "        inputs = torch.sigmoid(inputs)\n",
    "        \n",
    "        # Làm phẳng inputs và targets để tính toán dễ dàng\n",
    "        inputs = inputs.view(-1)\n",
    "        targets = targets.view(-1)\n",
    "        \n",
    "        # Tính toán intersection\n",
    "        intersection = (inputs * targets).sum()\n",
    "        \n",
    "        # Tính Dice coefficient\n",
    "        dice = (2. * intersection + self.smooth) / (inputs.sum() + targets.sum() + self.smooth)\n",
    "        \n",
    "        # Loss là 1 - Dice, vì mục tiêu của chúng ta là tối đa hóa Dice\n",
    "        return 1 - dice\n",
    "\n",
    "\n",
    "def calculate_metrics(predicted_masks, true_masks, smooth=1e-6):\n",
    "    predicted_masks = predicted_masks.view(-1)\n",
    "    true_masks = true_masks.view(-1)\n",
    "    \n",
    "    intersection = (predicted_masks * true_masks).sum()\n",
    "    union = (predicted_masks + true_masks).sum() - intersection\n",
    "    \n",
    "    iou = (intersection + smooth) / (union + smooth)\n",
    "    dice = (2. * intersection + smooth) / (predicted_masks.sum() + true_masks.sum() + smooth)\n",
    "    \n",
    "    return iou.item(), dice.item()"
   ]
  },
  {
   "cell_type": "code",
   "execution_count": 5,
   "id": "e972aa3a",
   "metadata": {},
   "outputs": [],
   "source": [
    "def train_model(model, train_loader, val_loader, optimizer, criterion, scheduler, num_epochs, callbacks_config, start_epoch=0, best_val_iou=0.0, history=None):\n",
    "    best_iou = best_val_iou\n",
    "    patience_counter = 0\n",
    "    checkpoint_path = callbacks_config.get('checkpoint_path', 'model_best.pth')\n",
    "    \n",
    "    if history is None:\n",
    "        history = {'train_loss': [], 'val_loss': [], 'train_iou': [], 'val_iou': [], 'lr': []}\n",
    "\n",
    "    for epoch in range(start_epoch, num_epochs):\n",
    "        model.train()\n",
    "        train_loss, train_iou = 0.0, 0.0\n",
    "        \n",
    "        loop = tqdm(train_loader, desc=f\"Epoch {epoch+1}/{num_epochs} [Train]\")\n",
    "        for images, masks in loop:\n",
    "            images, masks = images.to(DEVICE), masks.to(DEVICE)\n",
    "            \n",
    "            optimizer.zero_grad()\n",
    "            outputs = model(images)\n",
    "            loss = criterion(outputs, masks)\n",
    "            loss.backward()\n",
    "            optimizer.step()\n",
    "\n",
    "            train_loss += loss.item()\n",
    "            predicted_masks = (torch.sigmoid(outputs) > 0.5).float()\n",
    "            \n",
    "            batch_iou, _ = calculate_metrics(predicted_masks, masks)\n",
    "            train_iou += batch_iou\n",
    "            \n",
    "            loop.set_postfix(loss=loss.item(), iou=batch_iou)\n",
    "\n",
    "        history['train_loss'].append(train_loss / len(train_loader))\n",
    "        history['train_iou'].append(train_iou / len(train_loader))\n",
    "        \n",
    "        model.eval()\n",
    "        val_loss, val_iou = 0.0, 0.0\n",
    "        \n",
    "        loop = tqdm(val_loader, desc=f\"Epoch {epoch+1}/{num_epochs} [Val]\")\n",
    "        with torch.no_grad():\n",
    "            for images, masks in loop:\n",
    "                images, masks = images.to(DEVICE), masks.to(DEVICE)\n",
    "                outputs = model(images)\n",
    "                loss = criterion(outputs, masks)\n",
    "                \n",
    "                val_loss += loss.item()\n",
    "                predicted_masks = (torch.sigmoid(outputs) > 0.5).float()\n",
    "                \n",
    "                batch_iou, _ = calculate_metrics(predicted_masks, masks)\n",
    "                val_iou += batch_iou\n",
    "\n",
    "        avg_val_loss = val_loss / len(val_loader)\n",
    "        avg_val_iou = val_iou / len(val_loader)\n",
    "        \n",
    "        history['val_loss'].append(avg_val_loss)\n",
    "        history['val_iou'].append(avg_val_iou)\n",
    "        \n",
    "        scheduler.step(avg_val_loss) # Sử dụng validation loss cho scheduler\n",
    "        current_lr = optimizer.param_groups[0]['lr']\n",
    "        history['lr'].append(current_lr)\n",
    "        \n",
    "        print(f\"Epoch {epoch+1} Summary:\")\n",
    "        print(f\"  Train -> Loss: {history['train_loss'][-1]:.4f}, IoU: {history['train_iou'][-1]:.4f}\")\n",
    "        print(f\"  Val   -> Loss: {avg_val_loss:.4f}, IoU: {avg_val_iou:.4f}\")\n",
    "        print(f\"  LR: {current_lr:.8f}\")\n",
    "\n",
    "        if avg_val_iou > best_iou:\n",
    "            best_iou = avg_val_iou\n",
    "            patience_counter = 0\n",
    "            print(f\"🚀 New best validation IoU: {best_iou:.4f}. Saving model...\")\n",
    "            torch.save({\n",
    "                'epoch': epoch,\n",
    "                'model_state_dict': model.state_dict(),\n",
    "                'optimizer_state_dict': optimizer.state_dict(),\n",
    "                'best_val_iou': best_iou,\n",
    "                'scheduler_state_dict': scheduler.state_dict(),\n",
    "                'history': history\n",
    "            }, checkpoint_path)\n",
    "        else:\n",
    "            patience_counter += 1\n",
    "            print(f\"Validation IoU did not improve. Patience: {patience_counter}/{callbacks_config['patience']}\")\n",
    "            if patience_counter >= callbacks_config['patience']:\n",
    "                print(\"Early stopping!\")\n",
    "                break\n",
    "    return history\n",
    "\n",
    "# --- Hàm vẽ biểu đồ (Đã chỉnh sửa chỉ dùng IoU) ---\n",
    "def plot_training_history(history):\n",
    "    epochs = range(1, len(history['train_loss']) + 1)\n",
    "    plt.style.use('seaborn-v0_8-whitegrid')\n",
    "    \n",
    "    # Sửa đổi: Tạo một hàng 3 cột cho 3 biểu đồ\n",
    "    fig, axs = plt.subplots(1, 3, figsize=(22, 6))\n",
    "\n",
    "    # Biểu đồ 1: Loss\n",
    "    axs[0].plot(epochs, history['train_loss'], 'o-', label='Train Loss')\n",
    "    axs[0].plot(epochs, history['val_loss'], 'o-', label='Validation Loss')\n",
    "    axs[0].set_title('Training and Validation Loss')\n",
    "    axs[0].set(xlabel='Epoch', ylabel='Loss')\n",
    "    axs[0].legend()\n",
    "\n",
    "    # Biểu đồ 2: IoU\n",
    "    axs[1].plot(epochs, history['train_iou'], 'o-', label='Train IoU')\n",
    "    axs[1].plot(epochs, history['val_iou'], 'o-', label='Validation IoU')\n",
    "    axs[1].set_title('Training and Validation IoU')\n",
    "    axs[1].set(xlabel='Epoch', ylabel='IoU')\n",
    "    axs[1].legend()\n",
    "\n",
    "    axs[2].plot(epochs, history['lr'], 'o-', label='Learning Rate', color='purple')\n",
    "    axs[2].set_title('Learning Rate per Epoch')\n",
    "    axs[2].set(xlabel='Epoch', ylabel='Learning Rate')\n",
    "    axs[2].legend()\n",
    "\n",
    "    plt.tight_layout()\n",
    "    plt.show()"
   ]
  },
  {
   "cell_type": "code",
   "execution_count": 6,
   "id": "f1a7aa1c",
   "metadata": {},
   "outputs": [],
   "source": [
    "from sklearn.metrics import precision_score, recall_score, f1_score, jaccard_score\n",
    "\n",
    "def evaluate_model(model, data_loader, threshold=0.5):\n",
    "    model.eval()\n",
    "    all_preds = []\n",
    "    all_targets = []\n",
    "\n",
    "    with torch.no_grad():\n",
    "        for images, masks in tqdm(data_loader, desc=\"Evaluating\"):\n",
    "            images = images.to(DEVICE)\n",
    "            masks = masks.to(DEVICE)\n",
    "\n",
    "            outputs = model(images)\n",
    "            preds = torch.sigmoid(outputs)\n",
    "\n",
    "            preds = (preds > threshold).float()\n",
    "\n",
    "            all_preds.append(preds.view(-1).cpu().numpy())\n",
    "            all_targets.append(masks.view(-1).cpu().numpy())\n",
    "\n",
    "    all_preds = np.concatenate(all_preds)\n",
    "    all_targets = np.concatenate(all_targets)\n",
    "\n",
    "    precision = precision_score(all_targets, all_preds, zero_division=0)\n",
    "    recall = recall_score(all_targets, all_preds, zero_division=0)\n",
    "    f1 = f1_score(all_targets, all_preds, zero_division=0)\n",
    "    iou = jaccard_score(all_targets, all_preds, zero_division=0)\n",
    "\n",
    "    print(f\"\\n--- Evaluation Metrics ---\")\n",
    "    print(f\"Precision: {precision:.4f}\")\n",
    "    print(f\"Recall:    {recall:.4f}\")\n",
    "    print(f\"F1-score:  {f1:.4f}\")\n",
    "    print(f\"IoU:       {iou:.4f}\")\n"
   ]
  },
  {
   "cell_type": "code",
   "execution_count": 7,
   "id": "573b2b66",
   "metadata": {},
   "outputs": [
    {
     "name": "stdout",
     "output_type": "stream",
     "text": [
      "Initializing iSwinUnet model (paper version)...\n",
      "Loading pretrained weights for Swin-Tiny encoder...\n",
      "✅ Successfully loaded 227/231 tensors from pretrained Swin-Tiny.\n",
      "   (Any unloaded tensors are expected to be from the decoder and final layers).\n",
      "==================================================\n",
      "!!! USING BCEWithLogitsLoss with pos_weight=30 !!!\n",
      "Model has 41,657,773 trainable parameters.\n",
      "==================================================\n",
      "Checkpoint 'iswin_unet_v2_diceloss.pth' found. Resuming training...\n"
     ]
    },
    {
     "name": "stderr",
     "output_type": "stream",
     "text": [
      "C:\\Users\\Admin\\AppData\\Local\\Temp\\ipykernel_9128\\3349666728.py:55: FutureWarning: You are using `torch.load` with `weights_only=False` (the current default value), which uses the default pickle module implicitly. It is possible to construct malicious pickle data which will execute arbitrary code during unpickling (See https://github.com/pytorch/pytorch/blob/main/SECURITY.md#untrusted-models for more details). In a future release, the default value for `weights_only` will be flipped to `True`. This limits the functions that could be executed during unpickling. Arbitrary objects will no longer be allowed to be loaded via this mode unless they are explicitly allowlisted by the user via `torch.serialization.add_safe_globals`. We recommend you start setting `weights_only=True` for any use case where you don't have full control of the loaded file. Please open an issue on GitHub for any issues related to this experimental feature.\n",
      "  checkpoint = torch.load(CHECKPOINT_PATH, map_location=DEVICE)\n"
     ]
    },
    {
     "name": "stdout",
     "output_type": "stream",
     "text": [
      "Resuming from Epoch 56 with Best Val IoU: 0.5169\n",
      "Loaded training history with 56 epochs.\n",
      "\n",
      "--- Starting Training ---\n"
     ]
    },
    {
     "name": "stderr",
     "output_type": "stream",
     "text": [
      "Epoch 57/200 [Train]: 100%|██████████| 750/750 [03:29<00:00,  3.59it/s, iou=0.913, loss=0.0457]\n",
      "Epoch 57/200 [Val]: 100%|██████████| 200/200 [00:22<00:00,  9.00it/s]\n"
     ]
    },
    {
     "name": "stdout",
     "output_type": "stream",
     "text": [
      "Epoch 57 Summary:\n",
      "  Train -> Loss: 0.2162, IoU: 0.6605\n",
      "  Val   -> Loss: 0.3365, IoU: 0.5154\n",
      "  LR: 0.00005000\n",
      "Validation IoU did not improve. Patience: 1/30\n"
     ]
    },
    {
     "name": "stderr",
     "output_type": "stream",
     "text": [
      "Epoch 58/200 [Train]: 100%|██████████| 750/750 [02:55<00:00,  4.28it/s, iou=0.487, loss=0.346] \n",
      "Epoch 58/200 [Val]: 100%|██████████| 200/200 [00:16<00:00, 12.21it/s]\n"
     ]
    },
    {
     "name": "stdout",
     "output_type": "stream",
     "text": [
      "Epoch 58 Summary:\n",
      "  Train -> Loss: 0.2149, IoU: 0.6615\n",
      "  Val   -> Loss: 0.3374, IoU: 0.5145\n",
      "  LR: 0.00005000\n",
      "Validation IoU did not improve. Patience: 2/30\n"
     ]
    },
    {
     "name": "stderr",
     "output_type": "stream",
     "text": [
      "Epoch 59/200 [Train]: 100%|██████████| 750/750 [03:23<00:00,  3.68it/s, iou=0.725, loss=0.159] \n",
      "Epoch 59/200 [Val]: 100%|██████████| 200/200 [00:15<00:00, 12.52it/s]\n"
     ]
    },
    {
     "name": "stdout",
     "output_type": "stream",
     "text": [
      "Epoch 59 Summary:\n",
      "  Train -> Loss: 0.2118, IoU: 0.6661\n",
      "  Val   -> Loss: 0.3388, IoU: 0.5130\n",
      "  LR: 0.00005000\n",
      "Validation IoU did not improve. Patience: 3/30\n"
     ]
    },
    {
     "name": "stderr",
     "output_type": "stream",
     "text": [
      "Epoch 60/200 [Train]: 100%|██████████| 750/750 [03:33<00:00,  3.51it/s, iou=0.615, loss=0.238] \n",
      "Epoch 60/200 [Val]: 100%|██████████| 200/200 [00:19<00:00, 10.45it/s]\n"
     ]
    },
    {
     "name": "stdout",
     "output_type": "stream",
     "text": [
      "Epoch 60 Summary:\n",
      "  Train -> Loss: 0.2145, IoU: 0.6632\n",
      "  Val   -> Loss: 0.3357, IoU: 0.5159\n",
      "  LR: 0.00002500\n",
      "Validation IoU did not improve. Patience: 4/30\n"
     ]
    },
    {
     "name": "stderr",
     "output_type": "stream",
     "text": [
      "Epoch 61/200 [Train]: 100%|██████████| 750/750 [03:27<00:00,  3.62it/s, iou=0.656, loss=0.207] \n",
      "Epoch 61/200 [Val]: 100%|██████████| 200/200 [00:17<00:00, 11.35it/s]\n"
     ]
    },
    {
     "name": "stdout",
     "output_type": "stream",
     "text": [
      "Epoch 61 Summary:\n",
      "  Train -> Loss: 0.2058, IoU: 0.6744\n",
      "  Val   -> Loss: 0.3325, IoU: 0.5196\n",
      "  LR: 0.00002500\n",
      "🚀 New best validation IoU: 0.5196. Saving model...\n"
     ]
    },
    {
     "name": "stderr",
     "output_type": "stream",
     "text": [
      "Epoch 62/200 [Train]: 100%|██████████| 750/750 [03:24<00:00,  3.67it/s, iou=0.672, loss=0.196] \n",
      "Epoch 62/200 [Val]: 100%|██████████| 200/200 [00:20<00:00,  9.56it/s]\n"
     ]
    },
    {
     "name": "stdout",
     "output_type": "stream",
     "text": [
      "Epoch 62 Summary:\n",
      "  Train -> Loss: 0.2031, IoU: 0.6772\n",
      "  Val   -> Loss: 0.3311, IoU: 0.5210\n",
      "  LR: 0.00002500\n",
      "🚀 New best validation IoU: 0.5210. Saving model...\n"
     ]
    },
    {
     "name": "stderr",
     "output_type": "stream",
     "text": [
      "Epoch 63/200 [Train]: 100%|██████████| 750/750 [03:55<00:00,  3.19it/s, iou=0.658, loss=0.206] \n",
      "Epoch 63/200 [Val]: 100%|██████████| 200/200 [00:19<00:00, 10.18it/s]\n"
     ]
    },
    {
     "name": "stdout",
     "output_type": "stream",
     "text": [
      "Epoch 63 Summary:\n",
      "  Train -> Loss: 0.2055, IoU: 0.6750\n",
      "  Val   -> Loss: 0.3358, IoU: 0.5162\n",
      "  LR: 0.00002500\n",
      "Validation IoU did not improve. Patience: 1/30\n"
     ]
    },
    {
     "name": "stderr",
     "output_type": "stream",
     "text": [
      "Epoch 64/200 [Train]: 100%|██████████| 750/750 [03:44<00:00,  3.34it/s, iou=0.722, loss=0.161] \n",
      "Epoch 64/200 [Val]: 100%|██████████| 200/200 [00:19<00:00, 10.04it/s]\n"
     ]
    },
    {
     "name": "stdout",
     "output_type": "stream",
     "text": [
      "Epoch 64 Summary:\n",
      "  Train -> Loss: 0.2033, IoU: 0.6771\n",
      "  Val   -> Loss: 0.3334, IoU: 0.5186\n",
      "  LR: 0.00002500\n",
      "Validation IoU did not improve. Patience: 2/30\n"
     ]
    },
    {
     "name": "stderr",
     "output_type": "stream",
     "text": [
      "Epoch 65/200 [Train]: 100%|██████████| 750/750 [03:39<00:00,  3.41it/s, iou=0.794, loss=0.115] \n",
      "Epoch 65/200 [Val]: 100%|██████████| 200/200 [00:20<00:00,  9.79it/s]\n"
     ]
    },
    {
     "name": "stdout",
     "output_type": "stream",
     "text": [
      "Epoch 65 Summary:\n",
      "  Train -> Loss: 0.2015, IoU: 0.6798\n",
      "  Val   -> Loss: 0.3349, IoU: 0.5171\n",
      "  LR: 0.00002500\n",
      "Validation IoU did not improve. Patience: 3/30\n"
     ]
    },
    {
     "name": "stderr",
     "output_type": "stream",
     "text": [
      "Epoch 66/200 [Train]: 100%|██████████| 750/750 [03:50<00:00,  3.25it/s, iou=0.48, loss=0.351]  \n",
      "Epoch 66/200 [Val]: 100%|██████████| 200/200 [00:19<00:00, 10.03it/s]\n"
     ]
    },
    {
     "name": "stdout",
     "output_type": "stream",
     "text": [
      "Epoch 66 Summary:\n",
      "  Train -> Loss: 0.2033, IoU: 0.6778\n",
      "  Val   -> Loss: 0.3342, IoU: 0.5180\n",
      "  LR: 0.00002500\n",
      "Validation IoU did not improve. Patience: 4/30\n"
     ]
    },
    {
     "name": "stderr",
     "output_type": "stream",
     "text": [
      "Epoch 67/200 [Train]: 100%|██████████| 750/750 [03:39<00:00,  3.42it/s, iou=0.648, loss=0.214] \n",
      "Epoch 67/200 [Val]: 100%|██████████| 200/200 [00:19<00:00, 10.22it/s]\n"
     ]
    },
    {
     "name": "stdout",
     "output_type": "stream",
     "text": [
      "Epoch 67 Summary:\n",
      "  Train -> Loss: 0.2019, IoU: 0.6799\n",
      "  Val   -> Loss: 0.3329, IoU: 0.5192\n",
      "  LR: 0.00002500\n",
      "Validation IoU did not improve. Patience: 5/30\n"
     ]
    },
    {
     "name": "stderr",
     "output_type": "stream",
     "text": [
      "Epoch 68/200 [Train]: 100%|██████████| 750/750 [03:45<00:00,  3.33it/s, iou=0.728, loss=0.157] \n",
      "Epoch 68/200 [Val]: 100%|██████████| 200/200 [00:20<00:00,  9.60it/s]\n"
     ]
    },
    {
     "name": "stdout",
     "output_type": "stream",
     "text": [
      "Epoch 68 Summary:\n",
      "  Train -> Loss: 0.2010, IoU: 0.6803\n",
      "  Val   -> Loss: 0.3315, IoU: 0.5204\n",
      "  LR: 0.00001250\n",
      "Validation IoU did not improve. Patience: 6/30\n"
     ]
    },
    {
     "name": "stderr",
     "output_type": "stream",
     "text": [
      "Epoch 69/200 [Train]: 100%|██████████| 750/750 [03:33<00:00,  3.52it/s, iou=0.716, loss=0.166] \n",
      "Epoch 69/200 [Val]: 100%|██████████| 200/200 [00:17<00:00, 11.16it/s]\n"
     ]
    },
    {
     "name": "stdout",
     "output_type": "stream",
     "text": [
      "Epoch 69 Summary:\n",
      "  Train -> Loss: 0.2009, IoU: 0.6813\n",
      "  Val   -> Loss: 0.3305, IoU: 0.5216\n",
      "  LR: 0.00001250\n",
      "🚀 New best validation IoU: 0.5216. Saving model...\n"
     ]
    },
    {
     "name": "stderr",
     "output_type": "stream",
     "text": [
      "Epoch 70/200 [Train]: 100%|██████████| 750/750 [03:23<00:00,  3.68it/s, iou=0.691, loss=0.183] \n",
      "Epoch 70/200 [Val]: 100%|██████████| 200/200 [00:19<00:00, 10.33it/s]\n"
     ]
    },
    {
     "name": "stdout",
     "output_type": "stream",
     "text": [
      "Epoch 70 Summary:\n",
      "  Train -> Loss: 0.1947, IoU: 0.6883\n",
      "  Val   -> Loss: 0.3307, IoU: 0.5216\n",
      "  LR: 0.00001250\n",
      "Validation IoU did not improve. Patience: 1/30\n"
     ]
    },
    {
     "name": "stderr",
     "output_type": "stream",
     "text": [
      "Epoch 71/200 [Train]: 100%|██████████| 750/750 [03:40<00:00,  3.40it/s, iou=0.614, loss=0.239] \n",
      "Epoch 71/200 [Val]: 100%|██████████| 200/200 [00:27<00:00,  7.25it/s]\n"
     ]
    },
    {
     "name": "stdout",
     "output_type": "stream",
     "text": [
      "Epoch 71 Summary:\n",
      "  Train -> Loss: 0.1958, IoU: 0.6883\n",
      "  Val   -> Loss: 0.3304, IoU: 0.5217\n",
      "  LR: 0.00001250\n",
      "🚀 New best validation IoU: 0.5217. Saving model...\n"
     ]
    },
    {
     "name": "stderr",
     "output_type": "stream",
     "text": [
      "Epoch 72/200 [Train]: 100%|██████████| 750/750 [03:54<00:00,  3.20it/s, iou=0.686, loss=0.187] \n",
      "Epoch 72/200 [Val]: 100%|██████████| 200/200 [00:20<00:00,  9.59it/s]\n"
     ]
    },
    {
     "name": "stdout",
     "output_type": "stream",
     "text": [
      "Epoch 72 Summary:\n",
      "  Train -> Loss: 0.1951, IoU: 0.6883\n",
      "  Val   -> Loss: 0.3299, IoU: 0.5221\n",
      "  LR: 0.00001250\n",
      "🚀 New best validation IoU: 0.5221. Saving model...\n"
     ]
    },
    {
     "name": "stderr",
     "output_type": "stream",
     "text": [
      "Epoch 73/200 [Train]: 100%|██████████| 750/750 [03:48<00:00,  3.28it/s, iou=0.861, loss=0.0746]\n",
      "Epoch 73/200 [Val]: 100%|██████████| 200/200 [00:20<00:00,  9.63it/s]\n"
     ]
    },
    {
     "name": "stdout",
     "output_type": "stream",
     "text": [
      "Epoch 73 Summary:\n",
      "  Train -> Loss: 0.1920, IoU: 0.6919\n",
      "  Val   -> Loss: 0.3297, IoU: 0.5221\n",
      "  LR: 0.00001250\n",
      "🚀 New best validation IoU: 0.5221. Saving model...\n"
     ]
    },
    {
     "name": "stderr",
     "output_type": "stream",
     "text": [
      "Epoch 74/200 [Train]: 100%|██████████| 750/750 [03:58<00:00,  3.15it/s, iou=0.776, loss=0.126] \n",
      "Epoch 74/200 [Val]: 100%|██████████| 200/200 [00:20<00:00,  9.91it/s]\n"
     ]
    },
    {
     "name": "stdout",
     "output_type": "stream",
     "text": [
      "Epoch 74 Summary:\n",
      "  Train -> Loss: 0.1881, IoU: 0.6972\n",
      "  Val   -> Loss: 0.3317, IoU: 0.5205\n",
      "  LR: 0.00001250\n",
      "Validation IoU did not improve. Patience: 1/30\n"
     ]
    },
    {
     "name": "stderr",
     "output_type": "stream",
     "text": [
      "Epoch 75/200 [Train]: 100%|██████████| 750/750 [03:45<00:00,  3.33it/s, iou=0.709, loss=0.17]  \n",
      "Epoch 75/200 [Val]: 100%|██████████| 200/200 [00:20<00:00,  9.97it/s]\n"
     ]
    },
    {
     "name": "stdout",
     "output_type": "stream",
     "text": [
      "Epoch 75 Summary:\n",
      "  Train -> Loss: 0.1944, IoU: 0.6896\n",
      "  Val   -> Loss: 0.3302, IoU: 0.5219\n",
      "  LR: 0.00001250\n",
      "Validation IoU did not improve. Patience: 2/30\n"
     ]
    },
    {
     "name": "stderr",
     "output_type": "stream",
     "text": [
      "Epoch 76/200 [Train]: 100%|██████████| 750/750 [03:45<00:00,  3.33it/s, iou=0.825, loss=0.0955]\n",
      "Epoch 76/200 [Val]: 100%|██████████| 200/200 [00:20<00:00,  9.68it/s]\n"
     ]
    },
    {
     "name": "stdout",
     "output_type": "stream",
     "text": [
      "Epoch 76 Summary:\n",
      "  Train -> Loss: 0.1893, IoU: 0.6961\n",
      "  Val   -> Loss: 0.3311, IoU: 0.5209\n",
      "  LR: 0.00001250\n",
      "Validation IoU did not improve. Patience: 3/30\n"
     ]
    },
    {
     "name": "stderr",
     "output_type": "stream",
     "text": [
      "Epoch 77/200 [Train]: 100%|██████████| 750/750 [03:19<00:00,  3.76it/s, iou=0.689, loss=0.184] \n",
      "Epoch 77/200 [Val]: 100%|██████████| 200/200 [00:17<00:00, 11.59it/s]\n"
     ]
    },
    {
     "name": "stdout",
     "output_type": "stream",
     "text": [
      "Epoch 77 Summary:\n",
      "  Train -> Loss: 0.1921, IoU: 0.6928\n",
      "  Val   -> Loss: 0.3295, IoU: 0.5224\n",
      "  LR: 0.00001250\n",
      "🚀 New best validation IoU: 0.5224. Saving model...\n"
     ]
    },
    {
     "name": "stderr",
     "output_type": "stream",
     "text": [
      "Epoch 78/200 [Train]: 100%|██████████| 750/750 [03:09<00:00,  3.97it/s, iou=0.77, loss=0.13]   \n",
      "Epoch 78/200 [Val]: 100%|██████████| 200/200 [00:15<00:00, 12.70it/s]\n"
     ]
    },
    {
     "name": "stdout",
     "output_type": "stream",
     "text": [
      "Epoch 78 Summary:\n",
      "  Train -> Loss: 0.1929, IoU: 0.6915\n",
      "  Val   -> Loss: 0.3306, IoU: 0.5214\n",
      "  LR: 0.00001250\n",
      "Validation IoU did not improve. Patience: 1/30\n"
     ]
    },
    {
     "name": "stderr",
     "output_type": "stream",
     "text": [
      "Epoch 79/200 [Train]: 100%|██████████| 750/750 [02:54<00:00,  4.31it/s, iou=0.762, loss=0.135] \n",
      "Epoch 79/200 [Val]: 100%|██████████| 200/200 [00:15<00:00, 12.74it/s]\n"
     ]
    },
    {
     "name": "stdout",
     "output_type": "stream",
     "text": [
      "Epoch 79 Summary:\n",
      "  Train -> Loss: 0.1945, IoU: 0.6899\n",
      "  Val   -> Loss: 0.3272, IoU: 0.5249\n",
      "  LR: 0.00001250\n",
      "🚀 New best validation IoU: 0.5249. Saving model...\n"
     ]
    },
    {
     "name": "stderr",
     "output_type": "stream",
     "text": [
      "Epoch 80/200 [Train]: 100%|██████████| 750/750 [02:53<00:00,  4.31it/s, iou=0.842, loss=0.086] \n",
      "Epoch 80/200 [Val]: 100%|██████████| 200/200 [00:15<00:00, 13.00it/s]\n"
     ]
    },
    {
     "name": "stdout",
     "output_type": "stream",
     "text": [
      "Epoch 80 Summary:\n",
      "  Train -> Loss: 0.1896, IoU: 0.6954\n",
      "  Val   -> Loss: 0.3292, IoU: 0.5231\n",
      "  LR: 0.00001250\n",
      "Validation IoU did not improve. Patience: 1/30\n"
     ]
    },
    {
     "name": "stderr",
     "output_type": "stream",
     "text": [
      "Epoch 81/200 [Train]: 100%|██████████| 750/750 [02:54<00:00,  4.29it/s, iou=0.768, loss=0.132] \n",
      "Epoch 81/200 [Val]: 100%|██████████| 200/200 [00:15<00:00, 12.93it/s]\n"
     ]
    },
    {
     "name": "stdout",
     "output_type": "stream",
     "text": [
      "Epoch 81 Summary:\n",
      "  Train -> Loss: 0.1898, IoU: 0.6958\n",
      "  Val   -> Loss: 0.3290, IoU: 0.5229\n",
      "  LR: 0.00001250\n",
      "Validation IoU did not improve. Patience: 2/30\n"
     ]
    },
    {
     "name": "stderr",
     "output_type": "stream",
     "text": [
      "Epoch 82/200 [Train]: 100%|██████████| 750/750 [03:00<00:00,  4.15it/s, iou=0.889, loss=0.0589]\n",
      "Epoch 82/200 [Val]: 100%|██████████| 200/200 [00:15<00:00, 12.99it/s]\n"
     ]
    },
    {
     "name": "stdout",
     "output_type": "stream",
     "text": [
      "Epoch 82 Summary:\n",
      "  Train -> Loss: 0.1862, IoU: 0.6999\n",
      "  Val   -> Loss: 0.3292, IoU: 0.5228\n",
      "  LR: 0.00001250\n",
      "Validation IoU did not improve. Patience: 3/30\n"
     ]
    },
    {
     "name": "stderr",
     "output_type": "stream",
     "text": [
      "Epoch 83/200 [Train]: 100%|██████████| 750/750 [02:53<00:00,  4.32it/s, iou=0.614, loss=0.24]  \n",
      "Epoch 83/200 [Val]: 100%|██████████| 200/200 [00:15<00:00, 12.99it/s]\n"
     ]
    },
    {
     "name": "stdout",
     "output_type": "stream",
     "text": [
      "Epoch 83 Summary:\n",
      "  Train -> Loss: 0.1939, IoU: 0.6914\n",
      "  Val   -> Loss: 0.3304, IoU: 0.5218\n",
      "  LR: 0.00001250\n",
      "Validation IoU did not improve. Patience: 4/30\n"
     ]
    },
    {
     "name": "stderr",
     "output_type": "stream",
     "text": [
      "Epoch 84/200 [Train]: 100%|██████████| 750/750 [02:53<00:00,  4.33it/s, iou=0.73, loss=0.157]  \n",
      "Epoch 84/200 [Val]: 100%|██████████| 200/200 [00:15<00:00, 13.27it/s]\n"
     ]
    },
    {
     "name": "stdout",
     "output_type": "stream",
     "text": [
      "Epoch 84 Summary:\n",
      "  Train -> Loss: 0.1865, IoU: 0.6995\n",
      "  Val   -> Loss: 0.3304, IoU: 0.5220\n",
      "  LR: 0.00001250\n",
      "Validation IoU did not improve. Patience: 5/30\n"
     ]
    },
    {
     "name": "stderr",
     "output_type": "stream",
     "text": [
      "Epoch 85/200 [Train]: 100%|██████████| 750/750 [02:52<00:00,  4.34it/s, iou=0.727, loss=0.158] \n",
      "Epoch 85/200 [Val]: 100%|██████████| 200/200 [00:15<00:00, 12.94it/s]\n"
     ]
    },
    {
     "name": "stdout",
     "output_type": "stream",
     "text": [
      "Epoch 85 Summary:\n",
      "  Train -> Loss: 0.1879, IoU: 0.6974\n",
      "  Val   -> Loss: 0.3303, IoU: 0.5218\n",
      "  LR: 0.00000625\n",
      "Validation IoU did not improve. Patience: 6/30\n"
     ]
    },
    {
     "name": "stderr",
     "output_type": "stream",
     "text": [
      "Epoch 86/200 [Train]: 100%|██████████| 750/750 [02:53<00:00,  4.32it/s, iou=0.801, loss=0.11]  \n",
      "Epoch 86/200 [Val]: 100%|██████████| 200/200 [00:15<00:00, 12.73it/s]\n"
     ]
    },
    {
     "name": "stdout",
     "output_type": "stream",
     "text": [
      "Epoch 86 Summary:\n",
      "  Train -> Loss: 0.1904, IoU: 0.6952\n",
      "  Val   -> Loss: 0.3282, IoU: 0.5241\n",
      "  LR: 0.00000625\n",
      "Validation IoU did not improve. Patience: 7/30\n"
     ]
    },
    {
     "name": "stderr",
     "output_type": "stream",
     "text": [
      "Epoch 87/200 [Train]: 100%|██████████| 750/750 [02:52<00:00,  4.34it/s, iou=0.879, loss=0.0639]\n",
      "Epoch 87/200 [Val]: 100%|██████████| 200/200 [00:15<00:00, 13.02it/s]\n"
     ]
    },
    {
     "name": "stdout",
     "output_type": "stream",
     "text": [
      "Epoch 87 Summary:\n",
      "  Train -> Loss: 0.1878, IoU: 0.6987\n",
      "  Val   -> Loss: 0.3288, IoU: 0.5236\n",
      "  LR: 0.00000625\n",
      "Validation IoU did not improve. Patience: 8/30\n"
     ]
    },
    {
     "name": "stderr",
     "output_type": "stream",
     "text": [
      "Epoch 88/200 [Train]: 100%|██████████| 750/750 [02:53<00:00,  4.32it/s, iou=0.806, loss=0.108] \n",
      "Epoch 88/200 [Val]: 100%|██████████| 200/200 [00:15<00:00, 13.00it/s]\n"
     ]
    },
    {
     "name": "stdout",
     "output_type": "stream",
     "text": [
      "Epoch 88 Summary:\n",
      "  Train -> Loss: 0.1862, IoU: 0.7004\n",
      "  Val   -> Loss: 0.3279, IoU: 0.5242\n",
      "  LR: 0.00000625\n",
      "Validation IoU did not improve. Patience: 9/30\n"
     ]
    },
    {
     "name": "stderr",
     "output_type": "stream",
     "text": [
      "Epoch 89/200 [Train]: 100%|██████████| 750/750 [02:53<00:00,  4.33it/s, iou=0.908, loss=0.0481]\n",
      "Epoch 89/200 [Val]: 100%|██████████| 200/200 [00:15<00:00, 13.13it/s]\n"
     ]
    },
    {
     "name": "stdout",
     "output_type": "stream",
     "text": [
      "Epoch 89 Summary:\n",
      "  Train -> Loss: 0.1850, IoU: 0.7017\n",
      "  Val   -> Loss: 0.3298, IoU: 0.5227\n",
      "  LR: 0.00000625\n",
      "Validation IoU did not improve. Patience: 10/30\n"
     ]
    },
    {
     "name": "stderr",
     "output_type": "stream",
     "text": [
      "Epoch 90/200 [Train]: 100%|██████████| 750/750 [02:52<00:00,  4.34it/s, iou=0.93, loss=0.036]  \n",
      "Epoch 90/200 [Val]: 100%|██████████| 200/200 [00:15<00:00, 13.31it/s]\n"
     ]
    },
    {
     "name": "stdout",
     "output_type": "stream",
     "text": [
      "Epoch 90 Summary:\n",
      "  Train -> Loss: 0.1824, IoU: 0.7046\n",
      "  Val   -> Loss: 0.3293, IoU: 0.5231\n",
      "  LR: 0.00000625\n",
      "Validation IoU did not improve. Patience: 11/30\n"
     ]
    },
    {
     "name": "stderr",
     "output_type": "stream",
     "text": [
      "Epoch 91/200 [Train]: 100%|██████████| 750/750 [02:52<00:00,  4.36it/s, iou=0.687, loss=0.186] \n",
      "Epoch 91/200 [Val]: 100%|██████████| 200/200 [00:15<00:00, 12.98it/s]\n"
     ]
    },
    {
     "name": "stdout",
     "output_type": "stream",
     "text": [
      "Epoch 91 Summary:\n",
      "  Train -> Loss: 0.1878, IoU: 0.6982\n",
      "  Val   -> Loss: 0.3279, IoU: 0.5241\n",
      "  LR: 0.00000313\n",
      "Validation IoU did not improve. Patience: 12/30\n"
     ]
    },
    {
     "name": "stderr",
     "output_type": "stream",
     "text": [
      "Epoch 92/200 [Train]: 100%|██████████| 750/750 [02:52<00:00,  4.34it/s, iou=0.621, loss=0.234] \n",
      "Epoch 92/200 [Val]: 100%|██████████| 200/200 [00:15<00:00, 12.79it/s]\n"
     ]
    },
    {
     "name": "stdout",
     "output_type": "stream",
     "text": [
      "Epoch 92 Summary:\n",
      "  Train -> Loss: 0.1881, IoU: 0.6986\n",
      "  Val   -> Loss: 0.3286, IoU: 0.5235\n",
      "  LR: 0.00000313\n",
      "Validation IoU did not improve. Patience: 13/30\n"
     ]
    },
    {
     "name": "stderr",
     "output_type": "stream",
     "text": [
      "Epoch 93/200 [Train]: 100%|██████████| 750/750 [02:52<00:00,  4.36it/s, iou=0.742, loss=0.148] \n",
      "Epoch 93/200 [Val]: 100%|██████████| 200/200 [00:15<00:00, 13.00it/s]\n"
     ]
    },
    {
     "name": "stdout",
     "output_type": "stream",
     "text": [
      "Epoch 93 Summary:\n",
      "  Train -> Loss: 0.1848, IoU: 0.7020\n",
      "  Val   -> Loss: 0.3294, IoU: 0.5230\n",
      "  LR: 0.00000313\n",
      "Validation IoU did not improve. Patience: 14/30\n"
     ]
    },
    {
     "name": "stderr",
     "output_type": "stream",
     "text": [
      "Epoch 94/200 [Train]: 100%|██████████| 750/750 [02:53<00:00,  4.32it/s, iou=0.784, loss=0.121] \n",
      "Epoch 94/200 [Val]: 100%|██████████| 200/200 [00:15<00:00, 13.02it/s]\n"
     ]
    },
    {
     "name": "stdout",
     "output_type": "stream",
     "text": [
      "Epoch 94 Summary:\n",
      "  Train -> Loss: 0.1782, IoU: 0.7100\n",
      "  Val   -> Loss: 0.3294, IoU: 0.5230\n",
      "  LR: 0.00000313\n",
      "Validation IoU did not improve. Patience: 15/30\n"
     ]
    },
    {
     "name": "stderr",
     "output_type": "stream",
     "text": [
      "Epoch 95/200 [Train]: 100%|██████████| 750/750 [02:53<00:00,  4.32it/s, iou=0.809, loss=0.106] \n",
      "Epoch 95/200 [Val]: 100%|██████████| 200/200 [00:15<00:00, 12.96it/s]\n"
     ]
    },
    {
     "name": "stdout",
     "output_type": "stream",
     "text": [
      "Epoch 95 Summary:\n",
      "  Train -> Loss: 0.1843, IoU: 0.7035\n",
      "  Val   -> Loss: 0.3287, IoU: 0.5235\n",
      "  LR: 0.00000313\n",
      "Validation IoU did not improve. Patience: 16/30\n"
     ]
    },
    {
     "name": "stderr",
     "output_type": "stream",
     "text": [
      "Epoch 96/200 [Train]: 100%|██████████| 750/750 [02:53<00:00,  4.31it/s, iou=0.825, loss=0.0959]\n",
      "Epoch 96/200 [Val]: 100%|██████████| 200/200 [00:15<00:00, 13.00it/s]\n"
     ]
    },
    {
     "name": "stdout",
     "output_type": "stream",
     "text": [
      "Epoch 96 Summary:\n",
      "  Train -> Loss: 0.1834, IoU: 0.7041\n",
      "  Val   -> Loss: 0.3289, IoU: 0.5234\n",
      "  LR: 0.00000313\n",
      "Validation IoU did not improve. Patience: 17/30\n"
     ]
    },
    {
     "name": "stderr",
     "output_type": "stream",
     "text": [
      "Epoch 97/200 [Train]: 100%|██████████| 750/750 [02:53<00:00,  4.32it/s, iou=0.87, loss=0.0695] \n",
      "Epoch 97/200 [Val]: 100%|██████████| 200/200 [00:15<00:00, 12.90it/s]\n"
     ]
    },
    {
     "name": "stdout",
     "output_type": "stream",
     "text": [
      "Epoch 97 Summary:\n",
      "  Train -> Loss: 0.1793, IoU: 0.7089\n",
      "  Val   -> Loss: 0.3297, IoU: 0.5227\n",
      "  LR: 0.00000156\n",
      "Validation IoU did not improve. Patience: 18/30\n"
     ]
    },
    {
     "name": "stderr",
     "output_type": "stream",
     "text": [
      "Epoch 98/200 [Train]: 100%|██████████| 750/750 [02:53<00:00,  4.32it/s, iou=0.658, loss=0.207] \n",
      "Epoch 98/200 [Val]: 100%|██████████| 200/200 [00:15<00:00, 12.66it/s]\n"
     ]
    },
    {
     "name": "stdout",
     "output_type": "stream",
     "text": [
      "Epoch 98 Summary:\n",
      "  Train -> Loss: 0.1808, IoU: 0.7072\n",
      "  Val   -> Loss: 0.3299, IoU: 0.5224\n",
      "  LR: 0.00000156\n",
      "Validation IoU did not improve. Patience: 19/30\n"
     ]
    },
    {
     "name": "stderr",
     "output_type": "stream",
     "text": [
      "Epoch 99/200 [Train]: 100%|██████████| 750/750 [02:53<00:00,  4.31it/s, iou=0.818, loss=0.1]   \n",
      "Epoch 99/200 [Val]: 100%|██████████| 200/200 [00:15<00:00, 12.82it/s]\n"
     ]
    },
    {
     "name": "stdout",
     "output_type": "stream",
     "text": [
      "Epoch 99 Summary:\n",
      "  Train -> Loss: 0.1777, IoU: 0.7109\n",
      "  Val   -> Loss: 0.3296, IoU: 0.5227\n",
      "  LR: 0.00000156\n",
      "Validation IoU did not improve. Patience: 20/30\n"
     ]
    },
    {
     "name": "stderr",
     "output_type": "stream",
     "text": [
      "Epoch 100/200 [Train]: 100%|██████████| 750/750 [02:53<00:00,  4.33it/s, iou=0.869, loss=0.0704]\n",
      "Epoch 100/200 [Val]: 100%|██████████| 200/200 [00:15<00:00, 13.01it/s]\n"
     ]
    },
    {
     "name": "stdout",
     "output_type": "stream",
     "text": [
      "Epoch 100 Summary:\n",
      "  Train -> Loss: 0.1829, IoU: 0.7051\n",
      "  Val   -> Loss: 0.3300, IoU: 0.5224\n",
      "  LR: 0.00000156\n",
      "Validation IoU did not improve. Patience: 21/30\n"
     ]
    },
    {
     "name": "stderr",
     "output_type": "stream",
     "text": [
      "Epoch 101/200 [Train]: 100%|██████████| 750/750 [02:53<00:00,  4.31it/s, iou=0.762, loss=0.136] \n",
      "Epoch 101/200 [Val]: 100%|██████████| 200/200 [00:15<00:00, 13.06it/s]\n"
     ]
    },
    {
     "name": "stdout",
     "output_type": "stream",
     "text": [
      "Epoch 101 Summary:\n",
      "  Train -> Loss: 0.1798, IoU: 0.7091\n",
      "  Val   -> Loss: 0.3294, IoU: 0.5229\n",
      "  LR: 0.00000156\n",
      "Validation IoU did not improve. Patience: 22/30\n"
     ]
    },
    {
     "name": "stderr",
     "output_type": "stream",
     "text": [
      "Epoch 102/200 [Train]: 100%|██████████| 750/750 [02:53<00:00,  4.32it/s, iou=0.709, loss=0.171] \n",
      "Epoch 102/200 [Val]: 100%|██████████| 200/200 [00:15<00:00, 12.95it/s]\n"
     ]
    },
    {
     "name": "stdout",
     "output_type": "stream",
     "text": [
      "Epoch 102 Summary:\n",
      "  Train -> Loss: 0.1836, IoU: 0.7046\n",
      "  Val   -> Loss: 0.3295, IoU: 0.5228\n",
      "  LR: 0.00000156\n",
      "Validation IoU did not improve. Patience: 23/30\n"
     ]
    },
    {
     "name": "stderr",
     "output_type": "stream",
     "text": [
      "Epoch 103/200 [Train]: 100%|██████████| 750/750 [02:54<00:00,  4.31it/s, iou=0.887, loss=0.0599]\n",
      "Epoch 103/200 [Val]: 100%|██████████| 200/200 [00:15<00:00, 12.95it/s]\n"
     ]
    },
    {
     "name": "stdout",
     "output_type": "stream",
     "text": [
      "Epoch 103 Summary:\n",
      "  Train -> Loss: 0.1834, IoU: 0.7053\n",
      "  Val   -> Loss: 0.3291, IoU: 0.5232\n",
      "  LR: 0.00000078\n",
      "Validation IoU did not improve. Patience: 24/30\n"
     ]
    },
    {
     "name": "stderr",
     "output_type": "stream",
     "text": [
      "Epoch 104/200 [Train]: 100%|██████████| 750/750 [02:53<00:00,  4.32it/s, iou=0.602, loss=0.25]  \n",
      "Epoch 104/200 [Val]: 100%|██████████| 200/200 [00:15<00:00, 13.06it/s]\n"
     ]
    },
    {
     "name": "stdout",
     "output_type": "stream",
     "text": [
      "Epoch 104 Summary:\n",
      "  Train -> Loss: 0.1797, IoU: 0.7091\n",
      "  Val   -> Loss: 0.3294, IoU: 0.5229\n",
      "  LR: 0.00000078\n",
      "Validation IoU did not improve. Patience: 25/30\n"
     ]
    },
    {
     "name": "stderr",
     "output_type": "stream",
     "text": [
      "Epoch 105/200 [Train]: 100%|██████████| 750/750 [02:53<00:00,  4.32it/s, iou=0.448, loss=0.381] \n",
      "Epoch 105/200 [Val]: 100%|██████████| 200/200 [00:15<00:00, 12.79it/s]\n"
     ]
    },
    {
     "name": "stdout",
     "output_type": "stream",
     "text": [
      "Epoch 105 Summary:\n",
      "  Train -> Loss: 0.1839, IoU: 0.7036\n",
      "  Val   -> Loss: 0.3292, IoU: 0.5230\n",
      "  LR: 0.00000078\n",
      "Validation IoU did not improve. Patience: 26/30\n"
     ]
    },
    {
     "name": "stderr",
     "output_type": "stream",
     "text": [
      "Epoch 106/200 [Train]: 100%|██████████| 750/750 [02:53<00:00,  4.31it/s, iou=0.816, loss=0.102] \n",
      "Epoch 106/200 [Val]: 100%|██████████| 200/200 [00:15<00:00, 13.00it/s]\n"
     ]
    },
    {
     "name": "stdout",
     "output_type": "stream",
     "text": [
      "Epoch 106 Summary:\n",
      "  Train -> Loss: 0.1819, IoU: 0.7063\n",
      "  Val   -> Loss: 0.3294, IoU: 0.5229\n",
      "  LR: 0.00000078\n",
      "Validation IoU did not improve. Patience: 27/30\n"
     ]
    },
    {
     "name": "stderr",
     "output_type": "stream",
     "text": [
      "Epoch 107/200 [Train]: 100%|██████████| 750/750 [02:54<00:00,  4.30it/s, iou=0.876, loss=0.0662]\n",
      "Epoch 107/200 [Val]: 100%|██████████| 200/200 [00:15<00:00, 12.85it/s]\n"
     ]
    },
    {
     "name": "stdout",
     "output_type": "stream",
     "text": [
      "Epoch 107 Summary:\n",
      "  Train -> Loss: 0.1787, IoU: 0.7104\n",
      "  Val   -> Loss: 0.3297, IoU: 0.5226\n",
      "  LR: 0.00000078\n",
      "Validation IoU did not improve. Patience: 28/30\n"
     ]
    },
    {
     "name": "stderr",
     "output_type": "stream",
     "text": [
      "Epoch 108/200 [Train]: 100%|██████████| 750/750 [02:53<00:00,  4.31it/s, iou=0.426, loss=0.403] \n",
      "Epoch 108/200 [Val]: 100%|██████████| 200/200 [00:15<00:00, 12.90it/s]\n"
     ]
    },
    {
     "name": "stdout",
     "output_type": "stream",
     "text": [
      "Epoch 108 Summary:\n",
      "  Train -> Loss: 0.1814, IoU: 0.7069\n",
      "  Val   -> Loss: 0.3296, IoU: 0.5227\n",
      "  LR: 0.00000078\n",
      "Validation IoU did not improve. Patience: 29/30\n"
     ]
    },
    {
     "name": "stderr",
     "output_type": "stream",
     "text": [
      "Epoch 109/200 [Train]: 100%|██████████| 750/750 [02:53<00:00,  4.32it/s, iou=0.746, loss=0.146] \n",
      "Epoch 109/200 [Val]: 100%|██████████| 200/200 [00:15<00:00, 13.04it/s]\n"
     ]
    },
    {
     "name": "stdout",
     "output_type": "stream",
     "text": [
      "Epoch 109 Summary:\n",
      "  Train -> Loss: 0.1793, IoU: 0.7097\n",
      "  Val   -> Loss: 0.3295, IoU: 0.5227\n",
      "  LR: 0.00000039\n",
      "Validation IoU did not improve. Patience: 30/30\n",
      "Early stopping!\n",
      "\n",
      "--- Training complete. ---\n",
      "Plotting training history...\n"
     ]
    },
    {
     "data": {
      "image/png": "[encoded data removed]",
      "text/plain": [
       "<Figure size 2200x600 with 3 Axes>"
      ]
     },
     "metadata": {},
     "output_type": "display_data"
    },
    {
     "name": "stdout",
     "output_type": "stream",
     "text": [
      "\n",
      "--- Evaluating the best model on the validation set ---\n"
     ]
    },
    {
     "name": "stderr",
     "output_type": "stream",
     "text": [
      "C:\\Users\\Admin\\AppData\\Local\\Temp\\ipykernel_9128\\3349666728.py:99: FutureWarning: You are using `torch.load` with `weights_only=False` (the current default value), which uses the default pickle module implicitly. It is possible to construct malicious pickle data which will execute arbitrary code during unpickling (See https://github.com/pytorch/pytorch/blob/main/SECURITY.md#untrusted-models for more details). In a future release, the default value for `weights_only` will be flipped to `True`. This limits the functions that could be executed during unpickling. Arbitrary objects will no longer be allowed to be loaded via this mode unless they are explicitly allowlisted by the user via `torch.serialization.add_safe_globals`. We recommend you start setting `weights_only=True` for any use case where you don't have full control of the loaded file. Please open an issue on GitHub for any issues related to this experimental feature.\n",
      "  model.load_state_dict(torch.load(CHECKPOINT_PATH)['model_state_dict'])\n",
      "Evaluating: 100%|██████████| 200/200 [00:15<00:00, 12.86it/s]\n"
     ]
    },
    {
     "name": "stdout",
     "output_type": "stream",
     "text": [
      "\n",
      "--- Evaluation Metrics ---\n",
      "Precision: 0.7207\n",
      "Recall:    0.7486\n",
      "F1-score:  0.7344\n",
      "IoU:       0.5802\n"
     ]
    }
   ],
   "source": [
    "if __name__ == '__main__':\n",
    "    # --- Chuẩn bị dữ liệu ---\n",
    "    train_img_paths = sorted([os.path.join(train_img_dir, f) for f in os.listdir(train_img_dir)])\n",
    "    train_mask_paths = sorted([os.path.join(train_mask_dir, f) for f in os.listdir(train_mask_dir)])\n",
    "    val_img_paths = sorted([os.path.join(val_img_dir, f) for f in os.listdir(val_img_dir)])\n",
    "    val_mask_paths = sorted([os.path.join(val_mask_dir, f) for f in os.listdir(val_mask_dir)])\n",
    "\n",
    "    train_transform = A.Compose([\n",
    "        A.Resize(IMG_SIZE, IMG_SIZE),\n",
    "        A.HorizontalFlip(p=0.5), A.VerticalFlip(p=0.5), A.RandomRotate90(p=0.5),\n",
    "        A.ColorJitter(p=0.2),\n",
    "        A.Normalize(mean=(0.485, 0.456, 0.406), std=(0.229, 0.224, 0.225)),\n",
    "        ToTensorV2(),\n",
    "    ])\n",
    "\n",
    "    val_transform = A.Compose([\n",
    "        A.Resize(IMG_SIZE, IMG_SIZE),\n",
    "        A.Normalize(mean=(0.485, 0.456, 0.406), std=(0.229, 0.224, 0.225)),\n",
    "        ToTensorV2(),\n",
    "    ])\n",
    "\n",
    "    train_dataset = CrackDetectionDataset(train_img_paths, train_mask_paths, transform=train_transform)\n",
    "    val_dataset = CrackDetectionDataset(val_img_paths, val_mask_paths, transform=val_transform)\n",
    "\n",
    "    train_loader = DataLoader(train_dataset, batch_size=BATCH_SIZE, shuffle=True, num_workers=0, pin_memory=True)\n",
    "    val_loader = DataLoader(val_dataset, batch_size=BATCH_SIZE, shuffle=False, num_workers=0, pin_memory=True)\n",
    "\n",
    "    # --- Khởi tạo Model, Optimizer, Loss ---\n",
    "    print(\"Initializing iSwinUnet model (paper version)...\")\n",
    "    model = iSwinUnet(num_classes=1, img_size=IMG_SIZE, pretrained=True).to(DEVICE)\n",
    "    \n",
    "    optimizer = torch.optim.AdamW(model.parameters(), lr=LEARNING_RATE, weight_decay=1e-3)\n",
    "    scheduler = torch.optim.lr_scheduler.ReduceLROnPlateau(optimizer, mode='min', factor=0.5, patience=5, min_lr=1e-7)\n",
    "    \n",
    "    pos_weight_value = 30\n",
    "    criterion = DiceLoss()\n",
    "    \n",
    "    print(\"=\"*50)\n",
    "    print(f\"!!! USING BCEWithLogitsLoss with pos_weight={pos_weight_value} !!!\")\n",
    "    print(f\"Model has {sum(p.numel() for p in model.parameters() if p.requires_grad):,} trainable parameters.\")\n",
    "    print(\"=\"*50)\n",
    "\n",
    "    CHECKPOINT_PATH = 'iswin_unet_v2_diceloss.pth'\n",
    "    \n",
    "    callbacks_config = {'patience': 30, 'checkpoint_path': CHECKPOINT_PATH}\n",
    "\n",
    "    # Khởi tạo các biến trạng thái\n",
    "    start_epoch = 0\n",
    "    best_val_iou = 0.0\n",
    "    history = None\n",
    "    \n",
    "    # Logic để tải checkpoint và huấn luyện tiếp (resume training)\n",
    "    if os.path.exists(CHECKPOINT_PATH):\n",
    "        print(f\"Checkpoint '{CHECKPOINT_PATH}' found. Resuming training...\")\n",
    "        checkpoint = torch.load(CHECKPOINT_PATH, map_location=DEVICE)\n",
    "        \n",
    "        # Tải trạng thái của model\n",
    "        model.load_state_dict(checkpoint['model_state_dict'])\n",
    "        \n",
    "        # Tải trạng thái của optimizer\n",
    "        optimizer.load_state_dict(checkpoint['optimizer_state_dict'])\n",
    "        \n",
    "        # Tải trạng thái của scheduler (nếu có)\n",
    "        if 'scheduler_state_dict' in checkpoint:\n",
    "            scheduler.load_state_dict(checkpoint['scheduler_state_dict'])\n",
    "\n",
    "        # Khôi phục các biến số của quá trình huấn luyện\n",
    "        start_epoch = checkpoint['epoch'] + 1\n",
    "        # Dùng .get() để tương thích ngược với checkpoint cũ có thể chưa lưu các giá trị này\n",
    "        best_val_iou = checkpoint.get('best_val_iou', 0.0) \n",
    "        history = checkpoint.get('history', None)\n",
    "        \n",
    "        model.to(DEVICE) # Đảm bảo model vẫn trên đúng device\n",
    "        \n",
    "        print(f\"Resuming from Epoch {start_epoch} with Best Val IoU: {best_val_iou:.4f}\")\n",
    "        if history:\n",
    "            print(f\"Loaded training history with {len(history['train_loss'])} epochs.\")\n",
    "\n",
    "    else:\n",
    "        print(f\"Warning: Checkpoint '{CHECKPOINT_PATH}' not found. Starting training from scratch.\")\n",
    "\n",
    "    # --- Bắt đầu Huấn luyện ---\n",
    "    print(f\"\\n--- Starting Training ---\")\n",
    "    training_history = train_model(\n",
    "        model, train_loader, val_loader, optimizer, criterion, scheduler,\n",
    "        num_epochs=NUM_EPOCHS, callbacks_config=callbacks_config,\n",
    "        start_epoch=start_epoch, best_val_iou=best_val_iou, history=history\n",
    "    )\n",
    "    \n",
    "    print(\"\\n--- Training complete. ---\")\n",
    "\n",
    "    # --- Vẽ biểu đồ và Đánh giá ---\n",
    "    if training_history and len(training_history['train_loss']) > 0:\n",
    "        print(\"Plotting training history...\")\n",
    "        plot_training_history(training_history)\n",
    "        \n",
    "        # Đánh giá trên tập validation với mô hình tốt nhất đã lưu\n",
    "        print(\"\\n--- Evaluating the best model on the validation set ---\")\n",
    "        model.load_state_dict(torch.load(CHECKPOINT_PATH)['model_state_dict'])\n",
    "        evaluate_model(model, val_loader, threshold=0.5)\n",
    "    else:\n",
    "        print(\"No training history available to plot.\")"
   ]
  },
  {
   "cell_type": "code",
   "execution_count": 8,
   "id": "e6e31347",
   "metadata": {},
   "outputs": [
    {
     "name": "stderr",
     "output_type": "stream",
     "text": [
      "Collecting predictions: 100%|██████████| 200/200 [00:15<00:00, 12.79it/s]\n"
     ]
    },
    {
     "name": "stdout",
     "output_type": "stream",
     "text": [
      "\n",
      "=== Threshold Tốt Nhất ===\n",
      "[F1]  Best at threshold = 0.72 | F1 = 0.7344\n",
      "[IoU] Best at threshold = 0.72 | IoU = 0.5803\n"
     ]
    }
   ],
   "source": [
    "thresholds = np.arange(0.65, 1, 0.005)\n",
    "all_preds_raw = []\n",
    "all_targets = []\n",
    "\n",
    "model.eval()\n",
    "with torch.no_grad():\n",
    "    for images, masks in tqdm(val_loader, desc=\"Collecting predictions\"):\n",
    "        images = images.to(DEVICE)\n",
    "        masks = masks.to(DEVICE)\n",
    "\n",
    "        outputs = model(images)\n",
    "        probs = torch.sigmoid(outputs)\n",
    "\n",
    "        all_preds_raw.append(probs.view(-1).cpu().numpy())\n",
    "        all_targets.append(masks.view(-1).cpu().numpy())\n",
    "\n",
    "all_preds_raw = np.concatenate(all_preds_raw)\n",
    "all_targets = np.concatenate(all_targets)\n",
    "\n",
    "metrics = {'threshold': [], 'precision': [], 'recall': [], 'f1': [], 'iou': []}\n",
    "\n",
    "for t in thresholds:\n",
    "    preds_bin = (all_preds_raw > t).astype(np.uint8)\n",
    "\n",
    "    precision = precision_score(all_targets, preds_bin, zero_division=0)\n",
    "    recall = recall_score(all_targets, preds_bin, zero_division=0)\n",
    "    f1 = f1_score(all_targets, preds_bin, zero_division=0)\n",
    "    iou = jaccard_score(all_targets, preds_bin, zero_division=0)\n",
    "\n",
    "    metrics['threshold'].append(t)\n",
    "    metrics['precision'].append(precision)\n",
    "    metrics['recall'].append(recall)\n",
    "    metrics['f1'].append(f1)\n",
    "    metrics['iou'].append(iou)\n",
    "\n",
    "best_f1_idx = int(np.argmax(metrics['f1']))\n",
    "best_iou_idx = int(np.argmax(metrics['iou']))\n",
    "\n",
    "print(\"\\n=== Threshold Tốt Nhất ===\")\n",
    "print(f\"[F1]  Best at threshold = {metrics['threshold'][best_f1_idx]:.2f} | F1 = {metrics['f1'][best_f1_idx]:.4f}\")\n",
    "print(f\"[IoU] Best at threshold = {metrics['threshold'][best_iou_idx]:.2f} | IoU = {metrics['iou'][best_iou_idx]:.4f}\")"
   ]
  },
  {
   "cell_type": "code",
   "execution_count": 9,
   "id": "12493c6d",
   "metadata": {},
   "outputs": [
    {
     "data": {
      "image/png": "[encoded data removed]",
      "text/plain": [
       "<Figure size 2500x1600 with 1 Axes>"
      ]
     },
     "metadata": {},
     "output_type": "display_data"
    }
   ],
   "source": [
    "x = [round(t, 2) for t in metrics['threshold']]\n",
    "x_idx = np.arange(len(x))\n",
    "width = 0.15\n",
    "\n",
    "plt.figure(figsize=(25, 16))\n",
    "plt.bar(x_idx - width, metrics['precision'], width=width, label='Precision')\n",
    "plt.bar(x_idx, metrics['f1'], width=width, label='F1-score')\n",
    "plt.bar(x_idx + width, metrics['iou'], width=width, label='IoU')\n",
    "\n",
    "plt.xticks(x_idx, x)\n",
    "plt.xlabel('Threshold')\n",
    "plt.ylabel('Score')\n",
    "plt.title('Segmentation Metrics at Different Thresholds')\n",
    "plt.legend()\n",
    "plt.grid(True, linestyle='--', alpha=0.5)\n",
    "plt.tight_layout()\n",
    "plt.show()"
   ]
  }
 ],
 "metadata": {
  "kernelspec": {
   "display_name": "tf",
   "language": "python",
   "name": "python3"
  },
  "language_info": {
   "codemirror_mode": {
    "name": "ipython",
    "version": 3
   },
   "file_extension": ".py",
   "mimetype": "text/x-python",
   "name": "python",
   "nbconvert_exporter": "python",
   "pygments_lexer": "ipython3",
   "version": "3.10.18"
  }
 },
 "nbformat": 4,
 "nbformat_minor": 5
}
