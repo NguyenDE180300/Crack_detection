{
 "cells": [
  {
   "cell_type": "code",
   "execution_count": 1,
   "id": "3fbbc088",
   "metadata": {},
   "outputs": [
    {
     "name": "stderr",
     "output_type": "stream",
     "text": [
      "c:\\Users\\Admin\\anaconda3\\envs\\tf\\lib\\site-packages\\tqdm\\auto.py:21: TqdmWarning: IProgress not found. Please update jupyter and ipywidgets. See https://ipywidgets.readthedocs.io/en/stable/user_install.html\n",
      "  from .autonotebook import tqdm as notebook_tqdm\n"
     ]
    },
    {
     "name": "stdout",
     "output_type": "stream",
     "text": [
      "WARNING:tensorflow:From c:\\Users\\Admin\\anaconda3\\envs\\tf\\lib\\site-packages\\keras\\src\\losses.py:2976: The name tf.losses.sparse_softmax_cross_entropy is deprecated. Please use tf.compat.v1.losses.sparse_softmax_cross_entropy instead.\n",
      "\n",
      "Using device: cuda\n"
     ]
    }
   ],
   "source": [
    "import os\n",
    "import numpy as np\n",
    "import cv2\n",
    "import random\n",
    "import matplotlib.pyplot as plt\n",
    "\n",
    "import torch\n",
    "import torch.nn as nn\n",
    "import torch.nn.functional as F\n",
    "from torch.utils.data import Dataset, DataLoader\n",
    "from transformers import SwinModel\n",
    "from transformers.models.swin.modeling_swin import SwinLayer\n",
    "\n",
    "import albumentations as A\n",
    "from albumentations.pytorch import ToTensorV2\n",
    "from tqdm import tqdm\n",
    "\n",
    "import torch\n",
    "import torch.nn as nn\n",
    "from transformers.models.swin.modeling_swin import SwinPatchEmbeddings, SwinPatchMerging, SwinLayer\n",
    "from transformers import SwinConfig\n",
    "from typing import Tuple, Optional\n",
    "# --- Cài đặt tham số cố định ---\n",
    "IMG_SIZE = 320 \n",
    "NUM_EPOCHS = 200\n",
    "LEARNING_RATE = 1e-4\n",
    "SEED = 42\n",
    "BATCH_SIZE = 2\n",
    "def set_seed(seed=42):\n",
    "    np.random.seed(seed)\n",
    "    random.seed(seed)\n",
    "    torch.manual_seed(seed)\n",
    "    if torch.cuda.is_available():\n",
    "        torch.cuda.manual_seed(seed)\n",
    "        torch.cuda.manual_seed_all(seed)\n",
    "        torch.backends.cudnn.deterministic = True\n",
    "        torch.backends.cudnn.benchmark = False\n",
    "\n",
    "set_seed(SEED)\n",
    "\n",
    "DEVICE = torch.device(\"cuda\" if torch.cuda.is_available() else \"cpu\")\n",
    "print(f\"Using device: {DEVICE}\")\n",
    "\n",
    "# --- Đường dẫn dữ liệu (Thay đổi nếu cần) ---\n",
    "train_img_dir = r'C:\\Users\\Admin\\Documents\\Python Project\\DPL Crack detection\\UDTIRI-Crack Detection\\train\\image'\n",
    "train_mask_dir = r'C:\\Users\\Admin\\Documents\\Python Project\\DPL Crack detection\\UDTIRI-Crack Detection\\train\\label'\n",
    "val_img_dir = r'C:\\Users\\Admin\\Documents\\Python Project\\DPL Crack detection\\UDTIRI-Crack Detection\\val\\image'\n",
    "val_mask_dir = r'C:\\Users\\Admin\\Documents\\Python Project\\DPL Crack detection\\UDTIRI-Crack Detection\\val\\label'\n",
    "\n",
    "# --- Thu thập đường dẫn tệp ảnh và mask ---\n",
    "train_img_paths = sorted([os.path.join(train_img_dir, f) for f in os.listdir(train_img_dir)])\n",
    "train_mask_paths = sorted([os.path.join(train_mask_dir, f) for f in os.listdir(train_mask_dir)])\n",
    "val_img_paths = sorted([os.path.join(val_img_dir, f) for f in os.listdir(val_img_dir)])\n",
    "val_mask_paths = sorted([os.path.join(val_mask_dir, f) for f in os.listdir(val_mask_dir)])\n"
   ]
  },
  {
   "cell_type": "code",
   "execution_count": 2,
   "id": "2be9ca11",
   "metadata": {},
   "outputs": [],
   "source": [
    "class CrackDetectionDataset(Dataset):\n",
    "    def __init__(self, image_filenames, mask_filenames, transform=None):\n",
    "        self.image_filenames = image_filenames\n",
    "        self.mask_filenames = mask_filenames\n",
    "        self.transform = transform\n",
    "\n",
    "    def __len__(self):\n",
    "        return len(self.image_filenames)\n",
    "\n",
    "    def __getitem__(self, idx):\n",
    "        img = cv2.imread(self.image_filenames[idx])\n",
    "        img = cv2.cvtColor(img, cv2.COLOR_BGR2RGB)\n",
    "        \n",
    "        mask = cv2.imread(self.mask_filenames[idx], cv2.IMREAD_GRAYSCALE)\n",
    "        mask = np.where(mask > 0, 255.0, 0.0).astype(np.float32)\n",
    "\n",
    "        if self.transform:\n",
    "            augmented = self.transform(image=img, mask=mask)\n",
    "            img = augmented['image']\n",
    "            mask = augmented['mask']\n",
    "        \n",
    "        mask = mask / 255.0\n",
    "        mask = mask.unsqueeze(0)\n",
    "\n",
    "        return img, mask\n",
    "\n",
    "train_transform = A.Compose([\n",
    "    A.Resize(IMG_SIZE, IMG_SIZE),\n",
    "    A.HorizontalFlip(p=0.5),\n",
    "    A.VerticalFlip(p=0.5),\n",
    "    A.RandomRotate90(p=0.5),\n",
    "    A.ColorJitter(p=0.2),\n",
    "    A.Normalize(mean=(0.485, 0.456, 0.406), std=(0.229, 0.224, 0.225)),\n",
    "    ToTensorV2(),\n",
    "])\n",
    "\n",
    "val_transform = A.Compose([\n",
    "    A.Resize(IMG_SIZE, IMG_SIZE),\n",
    "    A.Normalize(mean=(0.485, 0.456, 0.406), std=(0.229, 0.224, 0.225)),\n",
    "    ToTensorV2(),\n",
    "])"
   ]
  },
  {
   "cell_type": "code",
   "execution_count": 3,
   "id": "d9a50ae7",
   "metadata": {},
   "outputs": [],
   "source": [
    "class PatchExpanding(nn.Module):\n",
    "    def __init__(self, input_resolution: Tuple[int, int], dim: int, return_vector: bool = True):\n",
    "        super().__init__()\n",
    "        self.input_resolution = input_resolution\n",
    "        self.dim = dim\n",
    "        self.expand = nn.Linear(dim, 2 * dim, bias=False)\n",
    "        self.norm = nn.LayerNorm(dim // 2)\n",
    "        self.return_vector = return_vector\n",
    "\n",
    "    def forward(self, x: torch.Tensor) -> torch.Tensor:\n",
    "        H, W = self.input_resolution\n",
    "        x = x.view(-1, H, W, self.dim)\n",
    "        x = self.expand(x)\n",
    "        B, H, W, C = x.shape\n",
    "        x = x.view(B, H, W, 2, 2, C // 4)\n",
    "        x = x.permute(0, 1, 3, 2, 4, 5).contiguous().view(B, H * 2, W * 2, C // 4)\n",
    "        x = self.norm(x)\n",
    "        if self.return_vector:\n",
    "            x = x.view(B, -1, C // 4)\n",
    "        return x\n",
    "\n",
    "\n",
    "class FinalPatchExpanding(nn.Module):\n",
    "    def __init__(self, dim: int, scale_factor: int = 4):\n",
    "        super().__init__()\n",
    "        self.scale_factor = scale_factor\n",
    "        self.output_dim = dim // scale_factor\n",
    "\n",
    "        expand_dim = self.output_dim * (scale_factor**2)\n",
    "        self.expand = nn.Linear(dim, expand_dim, bias=False)\n",
    "\n",
    "        self.norm = nn.LayerNorm(self.output_dim)\n",
    "\n",
    "    def forward(self, x: torch.Tensor) -> torch.Tensor:\n",
    "        B, L, _ = x.shape\n",
    "        H = W = int(np.sqrt(L))\n",
    "        x_expanded = self.expand(x)\n",
    "\n",
    "        x_reshaped = x_expanded.view(B, H, W, self.scale_factor, self.scale_factor, self.output_dim)\n",
    "\n",
    "        x_permuted = x_reshaped.permute(0, 1, 3, 2, 4, 5).contiguous().view(B, H * self.scale_factor, W * self.scale_factor, self.output_dim)\n",
    "\n",
    "        x_normed = self.norm(x_permuted)\n",
    "\n",
    "        output = x_normed.view(B, -1, self.output_dim)\n",
    "        \n",
    "        return output\n",
    "\n",
    "\n",
    "class SkipAttention(nn.Module):\n",
    "    def __init__(self, query_dim: int, context_dim: Optional[int] = None, num_heads: int = 8, dim_head: int = 64):\n",
    "        super().__init__()\n",
    "        if context_dim is None:\n",
    "            context_dim = query_dim\n",
    "        \n",
    "        self.attn = nn.MultiheadAttention(embed_dim=query_dim, num_heads=num_heads, \n",
    "                                          kdim=context_dim, vdim=context_dim, \n",
    "                                          batch_first=True)\n",
    "        self.norm = nn.LayerNorm(query_dim)\n",
    "\n",
    "    def forward(self, query: torch.Tensor, context: torch.Tensor) -> torch.Tensor:\n",
    "        attn_output, _ = self.attn(query=query, key=context, value=context)\n",
    "        return self.norm(query + attn_output)\n",
    "\n",
    "\n",
    "class ResidualSwinBlock(nn.Module):\n",
    "    def __init__(self, config: SwinConfig, dim: int, input_resolution: Tuple[int, int], num_layers: int, num_heads: int):\n",
    "        super().__init__()\n",
    "        self.layers = nn.ModuleList([\n",
    "            SwinLayer(\n",
    "                config=config, \n",
    "                dim=dim, \n",
    "                input_resolution=input_resolution, \n",
    "                num_heads=num_heads, \n",
    "                shift_size=0 if (i % 2 == 0) else config.window_size // 2\n",
    "            ) for i in range(num_layers)\n",
    "        ])\n",
    "        \n",
    "    def forward(self, x: torch.Tensor, input_resolution: Tuple[int, int]) -> torch.Tensor:\n",
    "        residual = x\n",
    "        for layer in self.layers:\n",
    "            x = layer(x, input_resolution)[0]\n",
    "        return x + residual\n",
    "\n",
    "\n",
    "class iSwinUnet(nn.Module):\n",
    "    def __init__(self, num_classes: int = 1, img_size: int = 320, pretrained: bool = True):\n",
    "        super().__init__()\n",
    "        self.num_classes = num_classes\n",
    "        self.img_size = img_size\n",
    "        \n",
    "        # --- Config ---\n",
    "        config = SwinConfig(image_size=img_size, patch_size=4, window_size=7)\n",
    "        self.config = config\n",
    "        self.encoder_channels = [config.embed_dim * (2**i) for i in range(len(config.depths))]\n",
    "\n",
    "        # --- Encoder ---\n",
    "        self.patch_embed = SwinPatchEmbeddings(config)\n",
    "        self.pos_drop = nn.Dropout(p=config.hidden_dropout_prob)\n",
    "\n",
    "        self.encoder_stage1 = ResidualSwinBlock(config, self.encoder_channels[0], (img_size//4, img_size//4), config.depths[0], config.num_heads[0])\n",
    "        self.merge1 = SwinPatchMerging(input_resolution=(img_size//4, img_size//4), dim=self.encoder_channels[0])\n",
    "        \n",
    "        self.encoder_stage2 = ResidualSwinBlock(config, self.encoder_channels[1], (img_size//8, img_size//8), config.depths[1], config.num_heads[1])\n",
    "        self.merge2 = SwinPatchMerging(input_resolution=(img_size//8, img_size//8), dim=self.encoder_channels[1])\n",
    "\n",
    "        self.encoder_stage3 = ResidualSwinBlock(config, self.encoder_channels[2], (img_size//16, img_size//16), config.depths[2], config.num_heads[2])\n",
    "        self.merge3 = SwinPatchMerging(input_resolution=(img_size//16, img_size//16), dim=self.encoder_channels[2])\n",
    "        \n",
    "        self.bottleneck = ResidualSwinBlock(config, self.encoder_channels[3], (img_size//32, img_size//32), config.depths[3], config.num_heads[3])\n",
    "\n",
    "        self.decoder_expand3 = PatchExpanding(input_resolution=(img_size//32, img_size//32), dim=self.encoder_channels[3])\n",
    "        self.skip_attn3 = SkipAttention(query_dim=self.encoder_channels[2], context_dim=self.encoder_channels[2], num_heads=config.num_heads[2])\n",
    "        self.decoder_stage3 = ResidualSwinBlock(config, self.encoder_channels[2], (img_size//16, img_size//16), config.depths[2], config.num_heads[2])\n",
    "\n",
    "        self.decoder_expand2 = PatchExpanding(input_resolution=(img_size//16, img_size//16), dim=self.encoder_channels[2])\n",
    "        self.skip_attn2 = SkipAttention(query_dim=self.encoder_channels[1], context_dim=self.encoder_channels[1], num_heads=config.num_heads[1])\n",
    "        self.decoder_stage2 = ResidualSwinBlock(config, self.encoder_channels[1], (img_size//8, img_size//8), config.depths[1], config.num_heads[1])\n",
    "\n",
    "        self.decoder_expand1 = PatchExpanding(input_resolution=(img_size//8, img_size//8), dim=self.encoder_channels[1])\n",
    "        self.skip_attn1 = SkipAttention(query_dim=self.encoder_channels[0], context_dim=self.encoder_channels[0], num_heads=config.num_heads[0])\n",
    "        self.decoder_stage1 = ResidualSwinBlock(config, self.encoder_channels[0], (img_size//4, img_size//4), config.depths[0], config.num_heads[0])\n",
    "\n",
    "        self.final_expand = FinalPatchExpanding(dim=self.encoder_channels[0], scale_factor=4)\n",
    "        self.final_conv = nn.Conv2d(self.final_expand.output_dim, num_classes, kernel_size=1)\n",
    "\n",
    "        if pretrained:\n",
    "            self.load_pretrained_weights()\n",
    "\n",
    "    def load_pretrained_weights(self):\n",
    "            print(\"Loading pretrained weights for Swin-Tiny encoder...\")\n",
    "            try:\n",
    "                swin_original = SwinModel.from_pretrained(\"microsoft/swin-tiny-patch4-window7-224\")\n",
    "                original_state_dict = swin_original.state_dict()\n",
    "\n",
    "                model_state_dict = self.state_dict()\n",
    "\n",
    "                prefix_mapping = {\n",
    "                    'embeddings.patch_embeddings': 'patch_embed',\n",
    "                    'encoder.layers.0.downsample': 'merge1',\n",
    "                    'encoder.layers.1.downsample': 'merge2',\n",
    "                    'encoder.layers.2.downsample': 'merge3',\n",
    "                }\n",
    "\n",
    "                stage_mapping = {\n",
    "                    'encoder.layers.0': 'encoder_stage1',\n",
    "                    'encoder.layers.1': 'encoder_stage2',\n",
    "                    'encoder.layers.2': 'encoder_stage3',\n",
    "                    'encoder.layers.3': 'bottleneck',\n",
    "                }\n",
    "\n",
    "                loaded_count = 0\n",
    "                \n",
    "                orig_pos_embed_key = 'embeddings.absolute_position_embedding'\n",
    "                if orig_pos_embed_key in original_state_dict:\n",
    "                    orig_pos_embed = original_state_dict[orig_pos_embed_key]\n",
    "                    target_pos_embed = model_state_dict[orig_pos_embed_key]\n",
    "                    if orig_pos_embed.shape != target_pos_embed.shape:\n",
    "                        print(f\"Interpolating absolute position embedding due to size mismatch...\")\n",
    "                        orig_pos_embed_spatial = orig_pos_embed[0, 1:, :].permute(1, 0)\n",
    "\n",
    "                        H_orig = W_orig = int((orig_pos_embed.shape[1] - 1) ** 0.5)\n",
    "                        orig_pos_embed_spatial = orig_pos_embed_spatial.view(1, -1, H_orig, W_orig)\n",
    "                        H_target = W_target = int((target_pos_embed.shape[1] - 1) ** 0.5)\n",
    "                        interp_pos_embed = nn.functional.interpolate(\n",
    "                            orig_pos_embed_spatial, size=(H_target, W_target), mode='bicubic', align_corners=False\n",
    "                        )\n",
    "                        interp_pos_embed = interp_pos_embed.view(1, -1, H_target * W_target).permute(0, 2, 1)\n",
    "                        # Thêm lại token [CLS]\n",
    "                        final_pos_embed = torch.cat((orig_pos_embed[0, 0:1, :], interp_pos_embed[0]), dim=0).unsqueeze(0)\n",
    "                        model_state_dict[orig_pos_embed_key] = final_pos_embed\n",
    "                        loaded_count += 1\n",
    "                    del original_state_dict[orig_pos_embed_key]\n",
    "\n",
    "                for key_orig, value in original_state_dict.items():\n",
    "                    new_key = None\n",
    "\n",
    "                    if 'pooler' in key_orig:\n",
    "                        continue\n",
    "\n",
    "                    for old_prefix, new_prefix in prefix_mapping.items():\n",
    "                        if key_orig.startswith(old_prefix):\n",
    "                            new_key = key_orig.replace(old_prefix, new_prefix)\n",
    "                            break\n",
    "\n",
    "                    if new_key is None:\n",
    "                        for old_stage_prefix, new_stage_prefix in stage_mapping.items():\n",
    "                            if key_orig.startswith(old_stage_prefix):\n",
    "                                remainder = key_orig[len(old_stage_prefix):]\n",
    "                                if remainder.startswith('.blocks'):\n",
    "                                    remainder = remainder.replace('.blocks', '', 1)\n",
    "                                    new_key = f\"{new_stage_prefix}.layers{remainder}\"\n",
    "                                break\n",
    "\n",
    "                    if new_key is None:\n",
    "                        if key_orig.startswith('embeddings.norm'):\n",
    "                            new_key = key_orig.replace('embeddings.norm', 'patch_embed.norm')\n",
    "                        elif key_orig.startswith('encoder.norm'):\n",
    "                            continue\n",
    "\n",
    "                    if new_key and new_key in model_state_dict and model_state_dict[new_key].shape == value.shape:\n",
    "                        model_state_dict[new_key] = value\n",
    "                        loaded_count += 1\n",
    "                    else:\n",
    "                        pass\n",
    "\n",
    "                self.load_state_dict(model_state_dict, strict=False)\n",
    "\n",
    "                expected_keys = len([k for k in swin_original.state_dict().keys() if 'pooler' not in k and 'encoder.norm' not in k])\n",
    "                print(f\"✅ Successfully loaded {loaded_count}/{expected_keys} tensors from pretrained Swin-Tiny.\")\n",
    "                print(\"   (Any unloaded tensors are expected to be from the decoder and final layers).\")\n",
    "\n",
    "            except Exception as e:\n",
    "                print(f\"❌ ERROR: Could not load pretrained weights. Error: {e}. Training from scratch.\")\n",
    "\n",
    "    def forward(self, x: torch.Tensor) -> torch.Tensor:\n",
    "        s1_skip = self.patch_embed(x)[0]\n",
    "        s1_skip = self.pos_drop(s1_skip)\n",
    "        \n",
    "        s1_out = self.encoder_stage1(s1_skip, (self.img_size//4, self.img_size//4))\n",
    "        s2_in = self.merge1(s1_out, (self.img_size//4, self.img_size//4))\n",
    "        \n",
    "        s2_out = self.encoder_stage2(s2_in, (self.img_size//8, self.img_size//8))\n",
    "        s3_in = self.merge2(s2_out, (self.img_size//8, self.img_size//8))\n",
    "\n",
    "        s3_out = self.encoder_stage3(s3_in, (self.img_size//16, self.img_size//16))\n",
    "        b_in = self.merge3(s3_out, (self.img_size//16, self.img_size//16))\n",
    "        \n",
    "        b_out = self.bottleneck(b_in, (self.img_size//32, self.img_size//32))\n",
    " \n",
    "        d3_in = self.decoder_expand3(b_out)\n",
    "        d3_in = self.skip_attn3(query=d3_in, context=s3_out)\n",
    "        d3_out = self.decoder_stage3(d3_in, (self.img_size//16, self.img_size//16))\n",
    " \n",
    "        d2_in = self.decoder_expand2(d3_out)\n",
    "        d2_in = self.skip_attn2(query=d2_in, context=s2_out)\n",
    "        d2_out = self.decoder_stage2(d2_in, (self.img_size//8, self.img_size//8))\n",
    "\n",
    "        d1_in = self.decoder_expand1(d2_out)\n",
    "        d1_in = self.skip_attn1(query=d1_in, context=s1_out)\n",
    "        d1_out = self.decoder_stage1(d1_in, (self.img_size//4, self.img_size//4))\n",
    "        \n",
    "        final_features = self.final_expand(d1_out)\n",
    "        \n",
    "        B, L, C = final_features.shape\n",
    "        H = W = int(np.sqrt(L))\n",
    "        final_features = final_features.permute(0, 2, 1).contiguous().view(B, C, H, W)\n",
    "        \n",
    "        output = self.final_conv(final_features)\n",
    "        \n",
    "        return output"
   ]
  },
  {
   "cell_type": "code",
   "execution_count": 4,
   "id": "5d61fa44",
   "metadata": {},
   "outputs": [],
   "source": [
    "\n",
    "class IoULoss(nn.Module):\n",
    "    def __init__(self, smooth=1e-6):\n",
    "        super(IoULoss, self).__init__()\n",
    "        self.smooth = smooth\n",
    "\n",
    "    def forward(self, inputs, targets):\n",
    "        inputs = torch.sigmoid(inputs)\n",
    "\n",
    "        inputs = inputs.view(-1)\n",
    "        targets = targets.view(-1)\n",
    "\n",
    "        intersection = (inputs * targets).sum()\n",
    "        total = (inputs + targets).sum()\n",
    "        union = total - intersection\n",
    "        \n",
    "        iou = (intersection + self.smooth) / (union + self.smooth)\n",
    "\n",
    "        return 1 - iou\n",
    "\n",
    "class CombinedLoss(nn.Module):\n",
    "    def __init__(self, pos_weight_value, bce_weight=1.0, iou_weight=1.0):\n",
    "        super(CombinedLoss, self).__init__()\n",
    "        self.bce_weight = bce_weight\n",
    "        self.iou_weight = iou_weight\n",
    "        # pos_weight cần phải là một tensor\n",
    "        self.pos_weight = torch.tensor([pos_weight_value])\n",
    "        # Khởi tạo BCE loss với pos_weight\n",
    "        self.bce_loss = nn.BCEWithLogitsLoss(pos_weight=self.pos_weight)\n",
    "        self.iou_loss = IoULoss()\n",
    "        print(f\"CombinedLoss initialized with BCE weight: {bce_weight}, IoU weight: {iou_weight}\")\n",
    "\n",
    "    def forward(self, inputs, targets):\n",
    "        self.bce_loss.pos_weight = self.bce_loss.pos_weight.to(inputs.device)\n",
    "        \n",
    "        loss_bce = self.bce_loss(inputs, targets)\n",
    "        loss_iou = self.iou_loss(inputs, targets)\n",
    "\n",
    "        combined_loss = self.bce_weight * loss_bce + self.iou_weight * loss_iou\n",
    "        \n",
    "        return combined_loss\n",
    "\n",
    "\n",
    "def calculate_metrics(predicted_masks, true_masks, smooth=1e-6):\n",
    "    predicted_masks = predicted_masks.view(-1)\n",
    "    true_masks = true_masks.view(-1)\n",
    "    \n",
    "    intersection = (predicted_masks * true_masks).sum()\n",
    "    union = (predicted_masks + true_masks).sum() - intersection\n",
    "    \n",
    "    iou = (intersection + smooth) / (union + smooth)\n",
    "    dice = (2. * intersection + smooth) / (predicted_masks.sum() + true_masks.sum() + smooth)\n",
    "    \n",
    "    return iou.item(), dice.item()\n",
    "\n"
   ]
  },
  {
   "cell_type": "code",
   "execution_count": 5,
   "id": "4535732f",
   "metadata": {},
   "outputs": [],
   "source": [
    "def train_model(model, train_loader, val_loader, optimizer, criterion, scheduler, num_epochs, callbacks_config, start_epoch=0, best_val_iou=0.0, history=None):\n",
    "    best_iou = best_val_iou\n",
    "    patience_counter = 0\n",
    "    checkpoint_path = callbacks_config.get('checkpoint_path', 'model_best.pth')\n",
    "    \n",
    "    if history is None:\n",
    "        history = {'train_loss': [], 'val_loss': [], 'train_iou': [], 'val_iou': [], 'lr': []}\n",
    "\n",
    "    for epoch in range(start_epoch, num_epochs):\n",
    "        model.train()\n",
    "        train_loss, train_iou = 0.0, 0.0\n",
    "        \n",
    "        loop = tqdm(train_loader, desc=f\"Epoch {epoch+1}/{num_epochs} [Train]\")\n",
    "        for images, masks in loop:\n",
    "            images, masks = images.to(DEVICE), masks.to(DEVICE)\n",
    "            \n",
    "            optimizer.zero_grad()\n",
    "            outputs = model(images)\n",
    "            loss = criterion(outputs, masks)\n",
    "            loss.backward()\n",
    "            optimizer.step()\n",
    "\n",
    "            train_loss += loss.item()\n",
    "            predicted_masks = (torch.sigmoid(outputs) > 0.5).float()\n",
    "            \n",
    "            batch_iou, _ = calculate_metrics(predicted_masks, masks)\n",
    "            train_iou += batch_iou\n",
    "            \n",
    "            loop.set_postfix(loss=loss.item(), iou=batch_iou)\n",
    "\n",
    "        history['train_loss'].append(train_loss / len(train_loader))\n",
    "        history['train_iou'].append(train_iou / len(train_loader))\n",
    "        \n",
    "        model.eval()\n",
    "        val_loss, val_iou = 0.0, 0.0\n",
    "        \n",
    "        loop = tqdm(val_loader, desc=f\"Epoch {epoch+1}/{num_epochs} [Val]\")\n",
    "        with torch.no_grad():\n",
    "            for images, masks in loop:\n",
    "                images, masks = images.to(DEVICE), masks.to(DEVICE)\n",
    "                outputs = model(images)\n",
    "                loss = criterion(outputs, masks)\n",
    "                \n",
    "                val_loss += loss.item()\n",
    "                predicted_masks = (torch.sigmoid(outputs) > 0.5).float()\n",
    "                \n",
    "                batch_iou, _ = calculate_metrics(predicted_masks, masks)\n",
    "                val_iou += batch_iou\n",
    "\n",
    "        avg_val_loss = val_loss / len(val_loader)\n",
    "        avg_val_iou = val_iou / len(val_loader)\n",
    "        \n",
    "        history['val_loss'].append(avg_val_loss)\n",
    "        history['val_iou'].append(avg_val_iou)\n",
    "        \n",
    "        scheduler.step(avg_val_loss) # Sử dụng validation loss cho scheduler\n",
    "        current_lr = optimizer.param_groups[0]['lr']\n",
    "        history['lr'].append(current_lr)\n",
    "        \n",
    "        print(f\"Epoch {epoch+1} Summary:\")\n",
    "        print(f\"  Train -> Loss: {history['train_loss'][-1]:.4f}, IoU: {history['train_iou'][-1]:.4f}\")\n",
    "        print(f\"  Val   -> Loss: {avg_val_loss:.4f}, IoU: {avg_val_iou:.4f}\")\n",
    "        print(f\"  LR: {current_lr:.8f}\")\n",
    "\n",
    "        if avg_val_iou > best_iou:\n",
    "            best_iou = avg_val_iou\n",
    "            patience_counter = 0\n",
    "            print(f\"🚀 New best validation IoU: {best_iou:.4f}. Saving model...\")\n",
    "            torch.save({\n",
    "                'epoch': epoch,\n",
    "                'model_state_dict': model.state_dict(),\n",
    "                'optimizer_state_dict': optimizer.state_dict(),\n",
    "                'best_val_iou': best_iou,\n",
    "                'scheduler_state_dict': scheduler.state_dict(),\n",
    "                'history': history\n",
    "            }, checkpoint_path)\n",
    "        else:\n",
    "            patience_counter += 1\n",
    "            print(f\"Validation IoU did not improve. Patience: {patience_counter}/{callbacks_config['patience']}\")\n",
    "            if patience_counter >= callbacks_config['patience']:\n",
    "                print(\"Early stopping!\")\n",
    "                break\n",
    "    return history\n",
    "\n",
    "# --- Hàm vẽ biểu đồ (Đã chỉnh sửa chỉ dùng IoU) ---\n",
    "def plot_training_history(history):\n",
    "    epochs = range(1, len(history['train_loss']) + 1)\n",
    "    plt.style.use('seaborn-v0_8-whitegrid')\n",
    "    \n",
    "    # Sửa đổi: Tạo một hàng 3 cột cho 3 biểu đồ\n",
    "    fig, axs = plt.subplots(1, 3, figsize=(22, 6))\n",
    "\n",
    "    # Biểu đồ 1: Loss\n",
    "    axs[0].plot(epochs, history['train_loss'], 'o-', label='Train Loss')\n",
    "    axs[0].plot(epochs, history['val_loss'], 'o-', label='Validation Loss')\n",
    "    axs[0].set_title('Training and Validation Loss')\n",
    "    axs[0].set(xlabel='Epoch', ylabel='Loss')\n",
    "    axs[0].legend()\n",
    "\n",
    "    # Biểu đồ 2: IoU\n",
    "    axs[1].plot(epochs, history['train_iou'], 'o-', label='Train IoU')\n",
    "    axs[1].plot(epochs, history['val_iou'], 'o-', label='Validation IoU')\n",
    "    axs[1].set_title('Training and Validation IoU')\n",
    "    axs[1].set(xlabel='Epoch', ylabel='IoU')\n",
    "    axs[1].legend()\n",
    "\n",
    "    axs[2].plot(epochs, history['lr'], 'o-', label='Learning Rate', color='purple')\n",
    "    axs[2].set_title('Learning Rate per Epoch')\n",
    "    axs[2].set(xlabel='Epoch', ylabel='Learning Rate')\n",
    "    axs[2].legend()\n",
    "\n",
    "    plt.tight_layout()\n",
    "    plt.show()"
   ]
  },
  {
   "cell_type": "code",
   "execution_count": 6,
   "id": "254c0013",
   "metadata": {},
   "outputs": [],
   "source": [
    "from sklearn.metrics import precision_score, recall_score, f1_score, jaccard_score\n",
    "\n",
    "def evaluate_model(model, data_loader, threshold=0.5):\n",
    "    model.eval()\n",
    "    all_preds = []\n",
    "    all_targets = []\n",
    "\n",
    "    with torch.no_grad():\n",
    "        for images, masks in tqdm(data_loader, desc=\"Evaluating\"):\n",
    "            images = images.to(DEVICE)\n",
    "            masks = masks.to(DEVICE)\n",
    "\n",
    "            outputs = model(images)\n",
    "            preds = torch.sigmoid(outputs)\n",
    "\n",
    "            preds = (preds > threshold).float()\n",
    "\n",
    "            all_preds.append(preds.view(-1).cpu().numpy())\n",
    "            all_targets.append(masks.view(-1).cpu().numpy())\n",
    "\n",
    "    all_preds = np.concatenate(all_preds)\n",
    "    all_targets = np.concatenate(all_targets)\n",
    "\n",
    "    precision = precision_score(all_targets, all_preds, zero_division=0)\n",
    "    recall = recall_score(all_targets, all_preds, zero_division=0)\n",
    "    f1 = f1_score(all_targets, all_preds, zero_division=0)\n",
    "    iou = jaccard_score(all_targets, all_preds, zero_division=0)\n",
    "\n",
    "    print(f\"\\n--- Evaluation Metrics ---\")\n",
    "    print(f\"Precision: {precision:.4f}\")\n",
    "    print(f\"Recall:    {recall:.4f}\")\n",
    "    print(f\"F1-score:  {f1:.4f}\")\n",
    "    print(f\"IoU:       {iou:.4f}\")\n"
   ]
  },
  {
   "cell_type": "code",
   "execution_count": null,
   "id": "d0cc7d81",
   "metadata": {},
   "outputs": [
    {
     "name": "stdout",
     "output_type": "stream",
     "text": [
      "Initializing iSwinUnet model (paper version)...\n",
      "Loading pretrained weights for Swin-Tiny encoder...\n",
      "✅ Successfully loaded 227/231 tensors from pretrained Swin-Tiny.\n",
      "   (Any unloaded tensors are expected to be from the decoder and final layers).\n",
      "CombinedLoss initialized with BCE weight: 1.0, IoU weight: 1.0\n",
      "==================================================\n",
      "!!! USING BCEWithLogitsLoss with pos_weight=22 !!!\n",
      "Model has 41,657,773 trainable parameters.\n",
      "==================================================\n",
      "✅ Found initial weights at: iswin_unet_paper_IOU.pth\n",
      "   Loading model weights for fine-tuning. Optimizer and scheduler are reset.\n"
     ]
    },
    {
     "name": "stderr",
     "output_type": "stream",
     "text": [
      "C:\\Users\\Admin\\AppData\\Local\\Temp\\ipykernel_13548\\316635104.py:68: FutureWarning: You are using `torch.load` with `weights_only=False` (the current default value), which uses the default pickle module implicitly. It is possible to construct malicious pickle data which will execute arbitrary code during unpickling (See https://github.com/pytorch/pytorch/blob/main/SECURITY.md#untrusted-models for more details). In a future release, the default value for `weights_only` will be flipped to `True`. This limits the functions that could be executed during unpickling. Arbitrary objects will no longer be allowed to be loaded via this mode unless they are explicitly allowlisted by the user via `torch.serialization.add_safe_globals`. We recommend you start setting `weights_only=True` for any use case where you don't have full control of the loaded file. Please open an issue on GitHub for any issues related to this experimental feature.\n",
      "  checkpoint = torch.load(INITIAL_WEIGHTS_PATH, map_location=DEVICE)\n"
     ]
    },
    {
     "name": "stdout",
     "output_type": "stream",
     "text": [
      "   Starting new training run from Epoch 0.\n",
      "\n",
      "--- Starting Training ---\n"
     ]
    },
    {
     "name": "stderr",
     "output_type": "stream",
     "text": [
      "Epoch 1/200 [Train]: 100%|██████████| 750/750 [03:06<00:00,  4.03it/s, iou=0.879, loss=0.294]\n",
      "Epoch 1/200 [Val]: 100%|██████████| 200/200 [00:21<00:00,  9.44it/s]\n"
     ]
    },
    {
     "name": "stdout",
     "output_type": "stream",
     "text": [
      "Epoch 1 Summary:\n",
      "  Train -> Loss: 0.5984, IoU: 0.6165\n",
      "  Val   -> Loss: 0.9554, IoU: 0.5022\n",
      "  LR: 0.00010000\n",
      "🚀 New best validation IoU: 0.5022. Saving model...\n"
     ]
    },
    {
     "name": "stderr",
     "output_type": "stream",
     "text": [
      "Epoch 2/200 [Train]: 100%|██████████| 750/750 [02:42<00:00,  4.63it/s, iou=0.467, loss=0.663]\n",
      "Epoch 2/200 [Val]: 100%|██████████| 200/200 [00:16<00:00, 12.41it/s]\n"
     ]
    },
    {
     "name": "stdout",
     "output_type": "stream",
     "text": [
      "Epoch 2 Summary:\n",
      "  Train -> Loss: 0.5462, IoU: 0.6233\n",
      "  Val   -> Loss: 0.9469, IoU: 0.4999\n",
      "  LR: 0.00010000\n",
      "Validation IoU did not improve. Patience: 1/20\n"
     ]
    },
    {
     "name": "stderr",
     "output_type": "stream",
     "text": [
      "Epoch 3/200 [Train]: 100%|██████████| 750/750 [02:43<00:00,  4.57it/s, iou=0.685, loss=0.404]\n",
      "Epoch 3/200 [Val]: 100%|██████████| 200/200 [00:15<00:00, 12.79it/s]\n"
     ]
    },
    {
     "name": "stdout",
     "output_type": "stream",
     "text": [
      "Epoch 3 Summary:\n",
      "  Train -> Loss: 0.5369, IoU: 0.6270\n",
      "  Val   -> Loss: 0.9244, IoU: 0.4940\n",
      "  LR: 0.00010000\n",
      "Validation IoU did not improve. Patience: 2/20\n"
     ]
    },
    {
     "name": "stderr",
     "output_type": "stream",
     "text": [
      "Epoch 4/200 [Train]: 100%|██████████| 750/750 [02:45<00:00,  4.54it/s, iou=0.552, loss=0.521]\n",
      "Epoch 4/200 [Val]: 100%|██████████| 200/200 [00:16<00:00, 12.27it/s]\n"
     ]
    },
    {
     "name": "stdout",
     "output_type": "stream",
     "text": [
      "Epoch 4 Summary:\n",
      "  Train -> Loss: 0.5343, IoU: 0.6235\n",
      "  Val   -> Loss: 1.0094, IoU: 0.5035\n",
      "  LR: 0.00010000\n",
      "🚀 New best validation IoU: 0.5035. Saving model...\n"
     ]
    },
    {
     "name": "stderr",
     "output_type": "stream",
     "text": [
      "Epoch 5/200 [Train]: 100%|██████████| 750/750 [02:45<00:00,  4.52it/s, iou=0.635, loss=0.509]\n",
      "Epoch 5/200 [Val]: 100%|██████████| 200/200 [00:15<00:00, 13.01it/s]\n"
     ]
    },
    {
     "name": "stdout",
     "output_type": "stream",
     "text": [
      "Epoch 5 Summary:\n",
      "  Train -> Loss: 0.5314, IoU: 0.6257\n",
      "  Val   -> Loss: 0.9686, IoU: 0.5010\n",
      "  LR: 0.00010000\n",
      "Validation IoU did not improve. Patience: 1/20\n"
     ]
    },
    {
     "name": "stderr",
     "output_type": "stream",
     "text": [
      "Epoch 6/200 [Train]: 100%|██████████| 750/750 [02:39<00:00,  4.69it/s, iou=0.594, loss=0.726]\n",
      "Epoch 6/200 [Val]: 100%|██████████| 200/200 [00:15<00:00, 12.82it/s]\n"
     ]
    },
    {
     "name": "stdout",
     "output_type": "stream",
     "text": [
      "Epoch 6 Summary:\n",
      "  Train -> Loss: 0.5442, IoU: 0.6187\n",
      "  Val   -> Loss: 0.9593, IoU: 0.4962\n",
      "  LR: 0.00010000\n",
      "Validation IoU did not improve. Patience: 2/20\n"
     ]
    },
    {
     "name": "stderr",
     "output_type": "stream",
     "text": [
      "Epoch 7/200 [Train]: 100%|██████████| 750/750 [02:38<00:00,  4.73it/s, iou=0.575, loss=0.577]\n",
      "Epoch 7/200 [Val]: 100%|██████████| 200/200 [00:15<00:00, 12.73it/s]\n"
     ]
    },
    {
     "name": "stdout",
     "output_type": "stream",
     "text": [
      "Epoch 7 Summary:\n",
      "  Train -> Loss: 0.5344, IoU: 0.6211\n",
      "  Val   -> Loss: 0.9766, IoU: 0.5040\n",
      "  LR: 0.00010000\n",
      "🚀 New best validation IoU: 0.5040. Saving model...\n"
     ]
    },
    {
     "name": "stderr",
     "output_type": "stream",
     "text": [
      "Epoch 8/200 [Train]: 100%|██████████| 750/750 [02:39<00:00,  4.71it/s, iou=0.685, loss=0.436] \n",
      "Epoch 8/200 [Val]: 100%|██████████| 200/200 [00:15<00:00, 13.03it/s]\n"
     ]
    },
    {
     "name": "stdout",
     "output_type": "stream",
     "text": [
      "Epoch 8 Summary:\n",
      "  Train -> Loss: 0.5235, IoU: 0.6277\n",
      "  Val   -> Loss: 0.9723, IoU: 0.4982\n",
      "  LR: 0.00010000\n",
      "Validation IoU did not improve. Patience: 1/20\n"
     ]
    },
    {
     "name": "stderr",
     "output_type": "stream",
     "text": [
      "Epoch 9/200 [Train]: 100%|██████████| 750/750 [02:39<00:00,  4.70it/s, iou=0.742, loss=0.37] \n",
      "Epoch 9/200 [Val]: 100%|██████████| 200/200 [00:15<00:00, 13.03it/s]\n"
     ]
    },
    {
     "name": "stdout",
     "output_type": "stream",
     "text": [
      "Epoch 9 Summary:\n",
      "  Train -> Loss: 0.5186, IoU: 0.6310\n",
      "  Val   -> Loss: 0.9955, IoU: 0.5032\n",
      "  LR: 0.00005000\n",
      "Validation IoU did not improve. Patience: 2/20\n"
     ]
    },
    {
     "name": "stderr",
     "output_type": "stream",
     "text": [
      "Epoch 10/200 [Train]: 100%|██████████| 750/750 [02:39<00:00,  4.71it/s, iou=0.486, loss=0.61] \n",
      "Epoch 10/200 [Val]: 100%|██████████| 200/200 [00:15<00:00, 12.89it/s]\n"
     ]
    },
    {
     "name": "stdout",
     "output_type": "stream",
     "text": [
      "Epoch 10 Summary:\n",
      "  Train -> Loss: 0.4968, IoU: 0.6443\n",
      "  Val   -> Loss: 1.0111, IoU: 0.5103\n",
      "  LR: 0.00005000\n",
      "🚀 New best validation IoU: 0.5103. Saving model...\n"
     ]
    },
    {
     "name": "stderr",
     "output_type": "stream",
     "text": [
      "Epoch 11/200 [Train]: 100%|██████████| 750/750 [02:40<00:00,  4.66it/s, iou=0.647, loss=0.462]\n",
      "Epoch 11/200 [Val]: 100%|██████████| 200/200 [00:16<00:00, 12.42it/s]\n"
     ]
    },
    {
     "name": "stdout",
     "output_type": "stream",
     "text": [
      "Epoch 11 Summary:\n",
      "  Train -> Loss: 0.4867, IoU: 0.6519\n",
      "  Val   -> Loss: 0.9713, IoU: 0.5084\n",
      "  LR: 0.00005000\n",
      "Validation IoU did not improve. Patience: 1/20\n"
     ]
    },
    {
     "name": "stderr",
     "output_type": "stream",
     "text": [
      "Epoch 12/200 [Train]: 100%|██████████| 750/750 [02:42<00:00,  4.61it/s, iou=0.704, loss=0.429] \n",
      "Epoch 12/200 [Val]: 100%|██████████| 200/200 [00:15<00:00, 12.73it/s]\n"
     ]
    },
    {
     "name": "stdout",
     "output_type": "stream",
     "text": [
      "Epoch 12 Summary:\n",
      "  Train -> Loss: 0.4850, IoU: 0.6526\n",
      "  Val   -> Loss: 0.9929, IoU: 0.5110\n",
      "  LR: 0.00005000\n",
      "🚀 New best validation IoU: 0.5110. Saving model...\n"
     ]
    },
    {
     "name": "stderr",
     "output_type": "stream",
     "text": [
      "Epoch 13/200 [Train]: 100%|██████████| 750/750 [02:42<00:00,  4.61it/s, iou=0.697, loss=0.413] \n",
      "Epoch 13/200 [Val]: 100%|██████████| 200/200 [00:16<00:00, 12.19it/s]\n"
     ]
    },
    {
     "name": "stdout",
     "output_type": "stream",
     "text": [
      "Epoch 13 Summary:\n",
      "  Train -> Loss: 0.4798, IoU: 0.6538\n",
      "  Val   -> Loss: 1.0042, IoU: 0.5149\n",
      "  LR: 0.00005000\n",
      "🚀 New best validation IoU: 0.5149. Saving model...\n"
     ]
    },
    {
     "name": "stderr",
     "output_type": "stream",
     "text": [
      "Epoch 14/200 [Train]: 100%|██████████| 750/750 [02:43<00:00,  4.58it/s, iou=0.657, loss=0.459] \n",
      "Epoch 14/200 [Val]: 100%|██████████| 200/200 [00:15<00:00, 12.96it/s]\n"
     ]
    },
    {
     "name": "stdout",
     "output_type": "stream",
     "text": [
      "Epoch 14 Summary:\n",
      "  Train -> Loss: 0.4713, IoU: 0.6622\n",
      "  Val   -> Loss: 1.0655, IoU: 0.5160\n",
      "  LR: 0.00005000\n",
      "🚀 New best validation IoU: 0.5160. Saving model...\n"
     ]
    },
    {
     "name": "stderr",
     "output_type": "stream",
     "text": [
      "Epoch 15/200 [Train]: 100%|██████████| 750/750 [02:45<00:00,  4.53it/s, iou=0.613, loss=0.477] \n",
      "Epoch 15/200 [Val]: 100%|██████████| 200/200 [00:16<00:00, 12.19it/s]\n"
     ]
    },
    {
     "name": "stdout",
     "output_type": "stream",
     "text": [
      "Epoch 15 Summary:\n",
      "  Train -> Loss: 0.4670, IoU: 0.6642\n",
      "  Val   -> Loss: 1.0434, IoU: 0.5148\n",
      "  LR: 0.00002500\n",
      "Validation IoU did not improve. Patience: 1/20\n"
     ]
    },
    {
     "name": "stderr",
     "output_type": "stream",
     "text": [
      "Epoch 16/200 [Train]: 100%|██████████| 750/750 [02:48<00:00,  4.44it/s, iou=0.663, loss=0.482]\n",
      "Epoch 16/200 [Val]: 100%|██████████| 200/200 [00:15<00:00, 12.98it/s]\n"
     ]
    },
    {
     "name": "stdout",
     "output_type": "stream",
     "text": [
      "Epoch 16 Summary:\n",
      "  Train -> Loss: 0.4567, IoU: 0.6709\n",
      "  Val   -> Loss: 1.0484, IoU: 0.5151\n",
      "  LR: 0.00002500\n",
      "Validation IoU did not improve. Patience: 2/20\n"
     ]
    },
    {
     "name": "stderr",
     "output_type": "stream",
     "text": [
      "Epoch 17/200 [Train]: 100%|██████████| 750/750 [02:44<00:00,  4.57it/s, iou=0.831, loss=0.271] \n",
      "Epoch 17/200 [Val]: 100%|██████████| 200/200 [00:15<00:00, 12.60it/s]\n"
     ]
    },
    {
     "name": "stdout",
     "output_type": "stream",
     "text": [
      "Epoch 17 Summary:\n",
      "  Train -> Loss: 0.4496, IoU: 0.6759\n",
      "  Val   -> Loss: 1.0429, IoU: 0.5141\n",
      "  LR: 0.00002500\n",
      "Validation IoU did not improve. Patience: 3/20\n"
     ]
    },
    {
     "name": "stderr",
     "output_type": "stream",
     "text": [
      "Epoch 18/200 [Train]: 100%|██████████| 750/750 [02:43<00:00,  4.60it/s, iou=0.732, loss=0.386]\n",
      "Epoch 18/200 [Val]: 100%|██████████| 200/200 [00:15<00:00, 12.52it/s]\n"
     ]
    },
    {
     "name": "stdout",
     "output_type": "stream",
     "text": [
      "Epoch 18 Summary:\n",
      "  Train -> Loss: 0.4416, IoU: 0.6829\n",
      "  Val   -> Loss: 1.0416, IoU: 0.5150\n",
      "  LR: 0.00002500\n",
      "Validation IoU did not improve. Patience: 4/20\n"
     ]
    },
    {
     "name": "stderr",
     "output_type": "stream",
     "text": [
      "Epoch 19/200 [Train]: 100%|██████████| 750/750 [02:44<00:00,  4.56it/s, iou=0.678, loss=0.415]\n",
      "Epoch 19/200 [Val]: 100%|██████████| 200/200 [00:16<00:00, 12.24it/s]\n"
     ]
    },
    {
     "name": "stdout",
     "output_type": "stream",
     "text": [
      "Epoch 19 Summary:\n",
      "  Train -> Loss: 0.4450, IoU: 0.6778\n",
      "  Val   -> Loss: 1.0692, IoU: 0.5165\n",
      "  LR: 0.00002500\n",
      "🚀 New best validation IoU: 0.5165. Saving model...\n"
     ]
    },
    {
     "name": "stderr",
     "output_type": "stream",
     "text": [
      "Epoch 20/200 [Train]: 100%|██████████| 750/750 [02:44<00:00,  4.55it/s, iou=0.814, loss=0.247] \n",
      "Epoch 20/200 [Val]: 100%|██████████| 200/200 [00:16<00:00, 12.12it/s]\n"
     ]
    },
    {
     "name": "stdout",
     "output_type": "stream",
     "text": [
      "Epoch 20 Summary:\n",
      "  Train -> Loss: 0.4368, IoU: 0.6858\n",
      "  Val   -> Loss: 1.0608, IoU: 0.5192\n",
      "  LR: 0.00002500\n",
      "🚀 New best validation IoU: 0.5192. Saving model...\n"
     ]
    },
    {
     "name": "stderr",
     "output_type": "stream",
     "text": [
      "Epoch 21/200 [Train]: 100%|██████████| 750/750 [02:44<00:00,  4.56it/s, iou=0.702, loss=0.417]\n",
      "Epoch 21/200 [Val]: 100%|██████████| 200/200 [00:16<00:00, 12.35it/s]\n"
     ]
    },
    {
     "name": "stdout",
     "output_type": "stream",
     "text": [
      "Epoch 21 Summary:\n",
      "  Train -> Loss: 0.4412, IoU: 0.6807\n",
      "  Val   -> Loss: 1.0180, IoU: 0.5116\n",
      "  LR: 0.00001250\n",
      "Validation IoU did not improve. Patience: 1/20\n"
     ]
    },
    {
     "name": "stderr",
     "output_type": "stream",
     "text": [
      "Epoch 22/200 [Train]: 100%|██████████| 750/750 [02:42<00:00,  4.62it/s, iou=0.766, loss=0.309] \n",
      "Epoch 22/200 [Val]: 100%|██████████| 200/200 [00:16<00:00, 12.06it/s]\n"
     ]
    },
    {
     "name": "stdout",
     "output_type": "stream",
     "text": [
      "Epoch 22 Summary:\n",
      "  Train -> Loss: 0.4311, IoU: 0.6876\n",
      "  Val   -> Loss: 1.0684, IoU: 0.5181\n",
      "  LR: 0.00001250\n",
      "Validation IoU did not improve. Patience: 2/20\n"
     ]
    },
    {
     "name": "stderr",
     "output_type": "stream",
     "text": [
      "Epoch 23/200 [Train]: 100%|██████████| 750/750 [02:42<00:00,  4.61it/s, iou=0.756, loss=0.295] \n",
      "Epoch 23/200 [Val]: 100%|██████████| 200/200 [00:16<00:00, 12.37it/s]\n"
     ]
    },
    {
     "name": "stdout",
     "output_type": "stream",
     "text": [
      "Epoch 23 Summary:\n",
      "  Train -> Loss: 0.4338, IoU: 0.6860\n",
      "  Val   -> Loss: 1.0567, IoU: 0.5167\n",
      "  LR: 0.00001250\n",
      "Validation IoU did not improve. Patience: 3/20\n"
     ]
    },
    {
     "name": "stderr",
     "output_type": "stream",
     "text": [
      "Epoch 24/200 [Train]: 100%|██████████| 750/750 [02:43<00:00,  4.57it/s, iou=0.853, loss=0.272] \n",
      "Epoch 24/200 [Val]: 100%|██████████| 200/200 [00:15<00:00, 12.72it/s]\n"
     ]
    },
    {
     "name": "stdout",
     "output_type": "stream",
     "text": [
      "Epoch 24 Summary:\n",
      "  Train -> Loss: 0.4262, IoU: 0.6917\n",
      "  Val   -> Loss: 1.0902, IoU: 0.5184\n",
      "  LR: 0.00001250\n",
      "Validation IoU did not improve. Patience: 4/20\n"
     ]
    },
    {
     "name": "stderr",
     "output_type": "stream",
     "text": [
      "Epoch 25/200 [Train]: 100%|██████████| 750/750 [02:42<00:00,  4.62it/s, iou=0.74, loss=0.42]   \n",
      "Epoch 25/200 [Val]: 100%|██████████| 200/200 [00:15<00:00, 12.51it/s]\n"
     ]
    },
    {
     "name": "stdout",
     "output_type": "stream",
     "text": [
      "Epoch 25 Summary:\n",
      "  Train -> Loss: 0.4207, IoU: 0.6947\n",
      "  Val   -> Loss: 1.1048, IoU: 0.5170\n",
      "  LR: 0.00001250\n",
      "Validation IoU did not improve. Patience: 5/20\n"
     ]
    },
    {
     "name": "stderr",
     "output_type": "stream",
     "text": [
      "Epoch 26/200 [Train]: 100%|██████████| 750/750 [02:40<00:00,  4.66it/s, iou=0.894, loss=0.192] \n",
      "Epoch 26/200 [Val]: 100%|██████████| 200/200 [00:15<00:00, 13.01it/s]\n"
     ]
    },
    {
     "name": "stdout",
     "output_type": "stream",
     "text": [
      "Epoch 26 Summary:\n",
      "  Train -> Loss: 0.4181, IoU: 0.6984\n",
      "  Val   -> Loss: 1.1073, IoU: 0.5182\n",
      "  LR: 0.00001250\n",
      "Validation IoU did not improve. Patience: 6/20\n"
     ]
    },
    {
     "name": "stderr",
     "output_type": "stream",
     "text": [
      "Epoch 27/200 [Train]: 100%|██████████| 750/750 [02:39<00:00,  4.69it/s, iou=0.643, loss=0.463] \n",
      "Epoch 27/200 [Val]: 100%|██████████| 200/200 [00:15<00:00, 13.30it/s]\n"
     ]
    },
    {
     "name": "stdout",
     "output_type": "stream",
     "text": [
      "Epoch 27 Summary:\n",
      "  Train -> Loss: 0.4189, IoU: 0.6950\n",
      "  Val   -> Loss: 1.0676, IoU: 0.5144\n",
      "  LR: 0.00000625\n",
      "Validation IoU did not improve. Patience: 7/20\n"
     ]
    },
    {
     "name": "stderr",
     "output_type": "stream",
     "text": [
      "Epoch 28/200 [Train]: 100%|██████████| 750/750 [02:37<00:00,  4.77it/s, iou=0.629, loss=0.472]\n",
      "Epoch 28/200 [Val]: 100%|██████████| 200/200 [00:15<00:00, 12.86it/s]\n"
     ]
    },
    {
     "name": "stdout",
     "output_type": "stream",
     "text": [
      "Epoch 28 Summary:\n",
      "  Train -> Loss: 0.4125, IoU: 0.7020\n",
      "  Val   -> Loss: 1.0970, IoU: 0.5172\n",
      "  LR: 0.00000625\n",
      "Validation IoU did not improve. Patience: 8/20\n"
     ]
    },
    {
     "name": "stderr",
     "output_type": "stream",
     "text": [
      "Epoch 29/200 [Train]: 100%|██████████| 750/750 [02:37<00:00,  4.76it/s, iou=0.71, loss=0.45]   \n",
      "Epoch 29/200 [Val]: 100%|██████████| 200/200 [00:15<00:00, 13.15it/s]\n"
     ]
    },
    {
     "name": "stdout",
     "output_type": "stream",
     "text": [
      "Epoch 29 Summary:\n",
      "  Train -> Loss: 0.4180, IoU: 0.6972\n",
      "  Val   -> Loss: 1.1094, IoU: 0.5193\n",
      "  LR: 0.00000625\n",
      "🚀 New best validation IoU: 0.5193. Saving model...\n"
     ]
    },
    {
     "name": "stderr",
     "output_type": "stream",
     "text": [
      "Epoch 30/200 [Train]: 100%|██████████| 750/750 [02:43<00:00,  4.59it/s, iou=0.809, loss=0.314] \n",
      "Epoch 30/200 [Val]: 100%|██████████| 200/200 [00:16<00:00, 12.26it/s]\n"
     ]
    },
    {
     "name": "stdout",
     "output_type": "stream",
     "text": [
      "Epoch 30 Summary:\n",
      "  Train -> Loss: 0.4118, IoU: 0.7003\n",
      "  Val   -> Loss: 1.1029, IoU: 0.5167\n",
      "  LR: 0.00000625\n",
      "Validation IoU did not improve. Patience: 1/20\n"
     ]
    },
    {
     "name": "stderr",
     "output_type": "stream",
     "text": [
      "Epoch 31/200 [Train]: 100%|██████████| 750/750 [02:53<00:00,  4.32it/s, iou=0.873, loss=0.169] \n",
      "Epoch 31/200 [Val]: 100%|██████████| 200/200 [00:17<00:00, 11.26it/s]\n"
     ]
    },
    {
     "name": "stdout",
     "output_type": "stream",
     "text": [
      "Epoch 31 Summary:\n",
      "  Train -> Loss: 0.4107, IoU: 0.7022\n",
      "  Val   -> Loss: 1.1195, IoU: 0.5180\n",
      "  LR: 0.00000625\n",
      "Validation IoU did not improve. Patience: 2/20\n"
     ]
    },
    {
     "name": "stderr",
     "output_type": "stream",
     "text": [
      "Epoch 32/200 [Train]: 100%|██████████| 750/750 [02:47<00:00,  4.49it/s, iou=0.786, loss=0.326] \n",
      "Epoch 32/200 [Val]: 100%|██████████| 200/200 [00:16<00:00, 12.01it/s]\n"
     ]
    },
    {
     "name": "stdout",
     "output_type": "stream",
     "text": [
      "Epoch 32 Summary:\n",
      "  Train -> Loss: 0.4098, IoU: 0.7035\n",
      "  Val   -> Loss: 1.1019, IoU: 0.5185\n",
      "  LR: 0.00000625\n",
      "Validation IoU did not improve. Patience: 3/20\n"
     ]
    },
    {
     "name": "stderr",
     "output_type": "stream",
     "text": [
      "Epoch 33/200 [Train]: 100%|██████████| 750/750 [02:52<00:00,  4.35it/s, iou=0.913, loss=0.137] \n",
      "Epoch 33/200 [Val]: 100%|██████████| 200/200 [00:16<00:00, 12.05it/s]\n"
     ]
    },
    {
     "name": "stdout",
     "output_type": "stream",
     "text": [
      "Epoch 33 Summary:\n",
      "  Train -> Loss: 0.4103, IoU: 0.7025\n",
      "  Val   -> Loss: 1.1289, IoU: 0.5187\n",
      "  LR: 0.00000313\n",
      "Validation IoU did not improve. Patience: 4/20\n"
     ]
    },
    {
     "name": "stderr",
     "output_type": "stream",
     "text": [
      "Epoch 34/200 [Train]: 100%|██████████| 750/750 [02:46<00:00,  4.49it/s, iou=0.926, loss=0.141] \n",
      "Epoch 34/200 [Val]: 100%|██████████| 200/200 [00:17<00:00, 11.59it/s]\n"
     ]
    },
    {
     "name": "stdout",
     "output_type": "stream",
     "text": [
      "Epoch 34 Summary:\n",
      "  Train -> Loss: 0.4045, IoU: 0.7074\n",
      "  Val   -> Loss: 1.1205, IoU: 0.5186\n",
      "  LR: 0.00000313\n",
      "Validation IoU did not improve. Patience: 5/20\n"
     ]
    },
    {
     "name": "stderr",
     "output_type": "stream",
     "text": [
      "Epoch 35/200 [Train]: 100%|██████████| 750/750 [02:45<00:00,  4.53it/s, iou=0.661, loss=0.511] \n",
      "Epoch 35/200 [Val]: 100%|██████████| 200/200 [00:15<00:00, 12.52it/s]\n"
     ]
    },
    {
     "name": "stdout",
     "output_type": "stream",
     "text": [
      "Epoch 35 Summary:\n",
      "  Train -> Loss: 0.4081, IoU: 0.7028\n",
      "  Val   -> Loss: 1.1296, IoU: 0.5182\n",
      "  LR: 0.00000313\n",
      "Validation IoU did not improve. Patience: 6/20\n"
     ]
    },
    {
     "name": "stderr",
     "output_type": "stream",
     "text": [
      "Epoch 36/200 [Train]: 100%|██████████| 750/750 [02:46<00:00,  4.52it/s, iou=0.611, loss=0.616]\n",
      "Epoch 36/200 [Val]: 100%|██████████| 200/200 [00:16<00:00, 12.29it/s]\n"
     ]
    },
    {
     "name": "stdout",
     "output_type": "stream",
     "text": [
      "Epoch 36 Summary:\n",
      "  Train -> Loss: 0.4080, IoU: 0.7032\n",
      "  Val   -> Loss: 1.1160, IoU: 0.5175\n",
      "  LR: 0.00000313\n",
      "Validation IoU did not improve. Patience: 7/20\n"
     ]
    },
    {
     "name": "stderr",
     "output_type": "stream",
     "text": [
      "Epoch 37/200 [Train]: 100%|██████████| 750/750 [02:44<00:00,  4.57it/s, iou=0.736, loss=0.331] \n",
      "Epoch 37/200 [Val]: 100%|██████████| 200/200 [00:15<00:00, 12.90it/s]\n"
     ]
    },
    {
     "name": "stdout",
     "output_type": "stream",
     "text": [
      "Epoch 37 Summary:\n",
      "  Train -> Loss: 0.4067, IoU: 0.7048\n",
      "  Val   -> Loss: 1.1139, IoU: 0.5179\n",
      "  LR: 0.00000313\n",
      "Validation IoU did not improve. Patience: 8/20\n"
     ]
    },
    {
     "name": "stderr",
     "output_type": "stream",
     "text": [
      "Epoch 38/200 [Train]: 100%|██████████| 750/750 [02:48<00:00,  4.45it/s, iou=0.78, loss=0.285]  \n",
      "Epoch 38/200 [Val]: 100%|██████████| 200/200 [00:17<00:00, 11.50it/s]\n"
     ]
    },
    {
     "name": "stdout",
     "output_type": "stream",
     "text": [
      "Epoch 38 Summary:\n",
      "  Train -> Loss: 0.4002, IoU: 0.7111\n",
      "  Val   -> Loss: 1.1153, IoU: 0.5176\n",
      "  LR: 0.00000313\n",
      "Validation IoU did not improve. Patience: 9/20\n"
     ]
    },
    {
     "name": "stderr",
     "output_type": "stream",
     "text": [
      "Epoch 39/200 [Train]: 100%|██████████| 750/750 [02:44<00:00,  4.55it/s, iou=0.803, loss=0.305] \n",
      "Epoch 39/200 [Val]: 100%|██████████| 200/200 [00:15<00:00, 12.74it/s]\n"
     ]
    },
    {
     "name": "stdout",
     "output_type": "stream",
     "text": [
      "Epoch 39 Summary:\n",
      "  Train -> Loss: 0.4034, IoU: 0.7068\n",
      "  Val   -> Loss: 1.1144, IoU: 0.5182\n",
      "  LR: 0.00000156\n",
      "Validation IoU did not improve. Patience: 10/20\n"
     ]
    },
    {
     "name": "stderr",
     "output_type": "stream",
     "text": [
      "Epoch 40/200 [Train]: 100%|██████████| 750/750 [02:44<00:00,  4.56it/s, iou=0.795, loss=0.28]  \n",
      "Epoch 40/200 [Val]: 100%|██████████| 200/200 [00:16<00:00, 12.43it/s]\n"
     ]
    },
    {
     "name": "stdout",
     "output_type": "stream",
     "text": [
      "Epoch 40 Summary:\n",
      "  Train -> Loss: 0.4085, IoU: 0.7029\n",
      "  Val   -> Loss: 1.1234, IoU: 0.5189\n",
      "  LR: 0.00000156\n",
      "Validation IoU did not improve. Patience: 11/20\n"
     ]
    },
    {
     "name": "stderr",
     "output_type": "stream",
     "text": [
      "Epoch 41/200 [Train]: 100%|██████████| 750/750 [02:41<00:00,  4.63it/s, iou=0.868, loss=0.189] \n",
      "Epoch 41/200 [Val]: 100%|██████████| 200/200 [00:15<00:00, 12.78it/s]\n"
     ]
    },
    {
     "name": "stdout",
     "output_type": "stream",
     "text": [
      "Epoch 41 Summary:\n",
      "  Train -> Loss: 0.3994, IoU: 0.7108\n",
      "  Val   -> Loss: 1.1261, IoU: 0.5184\n",
      "  LR: 0.00000156\n",
      "Validation IoU did not improve. Patience: 12/20\n"
     ]
    },
    {
     "name": "stderr",
     "output_type": "stream",
     "text": [
      "Epoch 42/200 [Train]: 100%|██████████| 750/750 [02:40<00:00,  4.67it/s, iou=0.657, loss=0.449]\n",
      "Epoch 42/200 [Val]: 100%|██████████| 200/200 [00:15<00:00, 12.62it/s]\n"
     ]
    },
    {
     "name": "stdout",
     "output_type": "stream",
     "text": [
      "Epoch 42 Summary:\n",
      "  Train -> Loss: 0.3989, IoU: 0.7112\n",
      "  Val   -> Loss: 1.1249, IoU: 0.5182\n",
      "  LR: 0.00000156\n",
      "Validation IoU did not improve. Patience: 13/20\n"
     ]
    },
    {
     "name": "stderr",
     "output_type": "stream",
     "text": [
      "Epoch 43/200 [Train]: 100%|██████████| 750/750 [02:42<00:00,  4.62it/s, iou=0.825, loss=0.247]\n",
      "Epoch 43/200 [Val]: 100%|██████████| 200/200 [00:15<00:00, 12.89it/s]\n"
     ]
    },
    {
     "name": "stdout",
     "output_type": "stream",
     "text": [
      "Epoch 43 Summary:\n",
      "  Train -> Loss: 0.3960, IoU: 0.7135\n",
      "  Val   -> Loss: 1.1336, IoU: 0.5186\n",
      "  LR: 0.00000156\n",
      "Validation IoU did not improve. Patience: 14/20\n"
     ]
    },
    {
     "name": "stderr",
     "output_type": "stream",
     "text": [
      "Epoch 44/200 [Train]: 100%|██████████| 750/750 [02:38<00:00,  4.73it/s, iou=0.857, loss=0.233] \n",
      "Epoch 44/200 [Val]: 100%|██████████| 200/200 [00:16<00:00, 12.44it/s]\n"
     ]
    },
    {
     "name": "stdout",
     "output_type": "stream",
     "text": [
      "Epoch 44 Summary:\n",
      "  Train -> Loss: 0.4032, IoU: 0.7069\n",
      "  Val   -> Loss: 1.1252, IoU: 0.5181\n",
      "  LR: 0.00000156\n",
      "Validation IoU did not improve. Patience: 15/20\n"
     ]
    },
    {
     "name": "stderr",
     "output_type": "stream",
     "text": [
      "Epoch 45/200 [Train]: 100%|██████████| 750/750 [02:42<00:00,  4.62it/s, iou=0.769, loss=0.323] \n",
      "Epoch 45/200 [Val]: 100%|██████████| 200/200 [00:15<00:00, 12.99it/s]\n"
     ]
    },
    {
     "name": "stdout",
     "output_type": "stream",
     "text": [
      "Epoch 45 Summary:\n",
      "  Train -> Loss: 0.3983, IoU: 0.7107\n",
      "  Val   -> Loss: 1.1315, IoU: 0.5186\n",
      "  LR: 0.00000078\n",
      "Validation IoU did not improve. Patience: 16/20\n"
     ]
    },
    {
     "name": "stderr",
     "output_type": "stream",
     "text": [
      "Epoch 46/200 [Train]: 100%|██████████| 750/750 [02:39<00:00,  4.71it/s, iou=0.7, loss=0.444]   \n",
      "Epoch 46/200 [Val]: 100%|██████████| 200/200 [00:15<00:00, 13.01it/s]\n"
     ]
    },
    {
     "name": "stdout",
     "output_type": "stream",
     "text": [
      "Epoch 46 Summary:\n",
      "  Train -> Loss: 0.4032, IoU: 0.7067\n",
      "  Val   -> Loss: 1.1289, IoU: 0.5183\n",
      "  LR: 0.00000078\n",
      "Validation IoU did not improve. Patience: 17/20\n"
     ]
    },
    {
     "name": "stderr",
     "output_type": "stream",
     "text": [
      "Epoch 47/200 [Train]: 100%|██████████| 750/750 [02:39<00:00,  4.71it/s, iou=0.861, loss=0.205] \n",
      "Epoch 47/200 [Val]: 100%|██████████| 200/200 [00:15<00:00, 12.53it/s]\n"
     ]
    },
    {
     "name": "stdout",
     "output_type": "stream",
     "text": [
      "Epoch 47 Summary:\n",
      "  Train -> Loss: 0.3984, IoU: 0.7096\n",
      "  Val   -> Loss: 1.1338, IoU: 0.5182\n",
      "  LR: 0.00000078\n",
      "Validation IoU did not improve. Patience: 18/20\n"
     ]
    },
    {
     "name": "stderr",
     "output_type": "stream",
     "text": [
      "Epoch 48/200 [Train]: 100%|██████████| 750/750 [02:37<00:00,  4.76it/s, iou=0.624, loss=0.44]  \n",
      "Epoch 48/200 [Val]: 100%|██████████| 200/200 [00:15<00:00, 12.96it/s]\n"
     ]
    },
    {
     "name": "stdout",
     "output_type": "stream",
     "text": [
      "Epoch 48 Summary:\n",
      "  Train -> Loss: 0.3961, IoU: 0.7127\n",
      "  Val   -> Loss: 1.1376, IoU: 0.5185\n",
      "  LR: 0.00000078\n",
      "Validation IoU did not improve. Patience: 19/20\n"
     ]
    },
    {
     "name": "stderr",
     "output_type": "stream",
     "text": [
      "Epoch 49/200 [Train]: 100%|██████████| 750/750 [02:42<00:00,  4.61it/s, iou=0.529, loss=0.609] \n",
      "Epoch 49/200 [Val]: 100%|██████████| 200/200 [00:16<00:00, 12.49it/s]\n"
     ]
    },
    {
     "name": "stdout",
     "output_type": "stream",
     "text": [
      "Epoch 49 Summary:\n",
      "  Train -> Loss: 0.4070, IoU: 0.7038\n",
      "  Val   -> Loss: 1.1311, IoU: 0.5185\n",
      "  LR: 0.00000078\n",
      "Validation IoU did not improve. Patience: 20/20\n",
      "Early stopping!\n",
      "\n",
      "--- Training complete. ---\n",
      "Plotting training history...\n"
     ]
    },
    {
     "data": {
      "image/png": "[encoded data removed]",
      "text/plain": [
       "<Figure size 2200x600 with 3 Axes>"
      ]
     },
     "metadata": {},
     "output_type": "display_data"
    },
    {
     "name": "stdout",
     "output_type": "stream",
     "text": [
      "\n",
      "--- Evaluating the best model on the validation set ---\n"
     ]
    },
    {
     "name": "stderr",
     "output_type": "stream",
     "text": [
      "C:\\Users\\Admin\\AppData\\Local\\Temp\\ipykernel_13548\\316635104.py:95: FutureWarning: You are using `torch.load` with `weights_only=False` (the current default value), which uses the default pickle module implicitly. It is possible to construct malicious pickle data which will execute arbitrary code during unpickling (See https://github.com/pytorch/pytorch/blob/main/SECURITY.md#untrusted-models for more details). In a future release, the default value for `weights_only` will be flipped to `True`. This limits the functions that could be executed during unpickling. Arbitrary objects will no longer be allowed to be loaded via this mode unless they are explicitly allowlisted by the user via `torch.serialization.add_safe_globals`. We recommend you start setting `weights_only=True` for any use case where you don't have full control of the loaded file. Please open an issue on GitHub for any issues related to this experimental feature.\n",
      "  model.load_state_dict(torch.load(NEW_CHECKPOINT_PATH)['model_state_dict'])\n",
      "Evaluating: 100%|██████████| 200/200 [00:16<00:00, 12.02it/s]\n"
     ]
    },
    {
     "name": "stdout",
     "output_type": "stream",
     "text": [
      "\n",
      "--- Evaluation Metrics ---\n",
      "Precision: 0.6527\n",
      "Recall:    0.8099\n",
      "F1-score:  0.7229\n",
      "IoU:       0.5660\n"
     ]
    }
   ],
   "source": [
    "if __name__ == '__main__':\n",
    "    # --- Chuẩn bị dữ liệu ---\n",
    "    train_img_paths = sorted([os.path.join(train_img_dir, f) for f in os.listdir(train_img_dir)])\n",
    "    train_mask_paths = sorted([os.path.join(train_mask_dir, f) for f in os.listdir(train_mask_dir)])\n",
    "    val_img_paths = sorted([os.path.join(val_img_dir, f) for f in os.listdir(val_img_dir)])\n",
    "    val_mask_paths = sorted([os.path.join(val_mask_dir, f) for f in os.listdir(val_mask_dir)])\n",
    "\n",
    "    train_transform = A.Compose([\n",
    "        A.Resize(IMG_SIZE, IMG_SIZE),\n",
    "        A.HorizontalFlip(p=0.5), A.VerticalFlip(p=0.5), A.RandomRotate90(p=0.5),\n",
    "        A.ColorJitter(p=0.2),\n",
    "        A.Normalize(mean=(0.485, 0.456, 0.406), std=(0.229, 0.224, 0.225)),\n",
    "        ToTensorV2(),\n",
    "    ])\n",
    "\n",
    "    val_transform = A.Compose([\n",
    "        A.Resize(IMG_SIZE, IMG_SIZE),\n",
    "        A.Normalize(mean=(0.485, 0.456, 0.406), std=(0.229, 0.224, 0.225)),\n",
    "        ToTensorV2(),\n",
    "    ])\n",
    "\n",
    "    train_dataset = CrackDetectionDataset(train_img_paths, train_mask_paths, transform=train_transform)\n",
    "    val_dataset = CrackDetectionDataset(val_img_paths, val_mask_paths, transform=val_transform)\n",
    "\n",
    "    train_loader = DataLoader(train_dataset, batch_size=BATCH_SIZE, shuffle=True, num_workers=0, pin_memory=True)\n",
    "    val_loader = DataLoader(val_dataset, batch_size=BATCH_SIZE, shuffle=False, num_workers=0, pin_memory=True)\n",
    "\n",
    "    # --- Khởi tạo Model, Optimizer, Loss ---\n",
    "    print(\"Initializing iSwinUnet model (paper version)...\")\n",
    "    model = iSwinUnet(num_classes=1, img_size=IMG_SIZE, pretrained=True).to(DEVICE)\n",
    "    \n",
    "    optimizer = torch.optim.AdamW(model.parameters(), lr=LEARNING_RATE, weight_decay=1e-3)\n",
    "    scheduler = torch.optim.lr_scheduler.ReduceLROnPlateau(optimizer, mode='min', factor=0.5, patience=5, min_lr=1e-7)\n",
    "    \n",
    "    pos_weight_value = 22\n",
    "    criterion = CombinedLoss(pos_weight_value=pos_weight_value).to(DEVICE)\n",
    "    \n",
    "    print(\"=\"*50)\n",
    "    print(f\"!!! USING BCEWithLogitsLoss with pos_weight={pos_weight_value} !!!\")\n",
    "    print(f\"Model has {sum(p.numel() for p in model.parameters() if p.requires_grad):,} trainable parameters.\")\n",
    "    print(\"=\"*50)\n",
    "\n",
    "    INITIAL_WEIGHTS_PATH = 'iswin_unet_paper_IOU.pth'\n",
    "    # Đường dẫn tệp checkpoint mới cho lần train này (với CombinedLoss)\n",
    "    NEW_CHECKPOINT_PATH = 'bce_iou_paper.pth'\n",
    "    \n",
    "    callbacks_config = {'patience': 20, 'checkpoint_path': NEW_CHECKPOINT_PATH}\n",
    "    start_epoch, best_val_iou, history = 0, 0.0, None\n",
    "\n",
    "    if os.path.exists(NEW_CHECKPOINT_PATH):\n",
    "        print(f\"✅ Resuming training from existing checkpoint: {NEW_CHECKPOINT_PATH}\")\n",
    "        checkpoint = torch.load(NEW_CHECKPOINT_PATH, map_location=DEVICE)\n",
    "        model.load_state_dict(checkpoint['model_state_dict'])\n",
    "        optimizer.load_state_dict(checkpoint.get('optimizer_state_dict'))\n",
    "        scheduler.load_state_dict(checkpoint.get('scheduler_state_dict'))\n",
    "        start_epoch = checkpoint.get('epoch', 0) + 1\n",
    "        best_val_iou = checkpoint.get('best_val_iou', 0.0)\n",
    "        history = checkpoint.get('history')\n",
    "        print(f\"   Resuming from Epoch {start_epoch}. Best Val IoU so far: {best_val_iou:.4f}\")\n",
    "    elif os.path.exists(INITIAL_WEIGHTS_PATH):\n",
    "        print(f\"✅ Found initial weights at: {INITIAL_WEIGHTS_PATH}\")\n",
    "        print(\"   Loading model weights for fine-tuning. Optimizer and scheduler are reset.\")\n",
    "        checkpoint = torch.load(INITIAL_WEIGHTS_PATH, map_location=DEVICE)\n",
    "        # Chỉ tải trọng số mô hình, không tải optimizer, epoch,...\n",
    "        model.load_state_dict(checkpoint['model_state_dict'])\n",
    "        print(\"   Starting new training run from Epoch 0.\")\n",
    "    else:\n",
    "        print(f\"⚠️ No checkpoints found at '{NEW_CHECKPOINT_PATH}' or '{INITIAL_WEIGHTS_PATH}'.\")\n",
    "        print(\"   Loading default Swin-Tiny weights from Hugging Face for the encoder.\")\n",
    "        model.load_pretrained_weights()\n",
    "        print(\"   Starting new training run from scratch (Epoch 0).\")\n",
    "\n",
    "\n",
    "    print(f\"\\n--- Starting Training ---\")\n",
    "    training_history = train_model(\n",
    "        model, train_loader, val_loader, optimizer, criterion, scheduler,\n",
    "        num_epochs=NUM_EPOCHS, callbacks_config=callbacks_config,\n",
    "        start_epoch=start_epoch, best_val_iou=best_val_iou, history=history\n",
    "    )\n",
    "    \n",
    "    print(\"\\n--- Training complete. ---\")\n",
    "\n",
    "    # --- Vẽ biểu đồ và Đánh giá ---\n",
    "    if training_history and len(training_history['train_loss']) > 0:\n",
    "        print(\"Plotting training history...\")\n",
    "        plot_training_history(training_history)\n",
    "        \n",
    "        # Đánh giá trên tập validation với mô hình tốt nhất đã lưu\n",
    "        print(\"\\n--- Evaluating the best model on the validation set ---\")\n",
    "        model.load_state_dict(torch.load(NEW_CHECKPOINT_PATH)['model_state_dict'])\n",
    "        evaluate_model(model, val_loader, threshold=0.5)\n",
    "    else:\n",
    "        print(\"No training history available to plot.\")"
   ]
  },
  {
   "cell_type": "code",
   "execution_count": 8,
   "id": "5c074acc",
   "metadata": {},
   "outputs": [
    {
     "name": "stderr",
     "output_type": "stream",
     "text": [
      "Collecting predictions: 100%|██████████| 200/200 [00:16<00:00, 12.28it/s]\n"
     ]
    },
    {
     "name": "stdout",
     "output_type": "stream",
     "text": [
      "\n",
      "=== Threshold Tốt Nhất ===\n",
      "[F1]  Best at threshold = 0.88 | F1 = 0.7318\n",
      "[IoU] Best at threshold = 0.88 | IoU = 0.5770\n"
     ]
    }
   ],
   "source": [
    "thresholds = np.arange(0.65, 1, 0.005)\n",
    "all_preds_raw = []\n",
    "all_targets = []\n",
    "\n",
    "model.eval()\n",
    "with torch.no_grad():\n",
    "    for images, masks in tqdm(val_loader, desc=\"Collecting predictions\"):\n",
    "        images = images.to(DEVICE)\n",
    "        masks = masks.to(DEVICE)\n",
    "\n",
    "        outputs = model(images)\n",
    "        probs = torch.sigmoid(outputs)\n",
    "\n",
    "        all_preds_raw.append(probs.view(-1).cpu().numpy())\n",
    "        all_targets.append(masks.view(-1).cpu().numpy())\n",
    "\n",
    "all_preds_raw = np.concatenate(all_preds_raw)\n",
    "all_targets = np.concatenate(all_targets)\n",
    "\n",
    "metrics = {'threshold': [], 'precision': [], 'recall': [], 'f1': [], 'iou': []}\n",
    "\n",
    "for t in thresholds:\n",
    "    preds_bin = (all_preds_raw > t).astype(np.uint8)\n",
    "\n",
    "    precision = precision_score(all_targets, preds_bin, zero_division=0)\n",
    "    recall = recall_score(all_targets, preds_bin, zero_division=0)\n",
    "    f1 = f1_score(all_targets, preds_bin, zero_division=0)\n",
    "    iou = jaccard_score(all_targets, preds_bin, zero_division=0)\n",
    "\n",
    "    metrics['threshold'].append(t)\n",
    "    metrics['precision'].append(precision)\n",
    "    metrics['recall'].append(recall)\n",
    "    metrics['f1'].append(f1)\n",
    "    metrics['iou'].append(iou)\n",
    "\n",
    "best_f1_idx = int(np.argmax(metrics['f1']))\n",
    "best_iou_idx = int(np.argmax(metrics['iou']))\n",
    "\n",
    "print(\"\\n=== Threshold Tốt Nhất ===\")\n",
    "print(f\"[F1]  Best at threshold = {metrics['threshold'][best_f1_idx]:.2f} | F1 = {metrics['f1'][best_f1_idx]:.4f}\")\n",
    "print(f\"[IoU] Best at threshold = {metrics['threshold'][best_iou_idx]:.2f} | IoU = {metrics['iou'][best_iou_idx]:.4f}\")"
   ]
  },
  {
   "cell_type": "code",
   "execution_count": 9,
   "id": "655c13dc",
   "metadata": {},
   "outputs": [
    {
     "data": {
      "image/png": "[encoded data removed]",
      "text/plain": [
       "<Figure size 2500x1600 with 1 Axes>"
      ]
     },
     "metadata": {},
     "output_type": "display_data"
    }
   ],
   "source": [
    "x = [round(t, 2) for t in metrics['threshold']]\n",
    "x_idx = np.arange(len(x))\n",
    "width = 0.15\n",
    "\n",
    "plt.figure(figsize=(25, 16))\n",
    "plt.bar(x_idx - width, metrics['precision'], width=width, label='Precision')\n",
    "plt.bar(x_idx, metrics['f1'], width=width, label='F1-score')\n",
    "plt.bar(x_idx + width, metrics['iou'], width=width, label='IoU')\n",
    "\n",
    "plt.xticks(x_idx, x)\n",
    "plt.xlabel('Threshold')\n",
    "plt.ylabel('Score')\n",
    "plt.title('Segmentation Metrics at Different Thresholds')\n",
    "plt.legend()\n",
    "plt.grid(True, linestyle='--', alpha=0.5)\n",
    "plt.tight_layout()\n",
    "plt.show()"
   ]
  }
 ],
 "metadata": {
  "kernelspec": {
   "display_name": "tf",
   "language": "python",
   "name": "python3"
  },
  "language_info": {
   "codemirror_mode": {
    "name": "ipython",
    "version": 3
   },
   "file_extension": ".py",
   "mimetype": "text/x-python",
   "name": "python",
   "nbconvert_exporter": "python",
   "pygments_lexer": "ipython3",
   "version": "3.10.18"
  }
 },
 "nbformat": 4,
 "nbformat_minor": 5
}
